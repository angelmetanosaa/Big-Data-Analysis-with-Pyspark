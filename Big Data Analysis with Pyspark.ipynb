{
  "nbformat": 4,
  "nbformat_minor": 0,
  "metadata": {
    "colab": {
      "provenance": [],
      "collapsed_sections": [
        "8VMJn_fk7d08",
        "WrAXIZ8e7rDI",
        "y_7tjbYY7qi2",
        "l9fzaMXymhHF",
        "kMZ60lQ_nauD",
        "H06AqQJBng-C",
        "DGynQcskqFd4",
        "X60nGvAzxLDg",
        "WBhA7puSxQWa",
        "c9LHlLp4xVg9"
      ]
    },
    "kernelspec": {
      "name": "python3",
      "display_name": "Python 3"
    },
    "language_info": {
      "name": "python"
    }
  },
  "cells": [
    {
      "cell_type": "markdown",
      "source": [
        "**ANGEL METANOSA AFINDA (NIM: 2301212013)**"
      ],
      "metadata": {
        "id": "r7j3BWrC7UGu"
      }
    },
    {
      "cell_type": "markdown",
      "source": [
        "## **Setup Apache for Spark**"
      ],
      "metadata": {
        "id": "8VMJn_fk7d08"
      }
    },
    {
      "cell_type": "code",
      "source": [
        "!pip install pyspark"
      ],
      "metadata": {
        "colab": {
          "base_uri": "https://localhost:8080/"
        },
        "id": "uxaq3h_NHGOf",
        "outputId": "7ff27d44-6eab-46ca-a207-9f611821ca1c"
      },
      "execution_count": null,
      "outputs": [
        {
          "output_type": "stream",
          "name": "stdout",
          "text": [
            "Looking in indexes: https://pypi.org/simple, https://us-python.pkg.dev/colab-wheels/public/simple/\n",
            "Requirement already satisfied: pyspark in /usr/local/lib/python3.8/dist-packages (3.3.1)\n",
            "Requirement already satisfied: py4j==0.10.9.5 in /usr/local/lib/python3.8/dist-packages (from pyspark) (0.10.9.5)\n"
          ]
        }
      ]
    },
    {
      "cell_type": "code",
      "source": [
        "# install java\n",
        "!apt-get install openjdk-8-jdk-headless -qq > /dev/null\n",
        "\n",
        "# install spark (change the version number if needed)\n",
        "!wget -q https://archive.apache.org/dist/spark/spark-3.0.0/spark-3.0.0-bin-hadoop3.2.tgz\n",
        "\n",
        "# unzip the spark file to the current folder\n",
        "!tar xf spark-3.0.0-bin-hadoop3.2.tgz\n",
        "\n",
        "# set your spark folder to your system path environment. \n",
        "import os\n",
        "os.environ[\"JAVA_HOME\"] = \"/usr/lib/jvm/java-8-openjdk-amd64\"\n",
        "os.environ[\"SPARK_HOME\"] = \"/content/spark-3.0.0-bin-hadoop3.2\"\n",
        "\n",
        "\n",
        "# install findspark using pip\n",
        "!pip install -q findspark"
      ],
      "metadata": {
        "id": "gRNtf0Lp7k2B"
      },
      "execution_count": null,
      "outputs": []
    },
    {
      "cell_type": "code",
      "source": [
        "import findspark\n",
        "findspark.init()"
      ],
      "metadata": {
        "id": "iOi1Bcq47m6A"
      },
      "execution_count": null,
      "outputs": []
    },
    {
      "cell_type": "code",
      "source": [
        "from pyspark.sql import SparkSession\n",
        "\n",
        "spark = SparkSession.builder\\\n",
        "        .master(\"local\")\\\n",
        "        .appName(\"Colab\")\\\n",
        "        .config('spark.ui.port', '4050')\\\n",
        "        .getOrCreate()"
      ],
      "metadata": {
        "id": "e1taE43y7o3U"
      },
      "execution_count": null,
      "outputs": []
    },
    {
      "cell_type": "markdown",
      "source": [
        "# **Import Library**"
      ],
      "metadata": {
        "id": "WrAXIZ8e7rDI"
      }
    },
    {
      "cell_type": "code",
      "source": [
        "import pandas as pd\n",
        "import numpy as np\n",
        "from matplotlib import pyplot as plt  # Untuk visualisasi\n",
        "import seaborn as sns                 # Untuk visualisasi\n",
        "plt.style.use(\"seaborn\")\n",
        "\n",
        "from pyspark.ml.clustering import KMeans\n",
        "from pyspark.ml.evaluation import ClusteringEvaluator"
      ],
      "metadata": {
        "id": "5HMlTt_beHxp"
      },
      "execution_count": null,
      "outputs": []
    },
    {
      "cell_type": "markdown",
      "source": [
        "# **Import and Load Dataset**"
      ],
      "metadata": {
        "id": "y_7tjbYY7qi2"
      }
    },
    {
      "cell_type": "code",
      "source": [
        "from google.colab import drive\n",
        "drive.mount('/content/drive')"
      ],
      "metadata": {
        "id": "34XCeQVs755y",
        "colab": {
          "base_uri": "https://localhost:8080/"
        },
        "outputId": "019fa56c-4a6b-46df-b8dc-6da5ba989a19"
      },
      "execution_count": null,
      "outputs": [
        {
          "output_type": "stream",
          "name": "stdout",
          "text": [
            "Drive already mounted at /content/drive; to attempt to forcibly remount, call drive.mount(\"/content/drive\", force_remount=True).\n"
          ]
        }
      ]
    },
    {
      "cell_type": "code",
      "source": [
        "df_super = spark.read.csv(\"/content/drive/MyDrive/Magister Informatika/Big Data Analysis/Assesment 3/50_SupermarketBranches.csv\", header=True, inferSchema=True)\n",
        "df_ads = spark.read.csv(\"/content/drive/MyDrive/Magister Informatika/Big Data Analysis/Assesment 3/Ads_CTR_Optimisation.csv\", header=True, inferSchema=True)\n",
        "df_marketbasket = spark.read.csv(\"/content/drive/MyDrive/Magister Informatika/Big Data Analysis/Assesment 3/Market_Basket_Optimisation.csv\").toDF(\"col1\",\"col2\",\"col3\", \"col4\",\"col5\",\"col6\", \"col7\",\"col8\",\"col9\", \"col10\",\"col11\",\"col12\", \"col13\",\"col14\",\"col15\", \"col16\",\"col17\",\"col18\", \"col19\",\"col20\")\n",
        "df_custmember = spark.read.csv(\"/content/drive/MyDrive/Magister Informatika/Big Data Analysis/Assesment 3/Supermarket_CustomerMembers.csv\", header=True, inferSchema=True)"
      ],
      "metadata": {
        "id": "2MWwSRAme57M"
      },
      "execution_count": null,
      "outputs": []
    },
    {
      "cell_type": "markdown",
      "source": [
        "# **Data Exploration**"
      ],
      "metadata": {
        "id": "QUjY7CV3Fuft"
      }
    },
    {
      "cell_type": "markdown",
      "source": [
        "## Supermarket Branches"
      ],
      "metadata": {
        "id": "l9fzaMXymhHF"
      }
    },
    {
      "cell_type": "code",
      "source": [
        "df_super.printSchema()"
      ],
      "metadata": {
        "colab": {
          "base_uri": "https://localhost:8080/"
        },
        "id": "LrIBc9OEmn-I",
        "outputId": "39eff2ff-e29f-41f3-f3ed-759158a7d4fa"
      },
      "execution_count": null,
      "outputs": [
        {
          "output_type": "stream",
          "name": "stdout",
          "text": [
            "root\n",
            " |-- Advertisement Spend: double (nullable = true)\n",
            " |-- Promotion Spend: double (nullable = true)\n",
            " |-- Administration Spend: double (nullable = true)\n",
            " |-- State: string (nullable = true)\n",
            " |-- Profit: double (nullable = true)\n",
            "\n"
          ]
        }
      ]
    },
    {
      "cell_type": "code",
      "source": [
        "df_super.show(2,False)"
      ],
      "metadata": {
        "colab": {
          "base_uri": "https://localhost:8080/"
        },
        "id": "omuu3jmCglDj",
        "outputId": "c0fceea7-2d27-4815-b327-7d124663b2fb"
      },
      "execution_count": null,
      "outputs": [
        {
          "output_type": "stream",
          "name": "stdout",
          "text": [
            "+-------------------+---------------+--------------------+----------+---------+\n",
            "|Advertisement Spend|Promotion Spend|Administration Spend|State     |Profit   |\n",
            "+-------------------+---------------+--------------------+----------+---------+\n",
            "|165349.2           |136897.8       |471784.1            |New York  |192261.83|\n",
            "|162597.7           |151377.59      |443898.53           |California|191792.06|\n",
            "+-------------------+---------------+--------------------+----------+---------+\n",
            "only showing top 2 rows\n",
            "\n"
          ]
        }
      ]
    },
    {
      "cell_type": "code",
      "source": [
        "df_supermarket = df_super.withColumnRenamed(\"Advertisement Spend\",\"AdvertisementSpend\") \\\n",
        "    .withColumnRenamed(\"Promotion Spend\",\"PromotionSpend\") \\\n",
        "    .withColumnRenamed(\"Administration Spend\",\"AdministrationSpend\")\n",
        "\n",
        "\n",
        "df_supermarket.printSchema()"
      ],
      "metadata": {
        "colab": {
          "base_uri": "https://localhost:8080/"
        },
        "id": "Wg-usYQ4n6Uh",
        "outputId": "3626a620-5c61-4c4e-b27e-38db8ca08782"
      },
      "execution_count": null,
      "outputs": [
        {
          "output_type": "stream",
          "name": "stdout",
          "text": [
            "root\n",
            " |-- AdvertisementSpend: double (nullable = true)\n",
            " |-- PromotionSpend: double (nullable = true)\n",
            " |-- AdministrationSpend: double (nullable = true)\n",
            " |-- State: string (nullable = true)\n",
            " |-- Profit: double (nullable = true)\n",
            "\n"
          ]
        }
      ]
    },
    {
      "cell_type": "code",
      "source": [
        "df_supermarket.show(2,False)"
      ],
      "metadata": {
        "colab": {
          "base_uri": "https://localhost:8080/"
        },
        "id": "fRLvtQiRoe9W",
        "outputId": "0675d967-fe57-4974-ce6d-1b319e62440f"
      },
      "execution_count": null,
      "outputs": [
        {
          "output_type": "stream",
          "name": "stdout",
          "text": [
            "+------------------+--------------+-------------------+----------+---------+\n",
            "|AdvertisementSpend|PromotionSpend|AdministrationSpend|State     |Profit   |\n",
            "+------------------+--------------+-------------------+----------+---------+\n",
            "|165349.2          |136897.8      |471784.1           |New York  |192261.83|\n",
            "|162597.7          |151377.59     |443898.53          |California|191792.06|\n",
            "+------------------+--------------+-------------------+----------+---------+\n",
            "only showing top 2 rows\n",
            "\n"
          ]
        }
      ]
    },
    {
      "cell_type": "code",
      "source": [
        "df_branches = df_supermarket.withColumn('TotalSpending', df_supermarket.AdvertisementSpend + df_supermarket.PromotionSpend + df_supermarket.AdministrationSpend)"
      ],
      "metadata": {
        "id": "kP4p2pxarNsh"
      },
      "execution_count": null,
      "outputs": []
    },
    {
      "cell_type": "code",
      "source": [
        "df_branches.show()"
      ],
      "metadata": {
        "colab": {
          "base_uri": "https://localhost:8080/"
        },
        "id": "BLNLhuxUhkJq",
        "outputId": "3652be2f-14ef-495f-a111-8d333fc86b33"
      },
      "execution_count": null,
      "outputs": [
        {
          "output_type": "stream",
          "name": "stdout",
          "text": [
            "+------------------+--------------+-------------------+----------+---------+------------------+\n",
            "|AdvertisementSpend|PromotionSpend|AdministrationSpend|     State|   Profit|     TotalSpending|\n",
            "+------------------+--------------+-------------------+----------+---------+------------------+\n",
            "|          165349.2|      136897.8|           471784.1|  New York|192261.83|          774031.1|\n",
            "|          162597.7|     151377.59|          443898.53|California|191792.06| 757873.8200000001|\n",
            "|         153441.51|     101145.55|          407934.54|   Florida|191050.39|          662521.6|\n",
            "|         144372.41|     118671.85|          383199.62|  New York|182901.99|         646243.88|\n",
            "|         142107.34|      91391.77|          366168.42|   Florida|166187.94|         599667.53|\n",
            "|          131876.9|      99814.71|          362861.36|  New York|156991.12|         594552.97|\n",
            "|         134615.46|     147198.87|          127716.82|California|156122.51|409531.14999999997|\n",
            "|         130298.13|     145530.06|          323876.68|   Florida| 155752.6|         599704.87|\n",
            "|         120542.52|     148718.95|          311613.29|  New York|152211.77|         580874.76|\n",
            "|         123334.88|     108679.17|          304981.62|California|149759.96| 536995.6699999999|\n",
            "|         101913.08|     110594.11|          229160.95|   Florida|146121.95|         441668.14|\n",
            "|         100671.96|      91790.61|          249744.55|California| 144259.4|         442207.12|\n",
            "|          93863.75|     127320.38|          249839.44|   Florida|141585.52|         471023.57|\n",
            "|          91992.39|     135495.07|          252664.93|California|134307.35|         480152.39|\n",
            "|         119943.24|     156547.42|          256512.92|   Florida|132602.65| 533003.5800000001|\n",
            "|         114523.61|     122616.84|          261776.23|  New York|129917.04|498916.68000000005|\n",
            "|          78013.11|     121597.55|          264346.06|California|126992.93|         463956.72|\n",
            "|          94657.16|     145077.58|          282574.31|  New York|125370.37|         522309.05|\n",
            "|          91749.16|     114175.79|          294919.57|   Florida| 124266.9|         500844.52|\n",
            "|           86419.7|     153514.11|                0.0|  New York|122776.86|         239933.81|\n",
            "+------------------+--------------+-------------------+----------+---------+------------------+\n",
            "only showing top 20 rows\n",
            "\n"
          ]
        }
      ]
    },
    {
      "cell_type": "code",
      "source": [
        "df_supermarket.show"
      ],
      "metadata": {
        "colab": {
          "base_uri": "https://localhost:8080/"
        },
        "id": "fSccmHRDqvmc",
        "outputId": "7030543e-8111-46c1-e383-8f26e63689d2"
      },
      "execution_count": null,
      "outputs": [
        {
          "output_type": "execute_result",
          "data": {
            "text/plain": [
              "<bound method DataFrame.show of DataFrame[AdvertisementSpend: double, PromotionSpend: double, AdministrationSpend: double, State: string, Profit: double]>"
            ]
          },
          "metadata": {},
          "execution_count": 14
        }
      ]
    },
    {
      "cell_type": "code",
      "source": [
        "print((df_supermarket.count(), len(df_supermarket.columns)))"
      ],
      "metadata": {
        "colab": {
          "base_uri": "https://localhost:8080/"
        },
        "id": "B6HwYFBad0Ew",
        "outputId": "2d7a1003-1552-4993-bebc-a273188af7ce"
      },
      "execution_count": null,
      "outputs": [
        {
          "output_type": "stream",
          "name": "stdout",
          "text": [
            "(50, 5)\n"
          ]
        }
      ]
    },
    {
      "cell_type": "code",
      "source": [
        "print(\"Jumlah data sebelum drop null:\", df_supermarket.count())\n",
        "df_supermarket = df_supermarket.na.drop(\"any\")\n",
        "print(\"Jumlah data setelah drop null : \",df_supermarket.count())"
      ],
      "metadata": {
        "colab": {
          "base_uri": "https://localhost:8080/"
        },
        "id": "xSRH8heXF3Wl",
        "outputId": "05319511-3a9a-44e0-d5c2-a446a367c414"
      },
      "execution_count": null,
      "outputs": [
        {
          "output_type": "stream",
          "name": "stdout",
          "text": [
            "Jumlah data sebelum drop null: 50\n",
            "Jumlah data setelah drop null :  50\n"
          ]
        }
      ]
    },
    {
      "cell_type": "code",
      "source": [
        "df_super_pandas = df_supermarket.toPandas()"
      ],
      "metadata": {
        "id": "VGZQwOJ1Z2mQ"
      },
      "execution_count": null,
      "outputs": []
    },
    {
      "cell_type": "code",
      "source": [
        "df_super_pandas['State'].value_counts()"
      ],
      "metadata": {
        "colab": {
          "base_uri": "https://localhost:8080/"
        },
        "id": "O3LltwgNZu6e",
        "outputId": "62ed4d12-7068-49df-e7ba-56d1e4192f48"
      },
      "execution_count": null,
      "outputs": [
        {
          "output_type": "execute_result",
          "data": {
            "text/plain": [
              "New York      17\n",
              "California    17\n",
              "Florida       16\n",
              "Name: State, dtype: int64"
            ]
          },
          "metadata": {},
          "execution_count": 18
        }
      ]
    },
    {
      "cell_type": "markdown",
      "source": [
        "## Ads_CTR_Optimisation"
      ],
      "metadata": {
        "id": "9tJ3M72gnUcI"
      }
    },
    {
      "cell_type": "code",
      "source": [
        "df_ads.printSchema()"
      ],
      "metadata": {
        "colab": {
          "base_uri": "https://localhost:8080/"
        },
        "id": "B9HthDCDnftl",
        "outputId": "7f7305ca-ea49-4e9d-bf14-883560c0ed65"
      },
      "execution_count": null,
      "outputs": [
        {
          "output_type": "stream",
          "name": "stdout",
          "text": [
            "root\n",
            " |-- Ad 1: integer (nullable = true)\n",
            " |-- Ad 2: integer (nullable = true)\n",
            " |-- Ad 3: integer (nullable = true)\n",
            " |-- Ad 4: integer (nullable = true)\n",
            " |-- Ad 5: integer (nullable = true)\n",
            " |-- Ad 6: integer (nullable = true)\n",
            " |-- Ad 7: integer (nullable = true)\n",
            " |-- Ad 8: integer (nullable = true)\n",
            " |-- Ad 9: integer (nullable = true)\n",
            " |-- Ad 10: integer (nullable = true)\n",
            "\n"
          ]
        }
      ]
    },
    {
      "cell_type": "code",
      "source": [
        "df_ads.show(2,False)"
      ],
      "metadata": {
        "colab": {
          "base_uri": "https://localhost:8080/"
        },
        "id": "03MxcWdxnuEi",
        "outputId": "92933d45-0fbf-4e0f-fb68-292611705e0e"
      },
      "execution_count": null,
      "outputs": [
        {
          "output_type": "stream",
          "name": "stdout",
          "text": [
            "+----+----+----+----+----+----+----+----+----+-----+\n",
            "|Ad 1|Ad 2|Ad 3|Ad 4|Ad 5|Ad 6|Ad 7|Ad 8|Ad 9|Ad 10|\n",
            "+----+----+----+----+----+----+----+----+----+-----+\n",
            "|1   |0   |0   |0   |1   |0   |0   |0   |1   |0    |\n",
            "|0   |0   |0   |0   |0   |0   |0   |0   |1   |0    |\n",
            "+----+----+----+----+----+----+----+----+----+-----+\n",
            "only showing top 2 rows\n",
            "\n"
          ]
        }
      ]
    },
    {
      "cell_type": "code",
      "source": [
        "print((df_ads.count(), len(df_ads.columns)))"
      ],
      "metadata": {
        "colab": {
          "base_uri": "https://localhost:8080/"
        },
        "id": "a-jMd70qnxxR",
        "outputId": "2d880968-d83c-4892-e6c4-10b19ef798e1"
      },
      "execution_count": null,
      "outputs": [
        {
          "output_type": "stream",
          "name": "stdout",
          "text": [
            "(10000, 10)\n"
          ]
        }
      ]
    },
    {
      "cell_type": "code",
      "source": [
        "print(\"Jumlah data sebelum drop null:\", df_ads.count())\n",
        "df_ads = df_ads.na.drop(\"any\")\n",
        "print(\"Jumlah data setelah drop null : \",df_ads.count())"
      ],
      "metadata": {
        "colab": {
          "base_uri": "https://localhost:8080/"
        },
        "id": "DHq5oD0Gn1Cn",
        "outputId": "199bb90e-af50-4080-a718-0a61bc0be48d"
      },
      "execution_count": null,
      "outputs": [
        {
          "output_type": "stream",
          "name": "stdout",
          "text": [
            "Jumlah data sebelum drop null: 10000\n",
            "Jumlah data setelah drop null :  10000\n"
          ]
        }
      ]
    },
    {
      "cell_type": "markdown",
      "source": [
        "## **Market Basket Optimization**"
      ],
      "metadata": {
        "id": "kMZ60lQ_nauD"
      }
    },
    {
      "cell_type": "code",
      "source": [
        "df_marketbasket.printSchema()"
      ],
      "metadata": {
        "colab": {
          "base_uri": "https://localhost:8080/"
        },
        "id": "Pm8HZXoVngUn",
        "outputId": "9ab150fc-513e-4d61-d84d-b56aec48085e"
      },
      "execution_count": null,
      "outputs": [
        {
          "output_type": "stream",
          "name": "stdout",
          "text": [
            "root\n",
            " |-- col1: string (nullable = true)\n",
            " |-- col2: string (nullable = true)\n",
            " |-- col3: string (nullable = true)\n",
            " |-- col4: string (nullable = true)\n",
            " |-- col5: string (nullable = true)\n",
            " |-- col6: string (nullable = true)\n",
            " |-- col7: string (nullable = true)\n",
            " |-- col8: string (nullable = true)\n",
            " |-- col9: string (nullable = true)\n",
            " |-- col10: string (nullable = true)\n",
            " |-- col11: string (nullable = true)\n",
            " |-- col12: string (nullable = true)\n",
            " |-- col13: string (nullable = true)\n",
            " |-- col14: string (nullable = true)\n",
            " |-- col15: string (nullable = true)\n",
            " |-- col16: string (nullable = true)\n",
            " |-- col17: string (nullable = true)\n",
            " |-- col18: string (nullable = true)\n",
            " |-- col19: string (nullable = true)\n",
            " |-- col20: string (nullable = true)\n",
            "\n"
          ]
        }
      ]
    },
    {
      "cell_type": "code",
      "source": [
        "df_marketbasket.show(2,False)"
      ],
      "metadata": {
        "colab": {
          "base_uri": "https://localhost:8080/"
        },
        "id": "KYCU2Yx8oo0k",
        "outputId": "0a01e8e6-9bd4-40ad-f690-2c8d13f66f7c"
      },
      "execution_count": null,
      "outputs": [
        {
          "output_type": "stream",
          "name": "stdout",
          "text": [
            "+-------+---------+-------+--------------+------------+----------------+----+--------------+------------+------------+--------------+---------+-----+-----+-------------+------+-----------------+---------------+-------+---------+\n",
            "|col1   |col2     |col3   |col4          |col5        |col6            |col7|col8          |col9        |col10       |col11         |col12    |col13|col14|col15        |col16 |col17            |col18          |col19  |col20    |\n",
            "+-------+---------+-------+--------------+------------+----------------+----+--------------+------------+------------+--------------+---------+-----+-----+-------------+------+-----------------+---------------+-------+---------+\n",
            "|shrimp |almonds  |avocado|vegetables mix|green grapes|whole weat flour|yams|cottage cheese|energy drink|tomato juice|low fat yogurt|green tea|honey|salad|mineral water|salmon|antioxydant juice|frozen smoothie|spinach|olive oil|\n",
            "|burgers|meatballs|eggs   |null          |null        |null            |null|null          |null        |null        |null          |null     |null |null |null         |null  |null             |null           |null   |null     |\n",
            "+-------+---------+-------+--------------+------------+----------------+----+--------------+------------+------------+--------------+---------+-----+-----+-------------+------+-----------------+---------------+-------+---------+\n",
            "only showing top 2 rows\n",
            "\n"
          ]
        }
      ]
    },
    {
      "cell_type": "code",
      "source": [
        "df_marketbasket.count()"
      ],
      "metadata": {
        "colab": {
          "base_uri": "https://localhost:8080/"
        },
        "id": "6GWM0aABpBBI",
        "outputId": "2422f840-75a8-4fe9-dcd0-50f952068e95"
      },
      "execution_count": null,
      "outputs": [
        {
          "output_type": "execute_result",
          "data": {
            "text/plain": [
              "7501"
            ]
          },
          "metadata": {},
          "execution_count": 25
        }
      ]
    },
    {
      "cell_type": "markdown",
      "source": [
        "## Supermarket Customer Member"
      ],
      "metadata": {
        "id": "H06AqQJBng-C"
      }
    },
    {
      "cell_type": "code",
      "source": [
        "df_custmember.printSchema()"
      ],
      "metadata": {
        "colab": {
          "base_uri": "https://localhost:8080/"
        },
        "id": "rIyPz6VWnmj6",
        "outputId": "f752a27d-a8a0-413e-9868-b9fbd810cd9c"
      },
      "execution_count": null,
      "outputs": [
        {
          "output_type": "stream",
          "name": "stdout",
          "text": [
            "root\n",
            " |-- CustomerID: integer (nullable = true)\n",
            " |-- Genre: string (nullable = true)\n",
            " |-- Age: integer (nullable = true)\n",
            " |-- Annual Income (k$): integer (nullable = true)\n",
            " |-- Spending Score (1-100): integer (nullable = true)\n",
            "\n"
          ]
        }
      ]
    },
    {
      "cell_type": "code",
      "source": [
        "df_custmember.show(2,False)"
      ],
      "metadata": {
        "colab": {
          "base_uri": "https://localhost:8080/"
        },
        "id": "vmXokj5gpdca",
        "outputId": "696614ec-aea6-47c2-fd3c-9bcf30b37f3a"
      },
      "execution_count": null,
      "outputs": [
        {
          "output_type": "stream",
          "name": "stdout",
          "text": [
            "+----------+-----+---+------------------+----------------------+\n",
            "|CustomerID|Genre|Age|Annual Income (k$)|Spending Score (1-100)|\n",
            "+----------+-----+---+------------------+----------------------+\n",
            "|1         |Male |19 |15                |39                    |\n",
            "|2         |Male |21 |15                |81                    |\n",
            "+----------+-----+---+------------------+----------------------+\n",
            "only showing top 2 rows\n",
            "\n"
          ]
        }
      ]
    },
    {
      "cell_type": "code",
      "source": [
        "df_custmember.count()"
      ],
      "metadata": {
        "colab": {
          "base_uri": "https://localhost:8080/"
        },
        "id": "ZHFzc1ASphI3",
        "outputId": "ea898185-2c04-4444-c41b-d78ca70cd2cd"
      },
      "execution_count": null,
      "outputs": [
        {
          "output_type": "execute_result",
          "data": {
            "text/plain": [
              "200"
            ]
          },
          "metadata": {},
          "execution_count": 28
        }
      ]
    },
    {
      "cell_type": "code",
      "source": [
        "print(\"Jumlah data sebelum drop null:\", df_custmember.count())\n",
        "df_custmember = df_custmember.na.drop(\"any\")\n",
        "print(\"Jumlah data setelah drop null : \", df_custmember.count())"
      ],
      "metadata": {
        "colab": {
          "base_uri": "https://localhost:8080/"
        },
        "id": "zdB6mx4XpkyL",
        "outputId": "0bf5ecc1-7f34-444f-fa68-66f1247dc1ba"
      },
      "execution_count": null,
      "outputs": [
        {
          "output_type": "stream",
          "name": "stdout",
          "text": [
            "Jumlah data sebelum drop null: 200\n",
            "Jumlah data setelah drop null :  200\n"
          ]
        }
      ]
    },
    {
      "cell_type": "code",
      "source": [
        "#By using col() function\n",
        "from pyspark.sql.functions import col\n",
        "df_branches.select(col(\"Profit\"),col(\"TotalSpending\")).show(2)"
      ],
      "metadata": {
        "colab": {
          "base_uri": "https://localhost:8080/"
        },
        "id": "h8R62N2ZsJ6x",
        "outputId": "66c8dcaf-d194-44a0-9c59-b3cac3c8b2ff"
      },
      "execution_count": null,
      "outputs": [
        {
          "output_type": "stream",
          "name": "stdout",
          "text": [
            "+---------+-----------------+\n",
            "|   Profit|    TotalSpending|\n",
            "+---------+-----------------+\n",
            "|192261.83|         774031.1|\n",
            "|191792.06|757873.8200000001|\n",
            "+---------+-----------------+\n",
            "only showing top 2 rows\n",
            "\n"
          ]
        }
      ]
    },
    {
      "cell_type": "markdown",
      "source": [
        "# Task"
      ],
      "metadata": {
        "id": "CmhKVYnAp_cd"
      }
    },
    {
      "cell_type": "markdown",
      "source": [
        "## Supermarket Branches"
      ],
      "metadata": {
        "id": "DGynQcskqFd4"
      }
    },
    {
      "cell_type": "markdown",
      "source": [
        "### **Load Dataset**"
      ],
      "metadata": {
        "id": "X60nGvAzxLDg"
      }
    },
    {
      "cell_type": "markdown",
      "source": [
        "### **EDA**"
      ],
      "metadata": {
        "id": "Rli_Slf5meQZ"
      }
    },
    {
      "cell_type": "code",
      "source": [
        "df_pandas_branches = df_branches.toPandas()\n",
        "df_pandas_branches.describe()"
      ],
      "metadata": {
        "colab": {
          "base_uri": "https://localhost:8080/",
          "height": 364
        },
        "id": "pal6TBU4b0DX",
        "outputId": "c3b238bf-3d4a-4cb3-9bd4-d7561dc26be4"
      },
      "execution_count": null,
      "outputs": [
        {
          "output_type": "execute_result",
          "data": {
            "text/plain": [
              "       AdvertisementSpend  PromotionSpend  AdministrationSpend         Profit  \\\n",
              "count           50.000000       50.000000            50.000000      50.000000   \n",
              "mean         73721.615600   121344.639600        211025.097800  112012.639200   \n",
              "std          45902.256482    28017.802755        122290.310726   40306.180338   \n",
              "min              0.000000    51283.140000             0.000000   14681.400000   \n",
              "25%          39936.370000   103730.875000        129300.132500   90138.902500   \n",
              "50%          73051.080000   122699.795000        212716.240000  107978.190000   \n",
              "75%         101602.800000   144842.180000        299469.085000  139765.977500   \n",
              "max         165349.200000   182645.560000        471784.100000  192261.830000   \n",
              "\n",
              "       TotalSpending  \n",
              "count      50.000000  \n",
              "mean   406091.353000  \n",
              "std    162419.010502  \n",
              "min     52285.200000  \n",
              "25%    293421.857500  \n",
              "50%    411888.640000  \n",
              "75%    516942.917500  \n",
              "max    774031.100000  "
            ],
            "text/html": [
              "\n",
              "  <div id=\"df-3f002df5-d352-4766-98cb-b80428df5b16\">\n",
              "    <div class=\"colab-df-container\">\n",
              "      <div>\n",
              "<style scoped>\n",
              "    .dataframe tbody tr th:only-of-type {\n",
              "        vertical-align: middle;\n",
              "    }\n",
              "\n",
              "    .dataframe tbody tr th {\n",
              "        vertical-align: top;\n",
              "    }\n",
              "\n",
              "    .dataframe thead th {\n",
              "        text-align: right;\n",
              "    }\n",
              "</style>\n",
              "<table border=\"1\" class=\"dataframe\">\n",
              "  <thead>\n",
              "    <tr style=\"text-align: right;\">\n",
              "      <th></th>\n",
              "      <th>AdvertisementSpend</th>\n",
              "      <th>PromotionSpend</th>\n",
              "      <th>AdministrationSpend</th>\n",
              "      <th>Profit</th>\n",
              "      <th>TotalSpending</th>\n",
              "    </tr>\n",
              "  </thead>\n",
              "  <tbody>\n",
              "    <tr>\n",
              "      <th>count</th>\n",
              "      <td>50.000000</td>\n",
              "      <td>50.000000</td>\n",
              "      <td>50.000000</td>\n",
              "      <td>50.000000</td>\n",
              "      <td>50.000000</td>\n",
              "    </tr>\n",
              "    <tr>\n",
              "      <th>mean</th>\n",
              "      <td>73721.615600</td>\n",
              "      <td>121344.639600</td>\n",
              "      <td>211025.097800</td>\n",
              "      <td>112012.639200</td>\n",
              "      <td>406091.353000</td>\n",
              "    </tr>\n",
              "    <tr>\n",
              "      <th>std</th>\n",
              "      <td>45902.256482</td>\n",
              "      <td>28017.802755</td>\n",
              "      <td>122290.310726</td>\n",
              "      <td>40306.180338</td>\n",
              "      <td>162419.010502</td>\n",
              "    </tr>\n",
              "    <tr>\n",
              "      <th>min</th>\n",
              "      <td>0.000000</td>\n",
              "      <td>51283.140000</td>\n",
              "      <td>0.000000</td>\n",
              "      <td>14681.400000</td>\n",
              "      <td>52285.200000</td>\n",
              "    </tr>\n",
              "    <tr>\n",
              "      <th>25%</th>\n",
              "      <td>39936.370000</td>\n",
              "      <td>103730.875000</td>\n",
              "      <td>129300.132500</td>\n",
              "      <td>90138.902500</td>\n",
              "      <td>293421.857500</td>\n",
              "    </tr>\n",
              "    <tr>\n",
              "      <th>50%</th>\n",
              "      <td>73051.080000</td>\n",
              "      <td>122699.795000</td>\n",
              "      <td>212716.240000</td>\n",
              "      <td>107978.190000</td>\n",
              "      <td>411888.640000</td>\n",
              "    </tr>\n",
              "    <tr>\n",
              "      <th>75%</th>\n",
              "      <td>101602.800000</td>\n",
              "      <td>144842.180000</td>\n",
              "      <td>299469.085000</td>\n",
              "      <td>139765.977500</td>\n",
              "      <td>516942.917500</td>\n",
              "    </tr>\n",
              "    <tr>\n",
              "      <th>max</th>\n",
              "      <td>165349.200000</td>\n",
              "      <td>182645.560000</td>\n",
              "      <td>471784.100000</td>\n",
              "      <td>192261.830000</td>\n",
              "      <td>774031.100000</td>\n",
              "    </tr>\n",
              "  </tbody>\n",
              "</table>\n",
              "</div>\n",
              "      <button class=\"colab-df-convert\" onclick=\"convertToInteractive('df-3f002df5-d352-4766-98cb-b80428df5b16')\"\n",
              "              title=\"Convert this dataframe to an interactive table.\"\n",
              "              style=\"display:none;\">\n",
              "        \n",
              "  <svg xmlns=\"http://www.w3.org/2000/svg\" height=\"24px\"viewBox=\"0 0 24 24\"\n",
              "       width=\"24px\">\n",
              "    <path d=\"M0 0h24v24H0V0z\" fill=\"none\"/>\n",
              "    <path d=\"M18.56 5.44l.94 2.06.94-2.06 2.06-.94-2.06-.94-.94-2.06-.94 2.06-2.06.94zm-11 1L8.5 8.5l.94-2.06 2.06-.94-2.06-.94L8.5 2.5l-.94 2.06-2.06.94zm10 10l.94 2.06.94-2.06 2.06-.94-2.06-.94-.94-2.06-.94 2.06-2.06.94z\"/><path d=\"M17.41 7.96l-1.37-1.37c-.4-.4-.92-.59-1.43-.59-.52 0-1.04.2-1.43.59L10.3 9.45l-7.72 7.72c-.78.78-.78 2.05 0 2.83L4 21.41c.39.39.9.59 1.41.59.51 0 1.02-.2 1.41-.59l7.78-7.78 2.81-2.81c.8-.78.8-2.07 0-2.86zM5.41 20L4 18.59l7.72-7.72 1.47 1.35L5.41 20z\"/>\n",
              "  </svg>\n",
              "      </button>\n",
              "      \n",
              "  <style>\n",
              "    .colab-df-container {\n",
              "      display:flex;\n",
              "      flex-wrap:wrap;\n",
              "      gap: 12px;\n",
              "    }\n",
              "\n",
              "    .colab-df-convert {\n",
              "      background-color: #E8F0FE;\n",
              "      border: none;\n",
              "      border-radius: 50%;\n",
              "      cursor: pointer;\n",
              "      display: none;\n",
              "      fill: #1967D2;\n",
              "      height: 32px;\n",
              "      padding: 0 0 0 0;\n",
              "      width: 32px;\n",
              "    }\n",
              "\n",
              "    .colab-df-convert:hover {\n",
              "      background-color: #E2EBFA;\n",
              "      box-shadow: 0px 1px 2px rgba(60, 64, 67, 0.3), 0px 1px 3px 1px rgba(60, 64, 67, 0.15);\n",
              "      fill: #174EA6;\n",
              "    }\n",
              "\n",
              "    [theme=dark] .colab-df-convert {\n",
              "      background-color: #3B4455;\n",
              "      fill: #D2E3FC;\n",
              "    }\n",
              "\n",
              "    [theme=dark] .colab-df-convert:hover {\n",
              "      background-color: #434B5C;\n",
              "      box-shadow: 0px 1px 3px 1px rgba(0, 0, 0, 0.15);\n",
              "      filter: drop-shadow(0px 1px 2px rgba(0, 0, 0, 0.3));\n",
              "      fill: #FFFFFF;\n",
              "    }\n",
              "  </style>\n",
              "\n",
              "      <script>\n",
              "        const buttonEl =\n",
              "          document.querySelector('#df-3f002df5-d352-4766-98cb-b80428df5b16 button.colab-df-convert');\n",
              "        buttonEl.style.display =\n",
              "          google.colab.kernel.accessAllowed ? 'block' : 'none';\n",
              "\n",
              "        async function convertToInteractive(key) {\n",
              "          const element = document.querySelector('#df-3f002df5-d352-4766-98cb-b80428df5b16');\n",
              "          const dataTable =\n",
              "            await google.colab.kernel.invokeFunction('convertToInteractive',\n",
              "                                                     [key], {});\n",
              "          if (!dataTable) return;\n",
              "\n",
              "          const docLinkHtml = 'Like what you see? Visit the ' +\n",
              "            '<a target=\"_blank\" href=https://colab.research.google.com/notebooks/data_table.ipynb>data table notebook</a>'\n",
              "            + ' to learn more about interactive tables.';\n",
              "          element.innerHTML = '';\n",
              "          dataTable['output_type'] = 'display_data';\n",
              "          await google.colab.output.renderOutput(dataTable, element);\n",
              "          const docLink = document.createElement('div');\n",
              "          docLink.innerHTML = docLinkHtml;\n",
              "          element.appendChild(docLink);\n",
              "        }\n",
              "      </script>\n",
              "    </div>\n",
              "  </div>\n",
              "  "
            ]
          },
          "metadata": {},
          "execution_count": 31
        }
      ]
    },
    {
      "cell_type": "code",
      "source": [
        "df_california = df_pandas_branches[df_pandas_branches['State']=='California']\n",
        "df_florida = df_pandas_branches[df_pandas_branches['State']=='Florida']\n",
        "df_newyork = df_pandas_branches[df_pandas_branches['State']=='New York']"
      ],
      "metadata": {
        "id": "gyvrY63jb8nj"
      },
      "execution_count": null,
      "outputs": []
    },
    {
      "cell_type": "code",
      "source": [
        "profit_cali = df_california['Profit'].sum()\n",
        "spend_cali = df_california['TotalSpending'].sum()\n",
        "\n",
        "profit_flo = df_florida['Profit'].sum()\n",
        "spend_flo = df_florida['TotalSpending'].sum()\n",
        "\n",
        "profit_ny = df_newyork['Profit'].sum()\n",
        "spend_ny = df_newyork['TotalSpending'].sum()"
      ],
      "metadata": {
        "id": "0WnL7wKjbYth"
      },
      "execution_count": null,
      "outputs": []
    },
    {
      "cell_type": "code",
      "source": [
        "print('Total Profit California            =', profit_cali)\n",
        "print('Total Pengeluaran California       =', spend_cali)\n",
        "print('Total Pendapatan Cabang California =', profit_cali + spend_cali)\n",
        "print()\n",
        "print('Total Profit Florida               =', profit_flo)\n",
        "print('Total Pengeluaran Florida          =', spend_flo)\n",
        "print('Total Pendapatan Florida           =', profit_flo + spend_flo)\n",
        "print()\n",
        "print('Total Profit New York              =', profit_ny)\n",
        "print('Total Pengeluaran New York         =', spend_ny)\n",
        "print('Total Pendapatan New York          =', profit_ny + spend_ny)"
      ],
      "metadata": {
        "colab": {
          "base_uri": "https://localhost:8080/"
        },
        "id": "sJZSV1DjcZWV",
        "outputId": "8cbccdab-4c09-49d2-bc9c-74764eecda51"
      },
      "execution_count": null,
      "outputs": [
        {
          "output_type": "stream",
          "name": "stdout",
          "text": [
            "Total Profit California            = 1766387.98\n",
            "Total Pengeluaran California       = 6255066.88\n",
            "Total Pendapatan Cabang California = 8021454.859999999\n",
            "\n",
            "Total Profit Florida               = 1900384.39\n",
            "Total Pengeluaran Florida          = 7197063.44\n",
            "Total Pendapatan Florida           = 9097447.83\n",
            "\n",
            "Total Profit New York              = 1933859.5899999996\n",
            "Total Pengeluaran New York         = 6852437.329999999\n",
            "Total Pendapatan New York          = 8786296.919999998\n"
          ]
        }
      ]
    },
    {
      "cell_type": "code",
      "source": [
        "perc_profit_cali = (profit_cali/(profit_cali + spend_cali))*100\n",
        "perc_profit_flo = (profit_flo/(profit_flo + spend_flo))*100\n",
        "perc_profit_ny = (profit_ny/(profit_ny + spend_ny))*100\n",
        "\n",
        "print('Margin Bersih Cabang California    = ', perc_profit_cali, \"%\")\n",
        "print('Margin Bersih Cabang Florida       = ', perc_profit_flo, \"%\")\n",
        "print('Margin Bersih Cabang New York      = ', perc_profit_ny, \"%\")"
      ],
      "metadata": {
        "colab": {
          "base_uri": "https://localhost:8080/"
        },
        "id": "iZxWmjn-dBTX",
        "outputId": "587538ec-1eaa-45f2-f5cf-3695350f0b71"
      },
      "execution_count": null,
      "outputs": [
        {
          "output_type": "stream",
          "name": "stdout",
          "text": [
            "Margin Bersih Cabang California    =  22.020793120813 %\n",
            "Margin Bersih Cabang Florida       =  20.889203494338695 %\n",
            "Margin Bersih Cabang New York      =  22.00995035346472 %\n"
          ]
        }
      ]
    },
    {
      "cell_type": "code",
      "source": [
        "df_branches.show(2,False)"
      ],
      "metadata": {
        "colab": {
          "base_uri": "https://localhost:8080/"
        },
        "id": "w_wNcWZrqAUX",
        "outputId": "066bd18e-2856-49e3-df16-35c84470fb2a"
      },
      "execution_count": null,
      "outputs": [
        {
          "output_type": "stream",
          "name": "stdout",
          "text": [
            "+------------------+--------------+-------------------+----------+---------+-----------------+\n",
            "|AdvertisementSpend|PromotionSpend|AdministrationSpend|State     |Profit   |TotalSpending    |\n",
            "+------------------+--------------+-------------------+----------+---------+-----------------+\n",
            "|165349.2          |136897.8      |471784.1           |New York  |192261.83|774031.1         |\n",
            "|162597.7          |151377.59     |443898.53          |California|191792.06|757873.8200000001|\n",
            "+------------------+--------------+-------------------+----------+---------+-----------------+\n",
            "only showing top 2 rows\n",
            "\n"
          ]
        }
      ]
    },
    {
      "cell_type": "markdown",
      "source": [
        "### **Vector Assembler**"
      ],
      "metadata": {
        "id": "WBhA7puSxQWa"
      }
    },
    {
      "cell_type": "code",
      "source": [
        "from pyspark.ml.linalg import Vectors\n",
        "from pyspark.ml.feature import VectorAssembler\n",
        "from pyspark.sql.functions import *\n",
        "\n",
        "assemble = VectorAssembler(inputCols=['Profit', 'TotalSpending'],outputCol = 'target')\n",
        "assembled_data = assemble.transform(df_branches)"
      ],
      "metadata": {
        "id": "swCfn-7PqP-R"
      },
      "execution_count": null,
      "outputs": []
    },
    {
      "cell_type": "markdown",
      "source": [
        "### **1. Clustering (Jumlah n dari Hasil Method Elbow)**"
      ],
      "metadata": {
        "id": "c9LHlLp4xVg9"
      }
    },
    {
      "cell_type": "code",
      "source": [
        "eval = ClusteringEvaluator(predictionCol='prediction', \n",
        "                           featuresCol='target',\n",
        "                           metricName='silhouette', \n",
        "                           distanceMeasure='squaredEuclidean')"
      ],
      "metadata": {
        "id": "moLWPB3qJyGD"
      },
      "execution_count": null,
      "outputs": []
    },
    {
      "cell_type": "code",
      "source": [
        "silhouette_scores = []\n",
        "for K in range(2,11):\n",
        "\n",
        "    KMeans_algo = KMeans(featuresCol='target', k=K)\n",
        "    KMeans_fit  = KMeans_algo.fit(assembled_data)\n",
        "    output      = KMeans_fit.transform(assembled_data) \n",
        "    score       = eval.evaluate(output)\n",
        "    silhouette_scores.append(score)\n",
        "    print(f\"K{K}\\t{score}\\t\")"
      ],
      "metadata": {
        "id": "PVa9B5bRsm2V",
        "colab": {
          "base_uri": "https://localhost:8080/"
        },
        "outputId": "26392c7c-fee9-427d-8b60-da8e050b1db7"
      },
      "execution_count": null,
      "outputs": [
        {
          "output_type": "stream",
          "name": "stdout",
          "text": [
            "K2\t0.7518598213676055\t\n",
            "K3\t0.7090880226461903\t\n",
            "K4\t0.6934885693515599\t\n",
            "K5\t0.6416799407515072\t\n",
            "K6\t0.6945004155721495\t\n",
            "K7\t0.6754969054774498\t\n",
            "K8\t0.6451478672802305\t\n",
            "K9\t0.5915355589440832\t\n",
            "K10\t0.5933571690343689\t\n"
          ]
        }
      ]
    },
    {
      "cell_type": "code",
      "source": [
        "import matplotlib.pyplot as plt\n",
        "fig, ax = plt.subplots(1,1, figsize =(10,8))\n",
        "ax.plot(range(2,11),silhouette_scores)\n",
        "ax.set_xlabel('Number of Clusters')\n",
        "ax.set_ylabel('Silhouette Score')"
      ],
      "metadata": {
        "colab": {
          "base_uri": "https://localhost:8080/",
          "height": 515
        },
        "id": "FRAUAISxvKXc",
        "outputId": "2629b94a-fbc8-4c16-c8c1-a484059aca87"
      },
      "execution_count": null,
      "outputs": [
        {
          "output_type": "execute_result",
          "data": {
            "text/plain": [
              "Text(0, 0.5, 'Silhouette Score')"
            ]
          },
          "metadata": {},
          "execution_count": 40
        },
        {
          "output_type": "display_data",
          "data": {
            "text/plain": [
              "<Figure size 720x576 with 1 Axes>"
            ],
            "image/png": "[encoded data removed]"
          },
          "metadata": {}
        }
      ]
    },
    {
      "cell_type": "code",
      "source": [
        "KMeans_=KMeans(featuresCol='target', k=2) \n",
        "KMeans_Model=KMeans_.fit(assembled_data)\n",
        "KMeans_Assignments=KMeans_Model.transform(assembled_data)"
      ],
      "metadata": {
        "id": "tErLIh_NvMzL"
      },
      "execution_count": null,
      "outputs": []
    },
    {
      "cell_type": "code",
      "source": [
        "from pyspark.ml.feature import PCA as PCAml\n",
        "pca = PCAml(k=2, inputCol=\"target\", outputCol=\"pca\")\n",
        "pca_model = pca.fit(assembled_data)\n",
        "pca_transformed = pca_model.transform(assembled_data)"
      ],
      "metadata": {
        "id": "fFUIKlVIv36G"
      },
      "execution_count": null,
      "outputs": []
    },
    {
      "cell_type": "code",
      "source": [
        "import numpy as np\n",
        "x_pca = np.array(pca_transformed.rdd.map(lambda row: row.pca).collect())"
      ],
      "metadata": {
        "id": "Pp84YR1pv6Zt"
      },
      "execution_count": null,
      "outputs": []
    },
    {
      "cell_type": "code",
      "source": [
        "cluster_assignment = np.array(KMeans_Assignments.rdd.map(lambda row: row.prediction).collect()).reshape(-1,1)"
      ],
      "metadata": {
        "id": "wvMasZExv_Hn"
      },
      "execution_count": null,
      "outputs": []
    },
    {
      "cell_type": "code",
      "source": [
        "import seaborn as sns\n",
        "import matplotlib.pyplot as plt\n",
        "\n",
        "pca_data = np.hstack((x_pca,cluster_assignment))\n",
        "\n",
        "pca_df = pd.DataFrame(data=pca_data, columns=(\"1st_principal\", \"2nd_principal\",\"cluster_assignment\"))\n",
        "sns.FacetGrid(pca_df,hue=\"cluster_assignment\", height=6).map(plt.scatter, '1st_principal', '2nd_principal' ).add_legend()\n",
        "\n",
        "plt.show()"
      ],
      "metadata": {
        "colab": {
          "base_uri": "https://localhost:8080/",
          "height": 441
        },
        "id": "qs3RSSrHwBIB",
        "outputId": "b4a18aed-bbb1-4c68-9548-31c2a371a9e1"
      },
      "execution_count": null,
      "outputs": [
        {
          "output_type": "display_data",
          "data": {
            "text/plain": [
              "<Figure size 526.125x432 with 1 Axes>"
            ],
            "image/png": "[encoded data removed]"
          },
          "metadata": {}
        }
      ]
    },
    {
      "cell_type": "code",
      "source": [
        "KMeans_Assignments.groupBy('prediction').count().show()"
      ],
      "metadata": {
        "colab": {
          "base_uri": "https://localhost:8080/"
        },
        "id": "QzXvHT22wAIB",
        "outputId": "d7e6e47e-b0ee-4ad3-f6d6-c6e29ae6bcb1"
      },
      "execution_count": null,
      "outputs": [
        {
          "output_type": "stream",
          "name": "stdout",
          "text": [
            "+----------+-----+\n",
            "|prediction|count|\n",
            "+----------+-----+\n",
            "|         1|   24|\n",
            "|         0|   26|\n",
            "+----------+-----+\n",
            "\n"
          ]
        }
      ]
    },
    {
      "cell_type": "code",
      "source": [
        "class_pred = KMeans_Assignments.groupBy('prediction')"
      ],
      "metadata": {
        "id": "coB36Qy2wESc"
      },
      "execution_count": null,
      "outputs": []
    },
    {
      "cell_type": "code",
      "source": [
        "KMeans_Assignments.show()"
      ],
      "metadata": {
        "colab": {
          "base_uri": "https://localhost:8080/"
        },
        "id": "v_w-NoHmwGHN",
        "outputId": "a2f4326f-23b9-44f3-b6d8-ab4589e2fe5a"
      },
      "execution_count": null,
      "outputs": [
        {
          "output_type": "stream",
          "name": "stdout",
          "text": [
            "+------------------+--------------+-------------------+----------+---------+------------------+--------------------+----------+\n",
            "|AdvertisementSpend|PromotionSpend|AdministrationSpend|     State|   Profit|     TotalSpending|              target|prediction|\n",
            "+------------------+--------------+-------------------+----------+---------+------------------+--------------------+----------+\n",
            "|          165349.2|      136897.8|           471784.1|  New York|192261.83|          774031.1|[192261.83,774031.1]|         1|\n",
            "|          162597.7|     151377.59|          443898.53|California|191792.06| 757873.8200000001|[191792.06,757873...|         1|\n",
            "|         153441.51|     101145.55|          407934.54|   Florida|191050.39|          662521.6|[191050.39,662521.6]|         1|\n",
            "|         144372.41|     118671.85|          383199.62|  New York|182901.99|         646243.88|[182901.99,646243...|         1|\n",
            "|         142107.34|      91391.77|          366168.42|   Florida|166187.94|         599667.53|[166187.94,599667...|         1|\n",
            "|          131876.9|      99814.71|          362861.36|  New York|156991.12|         594552.97|[156991.12,594552...|         1|\n",
            "|         134615.46|     147198.87|          127716.82|California|156122.51|409531.14999999997|[156122.51,409531...|         1|\n",
            "|         130298.13|     145530.06|          323876.68|   Florida| 155752.6|         599704.87|[155752.6,599704.87]|         1|\n",
            "|         120542.52|     148718.95|          311613.29|  New York|152211.77|         580874.76|[152211.77,580874...|         1|\n",
            "|         123334.88|     108679.17|          304981.62|California|149759.96| 536995.6699999999|[149759.96,536995...|         1|\n",
            "|         101913.08|     110594.11|          229160.95|   Florida|146121.95|         441668.14|[146121.95,441668...|         1|\n",
            "|         100671.96|      91790.61|          249744.55|California| 144259.4|         442207.12|[144259.4,442207.12]|         1|\n",
            "|          93863.75|     127320.38|          249839.44|   Florida|141585.52|         471023.57|[141585.52,471023...|         1|\n",
            "|          91992.39|     135495.07|          252664.93|California|134307.35|         480152.39|[134307.35,480152...|         1|\n",
            "|         119943.24|     156547.42|          256512.92|   Florida|132602.65| 533003.5800000001|[132602.65,533003...|         1|\n",
            "|         114523.61|     122616.84|          261776.23|  New York|129917.04|498916.68000000005|[129917.04,498916...|         1|\n",
            "|          78013.11|     121597.55|          264346.06|California|126992.93|         463956.72|[126992.93,463956...|         1|\n",
            "|          94657.16|     145077.58|          282574.31|  New York|125370.37|         522309.05|[125370.37,522309...|         1|\n",
            "|          91749.16|     114175.79|          294919.57|   Florida| 124266.9|         500844.52|[124266.9,500844.52]|         1|\n",
            "|           86419.7|     153514.11|                0.0|  New York|122776.86|         239933.81|[122776.86,239933...|         0|\n",
            "+------------------+--------------+-------------------+----------+---------+------------------+--------------------+----------+\n",
            "only showing top 20 rows\n",
            "\n"
          ]
        }
      ]
    },
    {
      "cell_type": "code",
      "source": [
        "df_pandas = KMeans_Assignments.toPandas()\n",
        "# Importing Pandas to create DataFrame\n",
        "import pandas as pd\n",
        "\n",
        "# Creating Empty DataFrame and Storing it in variable df\n",
        "df_pandas_new = pd.DataFrame(df_pandas)\n",
        "df_pandas_new.head(2)"
      ],
      "metadata": {
        "colab": {
          "base_uri": "https://localhost:8080/",
          "height": 211
        },
        "id": "cXDoFaJkwHY9",
        "outputId": "ea29652a-fb8b-4691-fbdf-c4b3f9dc260e"
      },
      "execution_count": null,
      "outputs": [
        {
          "output_type": "execute_result",
          "data": {
            "text/plain": [
              "   AdvertisementSpend  PromotionSpend  AdministrationSpend       State  \\\n",
              "0            165349.2       136897.80            471784.10    New York   \n",
              "1            162597.7       151377.59            443898.53  California   \n",
              "\n",
              "      Profit  TotalSpending                          target  prediction  \n",
              "0  192261.83      774031.10           [192261.83, 774031.1]           1  \n",
              "1  191792.06      757873.82  [191792.06, 757873.8200000001]           1  "
            ],
            "text/html": [
              "\n",
              "  <div id=\"df-4c5ed73c-3d1a-40b5-afdc-0c8c42d9657a\">\n",
              "    <div class=\"colab-df-container\">\n",
              "      <div>\n",
              "<style scoped>\n",
              "    .dataframe tbody tr th:only-of-type {\n",
              "        vertical-align: middle;\n",
              "    }\n",
              "\n",
              "    .dataframe tbody tr th {\n",
              "        vertical-align: top;\n",
              "    }\n",
              "\n",
              "    .dataframe thead th {\n",
              "        text-align: right;\n",
              "    }\n",
              "</style>\n",
              "<table border=\"1\" class=\"dataframe\">\n",
              "  <thead>\n",
              "    <tr style=\"text-align: right;\">\n",
              "      <th></th>\n",
              "      <th>AdvertisementSpend</th>\n",
              "      <th>PromotionSpend</th>\n",
              "      <th>AdministrationSpend</th>\n",
              "      <th>State</th>\n",
              "      <th>Profit</th>\n",
              "      <th>TotalSpending</th>\n",
              "      <th>target</th>\n",
              "      <th>prediction</th>\n",
              "    </tr>\n",
              "  </thead>\n",
              "  <tbody>\n",
              "    <tr>\n",
              "      <th>0</th>\n",
              "      <td>165349.2</td>\n",
              "      <td>136897.80</td>\n",
              "      <td>471784.10</td>\n",
              "      <td>New York</td>\n",
              "      <td>192261.83</td>\n",
              "      <td>774031.10</td>\n",
              "      <td>[192261.83, 774031.1]</td>\n",
              "      <td>1</td>\n",
              "    </tr>\n",
              "    <tr>\n",
              "      <th>1</th>\n",
              "      <td>162597.7</td>\n",
              "      <td>151377.59</td>\n",
              "      <td>443898.53</td>\n",
              "      <td>California</td>\n",
              "      <td>191792.06</td>\n",
              "      <td>757873.82</td>\n",
              "      <td>[191792.06, 757873.8200000001]</td>\n",
              "      <td>1</td>\n",
              "    </tr>\n",
              "  </tbody>\n",
              "</table>\n",
              "</div>\n",
              "      <button class=\"colab-df-convert\" onclick=\"convertToInteractive('df-4c5ed73c-3d1a-40b5-afdc-0c8c42d9657a')\"\n",
              "              title=\"Convert this dataframe to an interactive table.\"\n",
              "              style=\"display:none;\">\n",
              "        \n",
              "  <svg xmlns=\"http://www.w3.org/2000/svg\" height=\"24px\"viewBox=\"0 0 24 24\"\n",
              "       width=\"24px\">\n",
              "    <path d=\"M0 0h24v24H0V0z\" fill=\"none\"/>\n",
              "    <path d=\"M18.56 5.44l.94 2.06.94-2.06 2.06-.94-2.06-.94-.94-2.06-.94 2.06-2.06.94zm-11 1L8.5 8.5l.94-2.06 2.06-.94-2.06-.94L8.5 2.5l-.94 2.06-2.06.94zm10 10l.94 2.06.94-2.06 2.06-.94-2.06-.94-.94-2.06-.94 2.06-2.06.94z\"/><path d=\"M17.41 7.96l-1.37-1.37c-.4-.4-.92-.59-1.43-.59-.52 0-1.04.2-1.43.59L10.3 9.45l-7.72 7.72c-.78.78-.78 2.05 0 2.83L4 21.41c.39.39.9.59 1.41.59.51 0 1.02-.2 1.41-.59l7.78-7.78 2.81-2.81c.8-.78.8-2.07 0-2.86zM5.41 20L4 18.59l7.72-7.72 1.47 1.35L5.41 20z\"/>\n",
              "  </svg>\n",
              "      </button>\n",
              "      \n",
              "  <style>\n",
              "    .colab-df-container {\n",
              "      display:flex;\n",
              "      flex-wrap:wrap;\n",
              "      gap: 12px;\n",
              "    }\n",
              "\n",
              "    .colab-df-convert {\n",
              "      background-color: #E8F0FE;\n",
              "      border: none;\n",
              "      border-radius: 50%;\n",
              "      cursor: pointer;\n",
              "      display: none;\n",
              "      fill: #1967D2;\n",
              "      height: 32px;\n",
              "      padding: 0 0 0 0;\n",
              "      width: 32px;\n",
              "    }\n",
              "\n",
              "    .colab-df-convert:hover {\n",
              "      background-color: #E2EBFA;\n",
              "      box-shadow: 0px 1px 2px rgba(60, 64, 67, 0.3), 0px 1px 3px 1px rgba(60, 64, 67, 0.15);\n",
              "      fill: #174EA6;\n",
              "    }\n",
              "\n",
              "    [theme=dark] .colab-df-convert {\n",
              "      background-color: #3B4455;\n",
              "      fill: #D2E3FC;\n",
              "    }\n",
              "\n",
              "    [theme=dark] .colab-df-convert:hover {\n",
              "      background-color: #434B5C;\n",
              "      box-shadow: 0px 1px 3px 1px rgba(0, 0, 0, 0.15);\n",
              "      filter: drop-shadow(0px 1px 2px rgba(0, 0, 0, 0.3));\n",
              "      fill: #FFFFFF;\n",
              "    }\n",
              "  </style>\n",
              "\n",
              "      <script>\n",
              "        const buttonEl =\n",
              "          document.querySelector('#df-4c5ed73c-3d1a-40b5-afdc-0c8c42d9657a button.colab-df-convert');\n",
              "        buttonEl.style.display =\n",
              "          google.colab.kernel.accessAllowed ? 'block' : 'none';\n",
              "\n",
              "        async function convertToInteractive(key) {\n",
              "          const element = document.querySelector('#df-4c5ed73c-3d1a-40b5-afdc-0c8c42d9657a');\n",
              "          const dataTable =\n",
              "            await google.colab.kernel.invokeFunction('convertToInteractive',\n",
              "                                                     [key], {});\n",
              "          if (!dataTable) return;\n",
              "\n",
              "          const docLinkHtml = 'Like what you see? Visit the ' +\n",
              "            '<a target=\"_blank\" href=https://colab.research.google.com/notebooks/data_table.ipynb>data table notebook</a>'\n",
              "            + ' to learn more about interactive tables.';\n",
              "          element.innerHTML = '';\n",
              "          dataTable['output_type'] = 'display_data';\n",
              "          await google.colab.output.renderOutput(dataTable, element);\n",
              "          const docLink = document.createElement('div');\n",
              "          docLink.innerHTML = docLinkHtml;\n",
              "          element.appendChild(docLink);\n",
              "        }\n",
              "      </script>\n",
              "    </div>\n",
              "  </div>\n",
              "  "
            ]
          },
          "metadata": {},
          "execution_count": 49
        }
      ]
    },
    {
      "cell_type": "code",
      "source": [
        "for i in range(2):\n",
        "  a = df_pandas_new[df_pandas_new['prediction']==i]['Profit'].mean()\n",
        "  b = df_pandas_new[df_pandas_new['prediction']==i]['TotalSpending'].mean()\n",
        "  \n",
        "  print(f'Cluster ke-{i}')\n",
        "  print('Rata-rata Profit            : ', a)\n",
        "  print('Persenan Profit             : ', ((a/(a+b))*100),'%')\n",
        "  print('Rata-rata Total Pengeluaran : ', b)\n",
        "  print('Persenan Spending           : ', ((b/(a+b))*100),'%')\n",
        "  print()"
      ],
      "metadata": {
        "colab": {
          "base_uri": "https://localhost:8080/"
        },
        "id": "MUDErvYmwRmv",
        "outputId": "33e731eb-6377-4f1c-e758-a1c9f45c00c3"
      },
      "execution_count": null,
      "outputs": [
        {
          "output_type": "stream",
          "name": "stdout",
          "text": [
            "Cluster ke-0\n",
            "Rata-rata Profit            :  82549.7723076923\n",
            "Persenan Profit             :  22.874791286670717 %\n",
            "Rata-rata Total Pengeluaran :  278326.84192307695\n",
            "Persenan Spending           :  77.12520871332929 %\n",
            "\n",
            "Cluster ke-1\n",
            "Rata-rata Profit            :  143930.745\n",
            "Persenan Profit             :  20.906988589466856 %\n",
            "Rata-rata Total Pengeluaran :  544502.9066666666\n",
            "Persenan Spending           :  79.09301141053314 %\n",
            "\n"
          ]
        }
      ]
    },
    {
      "cell_type": "code",
      "source": [
        "pred_0 = df_pandas_new[df_pandas_new['prediction']==0]\n",
        "pred_1 = df_pandas_new[df_pandas_new['prediction']==1]\n",
        "\n",
        "print(\"Penyebaran Kota untuk Cluster 0\")\n",
        "print(pred_0['State'].value_counts())\n",
        "print()\n",
        "\n",
        "print(\"Penyebaran Kota untuk Cluster 1\")\n",
        "print(pred_1['State'].value_counts())\n",
        "print()"
      ],
      "metadata": {
        "colab": {
          "base_uri": "https://localhost:8080/"
        },
        "id": "aypTj7H43mum",
        "outputId": "658abac2-20c2-4f06-bb3e-0a282309411f"
      },
      "execution_count": null,
      "outputs": [
        {
          "output_type": "stream",
          "name": "stdout",
          "text": [
            "Penyebaran Kota untuk Cluster 0\n",
            "California    10\n",
            "New York       9\n",
            "Florida        7\n",
            "Name: State, dtype: int64\n",
            "\n",
            "Penyebaran Kota untuk Cluster 1\n",
            "Florida       9\n",
            "New York      8\n",
            "California    7\n",
            "Name: State, dtype: int64\n",
            "\n"
          ]
        }
      ]
    },
    {
      "cell_type": "markdown",
      "source": [
        "### **2. Clustering (Jumlah n dari Inputan Penulis)**"
      ],
      "metadata": {
        "id": "3PhUWfnzxwtm"
      }
    },
    {
      "cell_type": "code",
      "source": [
        "KMeans_=KMeans(featuresCol='target', k=5) \n",
        "KMeans_Model=KMeans_.fit(assembled_data)\n",
        "KMeans_Assignments=KMeans_Model.transform(assembled_data)"
      ],
      "metadata": {
        "id": "3sTCaCnExwto"
      },
      "execution_count": null,
      "outputs": []
    },
    {
      "cell_type": "code",
      "source": [
        "from pyspark.ml.feature import PCA as PCAml\n",
        "pca = PCAml(k=2, inputCol=\"target\", outputCol=\"pca\")\n",
        "pca_model = pca.fit(assembled_data)\n",
        "pca_transformed = pca_model.transform(assembled_data)"
      ],
      "metadata": {
        "id": "ijjmpkBSxwtp"
      },
      "execution_count": null,
      "outputs": []
    },
    {
      "cell_type": "code",
      "source": [
        "import numpy as np\n",
        "x_pca = np.array(pca_transformed.rdd.map(lambda row: row.pca).collect())"
      ],
      "metadata": {
        "id": "macUnPl8xwtp"
      },
      "execution_count": null,
      "outputs": []
    },
    {
      "cell_type": "code",
      "source": [
        "cluster_assignment = np.array(KMeans_Assignments.rdd.map(lambda row: row.prediction).collect()).reshape(-1,1)"
      ],
      "metadata": {
        "id": "IpoYpQ8exwtp"
      },
      "execution_count": null,
      "outputs": []
    },
    {
      "cell_type": "code",
      "source": [
        "import seaborn as sns\n",
        "import matplotlib.pyplot as plt\n",
        "\n",
        "pca_data = np.hstack((x_pca,cluster_assignment))\n",
        "\n",
        "pca_df = pd.DataFrame(data=pca_data, columns=(\"1st_principal\", \"2nd_principal\",\"cluster_assignment\"))\n",
        "sns.FacetGrid(pca_df,hue=\"cluster_assignment\", height=6).map(plt.scatter, '1st_principal', '2nd_principal' ).add_legend()\n",
        "\n",
        "plt.show()"
      ],
      "metadata": {
        "colab": {
          "base_uri": "https://localhost:8080/",
          "height": 441
        },
        "outputId": "bc4cb91f-6250-492f-876f-3d9e2762ac06",
        "id": "Ps6oGQoSxwtp"
      },
      "execution_count": null,
      "outputs": [
        {
          "output_type": "display_data",
          "data": {
            "text/plain": [
              "<Figure size 526.125x432 with 1 Axes>"
            ],
            "image/png": "[encoded data removed]"
          },
          "metadata": {}
        }
      ]
    },
    {
      "cell_type": "code",
      "source": [
        "KMeans_Assignments.groupBy('prediction').count().show()"
      ],
      "metadata": {
        "colab": {
          "base_uri": "https://localhost:8080/"
        },
        "outputId": "7c735a89-1475-47fa-dd8a-1252d3865e25",
        "id": "nFVlbB5Yxwtp"
      },
      "execution_count": null,
      "outputs": [
        {
          "output_type": "stream",
          "name": "stdout",
          "text": [
            "+----------+-----+\n",
            "|prediction|count|\n",
            "+----------+-----+\n",
            "|         1|   14|\n",
            "|         3|    6|\n",
            "|         4|    9|\n",
            "|         2|    4|\n",
            "|         0|   17|\n",
            "+----------+-----+\n",
            "\n"
          ]
        }
      ]
    },
    {
      "cell_type": "code",
      "source": [
        "class_pred = KMeans_Assignments.groupBy('prediction')"
      ],
      "metadata": {
        "id": "bDvG2Og4xwtp"
      },
      "execution_count": null,
      "outputs": []
    },
    {
      "cell_type": "code",
      "source": [
        "KMeans_Assignments.show()"
      ],
      "metadata": {
        "colab": {
          "base_uri": "https://localhost:8080/"
        },
        "outputId": "02f36cc0-0f69-4e15-c5c1-1ae1f5192416",
        "id": "xBP3Lubuxwtp"
      },
      "execution_count": null,
      "outputs": [
        {
          "output_type": "stream",
          "name": "stdout",
          "text": [
            "+------------------+--------------+-------------------+----------+---------+------------------+--------------------+----------+\n",
            "|AdvertisementSpend|PromotionSpend|AdministrationSpend|     State|   Profit|     TotalSpending|              target|prediction|\n",
            "+------------------+--------------+-------------------+----------+---------+------------------+--------------------+----------+\n",
            "|          165349.2|      136897.8|           471784.1|  New York|192261.83|          774031.1|[192261.83,774031.1]|         2|\n",
            "|          162597.7|     151377.59|          443898.53|California|191792.06| 757873.8200000001|[191792.06,757873...|         2|\n",
            "|         153441.51|     101145.55|          407934.54|   Florida|191050.39|          662521.6|[191050.39,662521.6]|         2|\n",
            "|         144372.41|     118671.85|          383199.62|  New York|182901.99|         646243.88|[182901.99,646243...|         2|\n",
            "|         142107.34|      91391.77|          366168.42|   Florida|166187.94|         599667.53|[166187.94,599667...|         0|\n",
            "|          131876.9|      99814.71|          362861.36|  New York|156991.12|         594552.97|[156991.12,594552...|         0|\n",
            "|         134615.46|     147198.87|          127716.82|California|156122.51|409531.14999999997|[156122.51,409531...|         4|\n",
            "|         130298.13|     145530.06|          323876.68|   Florida| 155752.6|         599704.87|[155752.6,599704.87]|         0|\n",
            "|         120542.52|     148718.95|          311613.29|  New York|152211.77|         580874.76|[152211.77,580874...|         0|\n",
            "|         123334.88|     108679.17|          304981.62|California|149759.96| 536995.6699999999|[149759.96,536995...|         0|\n",
            "|         101913.08|     110594.11|          229160.95|   Florida|146121.95|         441668.14|[146121.95,441668...|         4|\n",
            "|         100671.96|      91790.61|          249744.55|California| 144259.4|         442207.12|[144259.4,442207.12]|         4|\n",
            "|          93863.75|     127320.38|          249839.44|   Florida|141585.52|         471023.57|[141585.52,471023...|         0|\n",
            "|          91992.39|     135495.07|          252664.93|California|134307.35|         480152.39|[134307.35,480152...|         0|\n",
            "|         119943.24|     156547.42|          256512.92|   Florida|132602.65| 533003.5800000001|[132602.65,533003...|         0|\n",
            "|         114523.61|     122616.84|          261776.23|  New York|129917.04|498916.68000000005|[129917.04,498916...|         0|\n",
            "|          78013.11|     121597.55|          264346.06|California|126992.93|         463956.72|[126992.93,463956...|         0|\n",
            "|          94657.16|     145077.58|          282574.31|  New York|125370.37|         522309.05|[125370.37,522309...|         0|\n",
            "|          91749.16|     114175.79|          294919.57|   Florida| 124266.9|         500844.52|[124266.9,500844.52]|         0|\n",
            "|           86419.7|     153514.11|                0.0|  New York|122776.86|         239933.81|[122776.86,239933...|         1|\n",
            "+------------------+--------------+-------------------+----------+---------+------------------+--------------------+----------+\n",
            "only showing top 20 rows\n",
            "\n"
          ]
        }
      ]
    },
    {
      "cell_type": "code",
      "source": [
        "df_pandas = KMeans_Assignments.toPandas()\n",
        "# Importing Pandas to create DataFrame\n",
        "import pandas as pd\n",
        "\n",
        "# Creating Empty DataFrame and Storing it in variable df\n",
        "df_pandas_new = pd.DataFrame(df_pandas)\n",
        "df_pandas_new.head(2)"
      ],
      "metadata": {
        "colab": {
          "base_uri": "https://localhost:8080/",
          "height": 211
        },
        "outputId": "4c50f141-281e-4eed-8300-3542f052398d",
        "id": "em29tbHnxwtp"
      },
      "execution_count": null,
      "outputs": [
        {
          "output_type": "execute_result",
          "data": {
            "text/plain": [
              "   AdvertisementSpend  PromotionSpend  AdministrationSpend       State  \\\n",
              "0            165349.2       136897.80            471784.10    New York   \n",
              "1            162597.7       151377.59            443898.53  California   \n",
              "\n",
              "      Profit  TotalSpending                          target  prediction  \n",
              "0  192261.83      774031.10           [192261.83, 774031.1]           2  \n",
              "1  191792.06      757873.82  [191792.06, 757873.8200000001]           2  "
            ],
            "text/html": [
              "\n",
              "  <div id=\"df-1a7e0898-a49c-455f-ab49-65d3141f237d\">\n",
              "    <div class=\"colab-df-container\">\n",
              "      <div>\n",
              "<style scoped>\n",
              "    .dataframe tbody tr th:only-of-type {\n",
              "        vertical-align: middle;\n",
              "    }\n",
              "\n",
              "    .dataframe tbody tr th {\n",
              "        vertical-align: top;\n",
              "    }\n",
              "\n",
              "    .dataframe thead th {\n",
              "        text-align: right;\n",
              "    }\n",
              "</style>\n",
              "<table border=\"1\" class=\"dataframe\">\n",
              "  <thead>\n",
              "    <tr style=\"text-align: right;\">\n",
              "      <th></th>\n",
              "      <th>AdvertisementSpend</th>\n",
              "      <th>PromotionSpend</th>\n",
              "      <th>AdministrationSpend</th>\n",
              "      <th>State</th>\n",
              "      <th>Profit</th>\n",
              "      <th>TotalSpending</th>\n",
              "      <th>target</th>\n",
              "      <th>prediction</th>\n",
              "    </tr>\n",
              "  </thead>\n",
              "  <tbody>\n",
              "    <tr>\n",
              "      <th>0</th>\n",
              "      <td>165349.2</td>\n",
              "      <td>136897.80</td>\n",
              "      <td>471784.10</td>\n",
              "      <td>New York</td>\n",
              "      <td>192261.83</td>\n",
              "      <td>774031.10</td>\n",
              "      <td>[192261.83, 774031.1]</td>\n",
              "      <td>2</td>\n",
              "    </tr>\n",
              "    <tr>\n",
              "      <th>1</th>\n",
              "      <td>162597.7</td>\n",
              "      <td>151377.59</td>\n",
              "      <td>443898.53</td>\n",
              "      <td>California</td>\n",
              "      <td>191792.06</td>\n",
              "      <td>757873.82</td>\n",
              "      <td>[191792.06, 757873.8200000001]</td>\n",
              "      <td>2</td>\n",
              "    </tr>\n",
              "  </tbody>\n",
              "</table>\n",
              "</div>\n",
              "      <button class=\"colab-df-convert\" onclick=\"convertToInteractive('df-1a7e0898-a49c-455f-ab49-65d3141f237d')\"\n",
              "              title=\"Convert this dataframe to an interactive table.\"\n",
              "              style=\"display:none;\">\n",
              "        \n",
              "  <svg xmlns=\"http://www.w3.org/2000/svg\" height=\"24px\"viewBox=\"0 0 24 24\"\n",
              "       width=\"24px\">\n",
              "    <path d=\"M0 0h24v24H0V0z\" fill=\"none\"/>\n",
              "    <path d=\"M18.56 5.44l.94 2.06.94-2.06 2.06-.94-2.06-.94-.94-2.06-.94 2.06-2.06.94zm-11 1L8.5 8.5l.94-2.06 2.06-.94-2.06-.94L8.5 2.5l-.94 2.06-2.06.94zm10 10l.94 2.06.94-2.06 2.06-.94-2.06-.94-.94-2.06-.94 2.06-2.06.94z\"/><path d=\"M17.41 7.96l-1.37-1.37c-.4-.4-.92-.59-1.43-.59-.52 0-1.04.2-1.43.59L10.3 9.45l-7.72 7.72c-.78.78-.78 2.05 0 2.83L4 21.41c.39.39.9.59 1.41.59.51 0 1.02-.2 1.41-.59l7.78-7.78 2.81-2.81c.8-.78.8-2.07 0-2.86zM5.41 20L4 18.59l7.72-7.72 1.47 1.35L5.41 20z\"/>\n",
              "  </svg>\n",
              "      </button>\n",
              "      \n",
              "  <style>\n",
              "    .colab-df-container {\n",
              "      display:flex;\n",
              "      flex-wrap:wrap;\n",
              "      gap: 12px;\n",
              "    }\n",
              "\n",
              "    .colab-df-convert {\n",
              "      background-color: #E8F0FE;\n",
              "      border: none;\n",
              "      border-radius: 50%;\n",
              "      cursor: pointer;\n",
              "      display: none;\n",
              "      fill: #1967D2;\n",
              "      height: 32px;\n",
              "      padding: 0 0 0 0;\n",
              "      width: 32px;\n",
              "    }\n",
              "\n",
              "    .colab-df-convert:hover {\n",
              "      background-color: #E2EBFA;\n",
              "      box-shadow: 0px 1px 2px rgba(60, 64, 67, 0.3), 0px 1px 3px 1px rgba(60, 64, 67, 0.15);\n",
              "      fill: #174EA6;\n",
              "    }\n",
              "\n",
              "    [theme=dark] .colab-df-convert {\n",
              "      background-color: #3B4455;\n",
              "      fill: #D2E3FC;\n",
              "    }\n",
              "\n",
              "    [theme=dark] .colab-df-convert:hover {\n",
              "      background-color: #434B5C;\n",
              "      box-shadow: 0px 1px 3px 1px rgba(0, 0, 0, 0.15);\n",
              "      filter: drop-shadow(0px 1px 2px rgba(0, 0, 0, 0.3));\n",
              "      fill: #FFFFFF;\n",
              "    }\n",
              "  </style>\n",
              "\n",
              "      <script>\n",
              "        const buttonEl =\n",
              "          document.querySelector('#df-1a7e0898-a49c-455f-ab49-65d3141f237d button.colab-df-convert');\n",
              "        buttonEl.style.display =\n",
              "          google.colab.kernel.accessAllowed ? 'block' : 'none';\n",
              "\n",
              "        async function convertToInteractive(key) {\n",
              "          const element = document.querySelector('#df-1a7e0898-a49c-455f-ab49-65d3141f237d');\n",
              "          const dataTable =\n",
              "            await google.colab.kernel.invokeFunction('convertToInteractive',\n",
              "                                                     [key], {});\n",
              "          if (!dataTable) return;\n",
              "\n",
              "          const docLinkHtml = 'Like what you see? Visit the ' +\n",
              "            '<a target=\"_blank\" href=https://colab.research.google.com/notebooks/data_table.ipynb>data table notebook</a>'\n",
              "            + ' to learn more about interactive tables.';\n",
              "          element.innerHTML = '';\n",
              "          dataTable['output_type'] = 'display_data';\n",
              "          await google.colab.output.renderOutput(dataTable, element);\n",
              "          const docLink = document.createElement('div');\n",
              "          docLink.innerHTML = docLinkHtml;\n",
              "          element.appendChild(docLink);\n",
              "        }\n",
              "      </script>\n",
              "    </div>\n",
              "  </div>\n",
              "  "
            ]
          },
          "metadata": {},
          "execution_count": 60
        }
      ]
    },
    {
      "cell_type": "code",
      "source": [
        "for i in range(5):\n",
        "  a = df_pandas_new[df_pandas_new['prediction']==i]['Profit'].mean()\n",
        "  b = df_pandas_new[df_pandas_new['prediction']==i]['TotalSpending'].mean()\n",
        "  \n",
        "  print(f'Cluster ke-{i}')\n",
        "  print('Rata-rata Profit         :', a)\n",
        "  print('Persenan Profit          :', ((a/(a+b))*100),'%')\n",
        "  print('Rata-rata Total Spending :', b)\n",
        "  print('Persenan Spending        :', ((b/(a+b))*100),'%')\n",
        "  print('Modal                    :', a+b)\n",
        "  print()"
      ],
      "metadata": {
        "colab": {
          "base_uri": "https://localhost:8080/"
        },
        "outputId": "f264841a-7d59-4524-9932-8cee2d9f9d12",
        "id": "MzSJJn1Sxwtq"
      },
      "execution_count": null,
      "outputs": [
        {
          "output_type": "stream",
          "name": "stdout",
          "text": [
            "Cluster ke-0\n",
            "Rata-rata Profit         : 132342.8088235294\n",
            "Persenan Profit          : 20.116808113706615 %\n",
            "Rata-rata Total Spending : 525528.9970588235\n",
            "Persenan Spending        : 79.88319188629337 %\n",
            "Modal                    : 657871.8058823529\n",
            "\n",
            "Cluster ke-1\n",
            "Rata-rata Profit         : 93627.68357142857\n",
            "Persenan Profit          : 24.242143022066077 %\n",
            "Rata-rata Total Spending : 292590.99142857146\n",
            "Persenan Spending        : 75.75785697793393 %\n",
            "Modal                    : 386218.67500000005\n",
            "\n",
            "Cluster ke-2\n",
            "Rata-rata Profit         : 189501.5675\n",
            "Persenan Profit          : 21.06347247917663 %\n",
            "Rata-rata Total Spending : 710167.6\n",
            "Persenan Spending        : 78.93652752082338 %\n",
            "Modal                    : 899669.1675\n",
            "\n",
            "Cluster ke-3\n",
            "Rata-rata Profit         : 48799.98833333334\n",
            "Persenan Profit          : 25.3843372065177 %\n",
            "Rata-rata Total Spending : 143444.49666666667\n",
            "Persenan Spending        : 74.6156627934823 %\n",
            "Modal                    : 192244.48500000002\n",
            "\n",
            "Cluster ke-4\n",
            "Rata-rata Profit         : 109912.2711111111\n",
            "Persenan Profit          : 21.682874568559843 %\n",
            "Rata-rata Total Spending : 396995.9377777778\n",
            "Persenan Spending        : 78.31712543144016 %\n",
            "Modal                    : 506908.2088888889\n",
            "\n"
          ]
        }
      ]
    },
    {
      "cell_type": "code",
      "source": [
        "pred_0 = df_pandas_new[df_pandas_new['prediction']==0]\n",
        "pred_1 = df_pandas_new[df_pandas_new['prediction']==1]\n",
        "pred_2 = df_pandas_new[df_pandas_new['prediction']==2]\n",
        "pred_3 = df_pandas_new[df_pandas_new['prediction']==3]\n",
        "pred_4 = df_pandas_new[df_pandas_new['prediction']==4]\n",
        "\n",
        "print(\"Penyebaran Kota untuk Cluster 0\")\n",
        "print(pred_0['State'].value_counts())\n",
        "print()\n",
        "\n",
        "print(\"Penyebaran Kota untuk Cluster 1\")\n",
        "print(pred_1['State'].value_counts())\n",
        "print()\n",
        "\n",
        "print(\"Penyebaran Kota untuk Cluster 2\")\n",
        "print(pred_2['State'].value_counts())\n",
        "print()\n",
        "\n",
        "print(\"Penyebaran Kota untuk Cluster 3\")\n",
        "print(pred_3['State'].value_counts())\n",
        "print()\n",
        "\n",
        "print(\"Penyebaran Kota untuk Cluster 4\")\n",
        "print(pred_4['State'].value_counts())\n",
        "print()"
      ],
      "metadata": {
        "colab": {
          "base_uri": "https://localhost:8080/"
        },
        "id": "_3M6m1L_1JVA",
        "outputId": "fbd3dce8-6b6c-48e4-e879-06956013f8a4"
      },
      "execution_count": null,
      "outputs": [
        {
          "output_type": "stream",
          "name": "stdout",
          "text": [
            "Penyebaran Kota untuk Cluster 0\n",
            "Florida       7\n",
            "New York      6\n",
            "California    4\n",
            "Name: State, dtype: int64\n",
            "\n",
            "Penyebaran Kota untuk Cluster 1\n",
            "New York      6\n",
            "California    6\n",
            "Florida       2\n",
            "Name: State, dtype: int64\n",
            "\n",
            "Penyebaran Kota untuk Cluster 2\n",
            "New York      2\n",
            "California    1\n",
            "Florida       1\n",
            "Name: State, dtype: int64\n",
            "\n",
            "Penyebaran Kota untuk Cluster 3\n",
            "New York      3\n",
            "California    3\n",
            "Name: State, dtype: int64\n",
            "\n",
            "Penyebaran Kota untuk Cluster 4\n",
            "Florida       6\n",
            "California    3\n",
            "Name: State, dtype: int64\n",
            "\n"
          ]
        }
      ]
    },
    {
      "cell_type": "markdown",
      "source": [
        "## **Ads Optimization**"
      ],
      "metadata": {
        "id": "TQWstPULfGNT"
      }
    },
    {
      "cell_type": "markdown",
      "source": [
        "### **Load Dataset**"
      ],
      "metadata": {
        "id": "tTOu7-Ovh_Fk"
      }
    },
    {
      "cell_type": "code",
      "source": [
        "df_ads.show(2,False)"
      ],
      "metadata": {
        "colab": {
          "base_uri": "https://localhost:8080/"
        },
        "id": "m6pv0RkUfKPY",
        "outputId": "57d6335b-dca9-47f8-a105-49a7446c458f"
      },
      "execution_count": null,
      "outputs": [
        {
          "output_type": "stream",
          "name": "stdout",
          "text": [
            "+----+----+----+----+----+----+----+----+----+-----+\n",
            "|Ad 1|Ad 2|Ad 3|Ad 4|Ad 5|Ad 6|Ad 7|Ad 8|Ad 9|Ad 10|\n",
            "+----+----+----+----+----+----+----+----+----+-----+\n",
            "|1   |0   |0   |0   |1   |0   |0   |0   |1   |0    |\n",
            "|0   |0   |0   |0   |0   |0   |0   |0   |1   |0    |\n",
            "+----+----+----+----+----+----+----+----+----+-----+\n",
            "only showing top 2 rows\n",
            "\n"
          ]
        }
      ]
    },
    {
      "cell_type": "code",
      "source": [
        "df_ads_pandas = df_ads.toPandas()\n",
        "df_ads_pandas.head()"
      ],
      "metadata": {
        "colab": {
          "base_uri": "https://localhost:8080/"
        },
        "id": "axJl0IRXhS8H",
        "outputId": "d228bcac-6175-48c1-882c-c5d842250030"
      },
      "execution_count": null,
      "outputs": [
        {
          "output_type": "execute_result",
          "data": {
            "text/plain": [
              "   Ad 1  Ad 2  Ad 3  Ad 4  Ad 5  Ad 6  Ad 7  Ad 8  Ad 9  Ad 10\n",
              "0     1     0     0     0     1     0     0     0     1      0\n",
              "1     0     0     0     0     0     0     0     0     1      0\n",
              "2     0     0     0     0     0     0     0     0     0      0\n",
              "3     0     1     0     0     0     0     0     1     0      0\n",
              "4     0     0     0     0     0     0     0     0     0      0"
            ],
            "text/html": [
              "\n",
              "  <div id=\"df-4c056271-3792-4a65-a00a-03b4ce325d0f\">\n",
              "    <div class=\"colab-df-container\">\n",
              "      <div>\n",
              "<style scoped>\n",
              "    .dataframe tbody tr th:only-of-type {\n",
              "        vertical-align: middle;\n",
              "    }\n",
              "\n",
              "    .dataframe tbody tr th {\n",
              "        vertical-align: top;\n",
              "    }\n",
              "\n",
              "    .dataframe thead th {\n",
              "        text-align: right;\n",
              "    }\n",
              "</style>\n",
              "<table border=\"1\" class=\"dataframe\">\n",
              "  <thead>\n",
              "    <tr style=\"text-align: right;\">\n",
              "      <th></th>\n",
              "      <th>Ad 1</th>\n",
              "      <th>Ad 2</th>\n",
              "      <th>Ad 3</th>\n",
              "      <th>Ad 4</th>\n",
              "      <th>Ad 5</th>\n",
              "      <th>Ad 6</th>\n",
              "      <th>Ad 7</th>\n",
              "      <th>Ad 8</th>\n",
              "      <th>Ad 9</th>\n",
              "      <th>Ad 10</th>\n",
              "    </tr>\n",
              "  </thead>\n",
              "  <tbody>\n",
              "    <tr>\n",
              "      <th>0</th>\n",
              "      <td>1</td>\n",
              "      <td>0</td>\n",
              "      <td>0</td>\n",
              "      <td>0</td>\n",
              "      <td>1</td>\n",
              "      <td>0</td>\n",
              "      <td>0</td>\n",
              "      <td>0</td>\n",
              "      <td>1</td>\n",
              "      <td>0</td>\n",
              "    </tr>\n",
              "    <tr>\n",
              "      <th>1</th>\n",
              "      <td>0</td>\n",
              "      <td>0</td>\n",
              "      <td>0</td>\n",
              "      <td>0</td>\n",
              "      <td>0</td>\n",
              "      <td>0</td>\n",
              "      <td>0</td>\n",
              "      <td>0</td>\n",
              "      <td>1</td>\n",
              "      <td>0</td>\n",
              "    </tr>\n",
              "    <tr>\n",
              "      <th>2</th>\n",
              "      <td>0</td>\n",
              "      <td>0</td>\n",
              "      <td>0</td>\n",
              "      <td>0</td>\n",
              "      <td>0</td>\n",
              "      <td>0</td>\n",
              "      <td>0</td>\n",
              "      <td>0</td>\n",
              "      <td>0</td>\n",
              "      <td>0</td>\n",
              "    </tr>\n",
              "    <tr>\n",
              "      <th>3</th>\n",
              "      <td>0</td>\n",
              "      <td>1</td>\n",
              "      <td>0</td>\n",
              "      <td>0</td>\n",
              "      <td>0</td>\n",
              "      <td>0</td>\n",
              "      <td>0</td>\n",
              "      <td>1</td>\n",
              "      <td>0</td>\n",
              "      <td>0</td>\n",
              "    </tr>\n",
              "    <tr>\n",
              "      <th>4</th>\n",
              "      <td>0</td>\n",
              "      <td>0</td>\n",
              "      <td>0</td>\n",
              "      <td>0</td>\n",
              "      <td>0</td>\n",
              "      <td>0</td>\n",
              "      <td>0</td>\n",
              "      <td>0</td>\n",
              "      <td>0</td>\n",
              "      <td>0</td>\n",
              "    </tr>\n",
              "  </tbody>\n",
              "</table>\n",
              "</div>\n",
              "      <button class=\"colab-df-convert\" onclick=\"convertToInteractive('df-4c056271-3792-4a65-a00a-03b4ce325d0f')\"\n",
              "              title=\"Convert this dataframe to an interactive table.\"\n",
              "              style=\"display:none;\">\n",
              "        \n",
              "  <svg xmlns=\"http://www.w3.org/2000/svg\" height=\"24px\"viewBox=\"0 0 24 24\"\n",
              "       width=\"24px\">\n",
              "    <path d=\"M0 0h24v24H0V0z\" fill=\"none\"/>\n",
              "    <path d=\"M18.56 5.44l.94 2.06.94-2.06 2.06-.94-2.06-.94-.94-2.06-.94 2.06-2.06.94zm-11 1L8.5 8.5l.94-2.06 2.06-.94-2.06-.94L8.5 2.5l-.94 2.06-2.06.94zm10 10l.94 2.06.94-2.06 2.06-.94-2.06-.94-.94-2.06-.94 2.06-2.06.94z\"/><path d=\"M17.41 7.96l-1.37-1.37c-.4-.4-.92-.59-1.43-.59-.52 0-1.04.2-1.43.59L10.3 9.45l-7.72 7.72c-.78.78-.78 2.05 0 2.83L4 21.41c.39.39.9.59 1.41.59.51 0 1.02-.2 1.41-.59l7.78-7.78 2.81-2.81c.8-.78.8-2.07 0-2.86zM5.41 20L4 18.59l7.72-7.72 1.47 1.35L5.41 20z\"/>\n",
              "  </svg>\n",
              "      </button>\n",
              "      \n",
              "  <style>\n",
              "    .colab-df-container {\n",
              "      display:flex;\n",
              "      flex-wrap:wrap;\n",
              "      gap: 12px;\n",
              "    }\n",
              "\n",
              "    .colab-df-convert {\n",
              "      background-color: #E8F0FE;\n",
              "      border: none;\n",
              "      border-radius: 50%;\n",
              "      cursor: pointer;\n",
              "      display: none;\n",
              "      fill: #1967D2;\n",
              "      height: 32px;\n",
              "      padding: 0 0 0 0;\n",
              "      width: 32px;\n",
              "    }\n",
              "\n",
              "    .colab-df-convert:hover {\n",
              "      background-color: #E2EBFA;\n",
              "      box-shadow: 0px 1px 2px rgba(60, 64, 67, 0.3), 0px 1px 3px 1px rgba(60, 64, 67, 0.15);\n",
              "      fill: #174EA6;\n",
              "    }\n",
              "\n",
              "    [theme=dark] .colab-df-convert {\n",
              "      background-color: #3B4455;\n",
              "      fill: #D2E3FC;\n",
              "    }\n",
              "\n",
              "    [theme=dark] .colab-df-convert:hover {\n",
              "      background-color: #434B5C;\n",
              "      box-shadow: 0px 1px 3px 1px rgba(0, 0, 0, 0.15);\n",
              "      filter: drop-shadow(0px 1px 2px rgba(0, 0, 0, 0.3));\n",
              "      fill: #FFFFFF;\n",
              "    }\n",
              "  </style>\n",
              "\n",
              "      <script>\n",
              "        const buttonEl =\n",
              "          document.querySelector('#df-4c056271-3792-4a65-a00a-03b4ce325d0f button.colab-df-convert');\n",
              "        buttonEl.style.display =\n",
              "          google.colab.kernel.accessAllowed ? 'block' : 'none';\n",
              "\n",
              "        async function convertToInteractive(key) {\n",
              "          const element = document.querySelector('#df-4c056271-3792-4a65-a00a-03b4ce325d0f');\n",
              "          const dataTable =\n",
              "            await google.colab.kernel.invokeFunction('convertToInteractive',\n",
              "                                                     [key], {});\n",
              "          if (!dataTable) return;\n",
              "\n",
              "          const docLinkHtml = 'Like what you see? Visit the ' +\n",
              "            '<a target=\"_blank\" href=https://colab.research.google.com/notebooks/data_table.ipynb>data table notebook</a>'\n",
              "            + ' to learn more about interactive tables.';\n",
              "          element.innerHTML = '';\n",
              "          dataTable['output_type'] = 'display_data';\n",
              "          await google.colab.output.renderOutput(dataTable, element);\n",
              "          const docLink = document.createElement('div');\n",
              "          docLink.innerHTML = docLinkHtml;\n",
              "          element.appendChild(docLink);\n",
              "        }\n",
              "      </script>\n",
              "    </div>\n",
              "  </div>\n",
              "  "
            ]
          },
          "metadata": {},
          "execution_count": 64
        }
      ]
    },
    {
      "cell_type": "code",
      "source": [
        "print(\"Jumlah data sebelum drop null:\", df_ads.count())\n",
        "df_ads = df_ads.na.drop(\"any\")\n",
        "print(\"Jumlah data setelah drop null : \",df_ads.count())"
      ],
      "metadata": {
        "colab": {
          "base_uri": "https://localhost:8080/"
        },
        "id": "CdVZt7o-hL4x",
        "outputId": "0a79880f-1a65-41fe-c8aa-888a4491c366"
      },
      "execution_count": null,
      "outputs": [
        {
          "output_type": "stream",
          "name": "stdout",
          "text": [
            "Jumlah data sebelum drop null: 10000\n",
            "Jumlah data setelah drop null :  10000\n"
          ]
        }
      ]
    },
    {
      "cell_type": "code",
      "source": [
        "df_ads_pandas.info()"
      ],
      "metadata": {
        "colab": {
          "base_uri": "https://localhost:8080/"
        },
        "id": "cDCZ0HB2hPMO",
        "outputId": "0b73a372-72df-4a59-b9e9-3cb8de04db0b"
      },
      "execution_count": null,
      "outputs": [
        {
          "output_type": "stream",
          "name": "stdout",
          "text": [
            "<class 'pandas.core.frame.DataFrame'>\n",
            "RangeIndex: 10000 entries, 0 to 9999\n",
            "Data columns (total 10 columns):\n",
            " #   Column  Non-Null Count  Dtype\n",
            "---  ------  --------------  -----\n",
            " 0   Ad 1    10000 non-null  int32\n",
            " 1   Ad 2    10000 non-null  int32\n",
            " 2   Ad 3    10000 non-null  int32\n",
            " 3   Ad 4    10000 non-null  int32\n",
            " 4   Ad 5    10000 non-null  int32\n",
            " 5   Ad 6    10000 non-null  int32\n",
            " 6   Ad 7    10000 non-null  int32\n",
            " 7   Ad 8    10000 non-null  int32\n",
            " 8   Ad 9    10000 non-null  int32\n",
            " 9   Ad 10   10000 non-null  int32\n",
            "dtypes: int32(10)\n",
            "memory usage: 390.8 KB\n"
          ]
        }
      ]
    },
    {
      "cell_type": "markdown",
      "source": [
        "### **EDA**"
      ],
      "metadata": {
        "id": "k_NUctVPiET0"
      }
    },
    {
      "cell_type": "code",
      "source": [
        "click_rate = []\n",
        "for i in range(10):\n",
        "  print()\n",
        "  print(df_ads_pandas.columns[i])\n",
        "  print(df_ads_pandas[df_ads_pandas.columns[i]].value_counts())\n",
        "  click_rate.append(df_ads_pandas[df_ads_pandas.columns[i]].value_counts()[1])"
      ],
      "metadata": {
        "colab": {
          "base_uri": "https://localhost:8080/"
        },
        "id": "Pw8Xs2DYhVMa",
        "outputId": "126d2e2a-9a57-49c4-a494-6d66aa3d1482"
      },
      "execution_count": null,
      "outputs": [
        {
          "output_type": "stream",
          "name": "stdout",
          "text": [
            "\n",
            "Ad 1\n",
            "0    8297\n",
            "1    1703\n",
            "Name: Ad 1, dtype: int64\n",
            "\n",
            "Ad 2\n",
            "0    8705\n",
            "1    1295\n",
            "Name: Ad 2, dtype: int64\n",
            "\n",
            "Ad 3\n",
            "0    9272\n",
            "1     728\n",
            "Name: Ad 3, dtype: int64\n",
            "\n",
            "Ad 4\n",
            "0    8804\n",
            "1    1196\n",
            "Name: Ad 4, dtype: int64\n",
            "\n",
            "Ad 5\n",
            "0    7305\n",
            "1    2695\n",
            "Name: Ad 5, dtype: int64\n",
            "\n",
            "Ad 6\n",
            "0    9874\n",
            "1     126\n",
            "Name: Ad 6, dtype: int64\n",
            "\n",
            "Ad 7\n",
            "0    8888\n",
            "1    1112\n",
            "Name: Ad 7, dtype: int64\n",
            "\n",
            "Ad 8\n",
            "0    7909\n",
            "1    2091\n",
            "Name: Ad 8, dtype: int64\n",
            "\n",
            "Ad 9\n",
            "0    9048\n",
            "1     952\n",
            "Name: Ad 9, dtype: int64\n",
            "\n",
            "Ad 10\n",
            "0    9511\n",
            "1     489\n",
            "Name: Ad 10, dtype: int64\n"
          ]
        }
      ]
    },
    {
      "cell_type": "code",
      "source": [
        "print(click_rate)\n",
        "print('Rata-rata Click rate : ', np.mean(click_rate))\n",
        "print('Max Click rate : ', np.max(click_rate))\n",
        "print('Min Click rate : ', np.min(click_rate))"
      ],
      "metadata": {
        "colab": {
          "base_uri": "https://localhost:8080/"
        },
        "id": "__adkAochyPK",
        "outputId": "f0312a36-0ed8-43b4-e0eb-6bc05da463b8"
      },
      "execution_count": null,
      "outputs": [
        {
          "output_type": "stream",
          "name": "stdout",
          "text": [
            "[1703, 1295, 728, 1196, 2695, 126, 1112, 2091, 952, 489]\n",
            "Rata-rata Click rate :  1238.7\n",
            "Max Click rate :  2695\n",
            "Min Click rate :  126\n"
          ]
        }
      ]
    },
    {
      "cell_type": "code",
      "source": [],
      "metadata": {
        "id": "EY2bRNRBiaZA"
      },
      "execution_count": null,
      "outputs": []
    },
    {
      "cell_type": "markdown",
      "source": [],
      "metadata": {
        "id": "6LEbZzZckVmj"
      }
    },
    {
      "cell_type": "markdown",
      "source": [
        "## **Market Basket Optimization**"
      ],
      "metadata": {
        "id": "PcKMOt-ZkhLE"
      }
    },
    {
      "cell_type": "markdown",
      "source": [
        "### **Load Dataset**"
      ],
      "metadata": {
        "id": "P5oV987HqfOz"
      }
    },
    {
      "cell_type": "code",
      "source": [
        "df_marketbasket.show(2,False)"
      ],
      "metadata": {
        "colab": {
          "base_uri": "https://localhost:8080/"
        },
        "id": "4Mq32tbskjkU",
        "outputId": "442d7f4d-e99f-43d3-fe0e-d20afb592d2d"
      },
      "execution_count": null,
      "outputs": [
        {
          "output_type": "stream",
          "name": "stdout",
          "text": [
            "+-------+---------+-------+--------------+------------+----------------+----+--------------+------------+------------+--------------+---------+-----+-----+-------------+------+-----------------+---------------+-------+---------+\n",
            "|col1   |col2     |col3   |col4          |col5        |col6            |col7|col8          |col9        |col10       |col11         |col12    |col13|col14|col15        |col16 |col17            |col18          |col19  |col20    |\n",
            "+-------+---------+-------+--------------+------------+----------------+----+--------------+------------+------------+--------------+---------+-----+-----+-------------+------+-----------------+---------------+-------+---------+\n",
            "|shrimp |almonds  |avocado|vegetables mix|green grapes|whole weat flour|yams|cottage cheese|energy drink|tomato juice|low fat yogurt|green tea|honey|salad|mineral water|salmon|antioxydant juice|frozen smoothie|spinach|olive oil|\n",
            "|burgers|meatballs|eggs   |null          |null        |null            |null|null          |null        |null        |null          |null     |null |null |null         |null  |null             |null           |null   |null     |\n",
            "+-------+---------+-------+--------------+------------+----------------+----+--------------+------------+------------+--------------+---------+-----+-----+-------------+------+-----------------+---------------+-------+---------+\n",
            "only showing top 2 rows\n",
            "\n"
          ]
        }
      ]
    },
    {
      "cell_type": "markdown",
      "source": [
        "### **EDA**"
      ],
      "metadata": {
        "id": "uP0HqeyHqlgO"
      }
    },
    {
      "cell_type": "code",
      "source": [
        "df_basket_pandas = df_marketbasket.toPandas()\n",
        "df_basket_pandas.fillna(\"-\", inplace = True)"
      ],
      "metadata": {
        "id": "yonpQKVhlOIU"
      },
      "execution_count": null,
      "outputs": []
    },
    {
      "cell_type": "code",
      "source": [
        "df_basket_pandas"
      ],
      "metadata": {
        "colab": {
          "base_uri": "https://localhost:8080/"
        },
        "id": "E-dCfmqdoMDL",
        "outputId": "ab95c8f9-1669-433a-a8c5-9b2dcc45601f"
      },
      "execution_count": null,
      "outputs": [
        {
          "output_type": "execute_result",
          "data": {
            "text/plain": [
              "               col1               col2         col3              col4  \\\n",
              "0            shrimp            almonds      avocado    vegetables mix   \n",
              "1           burgers          meatballs         eggs                 -   \n",
              "2           chutney                  -            -                 -   \n",
              "3            turkey            avocado            -                 -   \n",
              "4     mineral water               milk   energy bar  whole wheat rice   \n",
              "...             ...                ...          ...               ...   \n",
              "7496         butter         light mayo  fresh bread                 -   \n",
              "7497        burgers  frozen vegetables         eggs      french fries   \n",
              "7498        chicken                  -            -                 -   \n",
              "7499       escalope          green tea            -                 -   \n",
              "7500           eggs    frozen smoothie  yogurt cake    low fat yogurt   \n",
              "\n",
              "              col5              col6  col7            col8          col9  \\\n",
              "0     green grapes  whole weat flour  yams  cottage cheese  energy drink   \n",
              "1                -                 -     -               -             -   \n",
              "2                -                 -     -               -             -   \n",
              "3                -                 -     -               -             -   \n",
              "4        green tea                 -     -               -             -   \n",
              "...            ...               ...   ...             ...           ...   \n",
              "7496             -                 -     -               -             -   \n",
              "7497     magazines         green tea     -               -             -   \n",
              "7498             -                 -     -               -             -   \n",
              "7499             -                 -     -               -             -   \n",
              "7500             -                 -     -               -             -   \n",
              "\n",
              "             col10           col11      col12  col13  col14          col15  \\\n",
              "0     tomato juice  low fat yogurt  green tea  honey  salad  mineral water   \n",
              "1                -               -          -      -      -              -   \n",
              "2                -               -          -      -      -              -   \n",
              "3                -               -          -      -      -              -   \n",
              "4                -               -          -      -      -              -   \n",
              "...            ...             ...        ...    ...    ...            ...   \n",
              "7496             -               -          -      -      -              -   \n",
              "7497             -               -          -      -      -              -   \n",
              "7498             -               -          -      -      -              -   \n",
              "7499             -               -          -      -      -              -   \n",
              "7500             -               -          -      -      -              -   \n",
              "\n",
              "       col16              col17            col18    col19      col20  \n",
              "0     salmon  antioxydant juice  frozen smoothie  spinach  olive oil  \n",
              "1          -                  -                -        -          -  \n",
              "2          -                  -                -        -          -  \n",
              "3          -                  -                -        -          -  \n",
              "4          -                  -                -        -          -  \n",
              "...      ...                ...              ...      ...        ...  \n",
              "7496       -                  -                -        -          -  \n",
              "7497       -                  -                -        -          -  \n",
              "7498       -                  -                -        -          -  \n",
              "7499       -                  -                -        -          -  \n",
              "7500       -                  -                -        -          -  \n",
              "\n",
              "[7501 rows x 20 columns]"
            ],
            "text/html": [
              "\n",
              "  <div id=\"df-07b84e8a-72d1-4a89-b1ce-477e09672900\">\n",
              "    <div class=\"colab-df-container\">\n",
              "      <div>\n",
              "<style scoped>\n",
              "    .dataframe tbody tr th:only-of-type {\n",
              "        vertical-align: middle;\n",
              "    }\n",
              "\n",
              "    .dataframe tbody tr th {\n",
              "        vertical-align: top;\n",
              "    }\n",
              "\n",
              "    .dataframe thead th {\n",
              "        text-align: right;\n",
              "    }\n",
              "</style>\n",
              "<table border=\"1\" class=\"dataframe\">\n",
              "  <thead>\n",
              "    <tr style=\"text-align: right;\">\n",
              "      <th></th>\n",
              "      <th>col1</th>\n",
              "      <th>col2</th>\n",
              "      <th>col3</th>\n",
              "      <th>col4</th>\n",
              "      <th>col5</th>\n",
              "      <th>col6</th>\n",
              "      <th>col7</th>\n",
              "      <th>col8</th>\n",
              "      <th>col9</th>\n",
              "      <th>col10</th>\n",
              "      <th>col11</th>\n",
              "      <th>col12</th>\n",
              "      <th>col13</th>\n",
              "      <th>col14</th>\n",
              "      <th>col15</th>\n",
              "      <th>col16</th>\n",
              "      <th>col17</th>\n",
              "      <th>col18</th>\n",
              "      <th>col19</th>\n",
              "      <th>col20</th>\n",
              "    </tr>\n",
              "  </thead>\n",
              "  <tbody>\n",
              "    <tr>\n",
              "      <th>0</th>\n",
              "      <td>shrimp</td>\n",
              "      <td>almonds</td>\n",
              "      <td>avocado</td>\n",
              "      <td>vegetables mix</td>\n",
              "      <td>green grapes</td>\n",
              "      <td>whole weat flour</td>\n",
              "      <td>yams</td>\n",
              "      <td>cottage cheese</td>\n",
              "      <td>energy drink</td>\n",
              "      <td>tomato juice</td>\n",
              "      <td>low fat yogurt</td>\n",
              "      <td>green tea</td>\n",
              "      <td>honey</td>\n",
              "      <td>salad</td>\n",
              "      <td>mineral water</td>\n",
              "      <td>salmon</td>\n",
              "      <td>antioxydant juice</td>\n",
              "      <td>frozen smoothie</td>\n",
              "      <td>spinach</td>\n",
              "      <td>olive oil</td>\n",
              "    </tr>\n",
              "    <tr>\n",
              "      <th>1</th>\n",
              "      <td>burgers</td>\n",
              "      <td>meatballs</td>\n",
              "      <td>eggs</td>\n",
              "      <td>-</td>\n",
              "      <td>-</td>\n",
              "      <td>-</td>\n",
              "      <td>-</td>\n",
              "      <td>-</td>\n",
              "      <td>-</td>\n",
              "      <td>-</td>\n",
              "      <td>-</td>\n",
              "      <td>-</td>\n",
              "      <td>-</td>\n",
              "      <td>-</td>\n",
              "      <td>-</td>\n",
              "      <td>-</td>\n",
              "      <td>-</td>\n",
              "      <td>-</td>\n",
              "      <td>-</td>\n",
              "      <td>-</td>\n",
              "    </tr>\n",
              "    <tr>\n",
              "      <th>2</th>\n",
              "      <td>chutney</td>\n",
              "      <td>-</td>\n",
              "      <td>-</td>\n",
              "      <td>-</td>\n",
              "      <td>-</td>\n",
              "      <td>-</td>\n",
              "      <td>-</td>\n",
              "      <td>-</td>\n",
              "      <td>-</td>\n",
              "      <td>-</td>\n",
              "      <td>-</td>\n",
              "      <td>-</td>\n",
              "      <td>-</td>\n",
              "      <td>-</td>\n",
              "      <td>-</td>\n",
              "      <td>-</td>\n",
              "      <td>-</td>\n",
              "      <td>-</td>\n",
              "      <td>-</td>\n",
              "      <td>-</td>\n",
              "    </tr>\n",
              "    <tr>\n",
              "      <th>3</th>\n",
              "      <td>turkey</td>\n",
              "      <td>avocado</td>\n",
              "      <td>-</td>\n",
              "      <td>-</td>\n",
              "      <td>-</td>\n",
              "      <td>-</td>\n",
              "      <td>-</td>\n",
              "      <td>-</td>\n",
              "      <td>-</td>\n",
              "      <td>-</td>\n",
              "      <td>-</td>\n",
              "      <td>-</td>\n",
              "      <td>-</td>\n",
              "      <td>-</td>\n",
              "      <td>-</td>\n",
              "      <td>-</td>\n",
              "      <td>-</td>\n",
              "      <td>-</td>\n",
              "      <td>-</td>\n",
              "      <td>-</td>\n",
              "    </tr>\n",
              "    <tr>\n",
              "      <th>4</th>\n",
              "      <td>mineral water</td>\n",
              "      <td>milk</td>\n",
              "      <td>energy bar</td>\n",
              "      <td>whole wheat rice</td>\n",
              "      <td>green tea</td>\n",
              "      <td>-</td>\n",
              "      <td>-</td>\n",
              "      <td>-</td>\n",
              "      <td>-</td>\n",
              "      <td>-</td>\n",
              "      <td>-</td>\n",
              "      <td>-</td>\n",
              "      <td>-</td>\n",
              "      <td>-</td>\n",
              "      <td>-</td>\n",
              "      <td>-</td>\n",
              "      <td>-</td>\n",
              "      <td>-</td>\n",
              "      <td>-</td>\n",
              "      <td>-</td>\n",
              "    </tr>\n",
              "    <tr>\n",
              "      <th>...</th>\n",
              "      <td>...</td>\n",
              "      <td>...</td>\n",
              "      <td>...</td>\n",
              "      <td>...</td>\n",
              "      <td>...</td>\n",
              "      <td>...</td>\n",
              "      <td>...</td>\n",
              "      <td>...</td>\n",
              "      <td>...</td>\n",
              "      <td>...</td>\n",
              "      <td>...</td>\n",
              "      <td>...</td>\n",
              "      <td>...</td>\n",
              "      <td>...</td>\n",
              "      <td>...</td>\n",
              "      <td>...</td>\n",
              "      <td>...</td>\n",
              "      <td>...</td>\n",
              "      <td>...</td>\n",
              "      <td>...</td>\n",
              "    </tr>\n",
              "    <tr>\n",
              "      <th>7496</th>\n",
              "      <td>butter</td>\n",
              "      <td>light mayo</td>\n",
              "      <td>fresh bread</td>\n",
              "      <td>-</td>\n",
              "      <td>-</td>\n",
              "      <td>-</td>\n",
              "      <td>-</td>\n",
              "      <td>-</td>\n",
              "      <td>-</td>\n",
              "      <td>-</td>\n",
              "      <td>-</td>\n",
              "      <td>-</td>\n",
              "      <td>-</td>\n",
              "      <td>-</td>\n",
              "      <td>-</td>\n",
              "      <td>-</td>\n",
              "      <td>-</td>\n",
              "      <td>-</td>\n",
              "      <td>-</td>\n",
              "      <td>-</td>\n",
              "    </tr>\n",
              "    <tr>\n",
              "      <th>7497</th>\n",
              "      <td>burgers</td>\n",
              "      <td>frozen vegetables</td>\n",
              "      <td>eggs</td>\n",
              "      <td>french fries</td>\n",
              "      <td>magazines</td>\n",
              "      <td>green tea</td>\n",
              "      <td>-</td>\n",
              "      <td>-</td>\n",
              "      <td>-</td>\n",
              "      <td>-</td>\n",
              "      <td>-</td>\n",
              "      <td>-</td>\n",
              "      <td>-</td>\n",
              "      <td>-</td>\n",
              "      <td>-</td>\n",
              "      <td>-</td>\n",
              "      <td>-</td>\n",
              "      <td>-</td>\n",
              "      <td>-</td>\n",
              "      <td>-</td>\n",
              "    </tr>\n",
              "    <tr>\n",
              "      <th>7498</th>\n",
              "      <td>chicken</td>\n",
              "      <td>-</td>\n",
              "      <td>-</td>\n",
              "      <td>-</td>\n",
              "      <td>-</td>\n",
              "      <td>-</td>\n",
              "      <td>-</td>\n",
              "      <td>-</td>\n",
              "      <td>-</td>\n",
              "      <td>-</td>\n",
              "      <td>-</td>\n",
              "      <td>-</td>\n",
              "      <td>-</td>\n",
              "      <td>-</td>\n",
              "      <td>-</td>\n",
              "      <td>-</td>\n",
              "      <td>-</td>\n",
              "      <td>-</td>\n",
              "      <td>-</td>\n",
              "      <td>-</td>\n",
              "    </tr>\n",
              "    <tr>\n",
              "      <th>7499</th>\n",
              "      <td>escalope</td>\n",
              "      <td>green tea</td>\n",
              "      <td>-</td>\n",
              "      <td>-</td>\n",
              "      <td>-</td>\n",
              "      <td>-</td>\n",
              "      <td>-</td>\n",
              "      <td>-</td>\n",
              "      <td>-</td>\n",
              "      <td>-</td>\n",
              "      <td>-</td>\n",
              "      <td>-</td>\n",
              "      <td>-</td>\n",
              "      <td>-</td>\n",
              "      <td>-</td>\n",
              "      <td>-</td>\n",
              "      <td>-</td>\n",
              "      <td>-</td>\n",
              "      <td>-</td>\n",
              "      <td>-</td>\n",
              "    </tr>\n",
              "    <tr>\n",
              "      <th>7500</th>\n",
              "      <td>eggs</td>\n",
              "      <td>frozen smoothie</td>\n",
              "      <td>yogurt cake</td>\n",
              "      <td>low fat yogurt</td>\n",
              "      <td>-</td>\n",
              "      <td>-</td>\n",
              "      <td>-</td>\n",
              "      <td>-</td>\n",
              "      <td>-</td>\n",
              "      <td>-</td>\n",
              "      <td>-</td>\n",
              "      <td>-</td>\n",
              "      <td>-</td>\n",
              "      <td>-</td>\n",
              "      <td>-</td>\n",
              "      <td>-</td>\n",
              "      <td>-</td>\n",
              "      <td>-</td>\n",
              "      <td>-</td>\n",
              "      <td>-</td>\n",
              "    </tr>\n",
              "  </tbody>\n",
              "</table>\n",
              "<p>7501 rows × 20 columns</p>\n",
              "</div>\n",
              "      <button class=\"colab-df-convert\" onclick=\"convertToInteractive('df-07b84e8a-72d1-4a89-b1ce-477e09672900')\"\n",
              "              title=\"Convert this dataframe to an interactive table.\"\n",
              "              style=\"display:none;\">\n",
              "        \n",
              "  <svg xmlns=\"http://www.w3.org/2000/svg\" height=\"24px\"viewBox=\"0 0 24 24\"\n",
              "       width=\"24px\">\n",
              "    <path d=\"M0 0h24v24H0V0z\" fill=\"none\"/>\n",
              "    <path d=\"M18.56 5.44l.94 2.06.94-2.06 2.06-.94-2.06-.94-.94-2.06-.94 2.06-2.06.94zm-11 1L8.5 8.5l.94-2.06 2.06-.94-2.06-.94L8.5 2.5l-.94 2.06-2.06.94zm10 10l.94 2.06.94-2.06 2.06-.94-2.06-.94-.94-2.06-.94 2.06-2.06.94z\"/><path d=\"M17.41 7.96l-1.37-1.37c-.4-.4-.92-.59-1.43-.59-.52 0-1.04.2-1.43.59L10.3 9.45l-7.72 7.72c-.78.78-.78 2.05 0 2.83L4 21.41c.39.39.9.59 1.41.59.51 0 1.02-.2 1.41-.59l7.78-7.78 2.81-2.81c.8-.78.8-2.07 0-2.86zM5.41 20L4 18.59l7.72-7.72 1.47 1.35L5.41 20z\"/>\n",
              "  </svg>\n",
              "      </button>\n",
              "      \n",
              "  <style>\n",
              "    .colab-df-container {\n",
              "      display:flex;\n",
              "      flex-wrap:wrap;\n",
              "      gap: 12px;\n",
              "    }\n",
              "\n",
              "    .colab-df-convert {\n",
              "      background-color: #E8F0FE;\n",
              "      border: none;\n",
              "      border-radius: 50%;\n",
              "      cursor: pointer;\n",
              "      display: none;\n",
              "      fill: #1967D2;\n",
              "      height: 32px;\n",
              "      padding: 0 0 0 0;\n",
              "      width: 32px;\n",
              "    }\n",
              "\n",
              "    .colab-df-convert:hover {\n",
              "      background-color: #E2EBFA;\n",
              "      box-shadow: 0px 1px 2px rgba(60, 64, 67, 0.3), 0px 1px 3px 1px rgba(60, 64, 67, 0.15);\n",
              "      fill: #174EA6;\n",
              "    }\n",
              "\n",
              "    [theme=dark] .colab-df-convert {\n",
              "      background-color: #3B4455;\n",
              "      fill: #D2E3FC;\n",
              "    }\n",
              "\n",
              "    [theme=dark] .colab-df-convert:hover {\n",
              "      background-color: #434B5C;\n",
              "      box-shadow: 0px 1px 3px 1px rgba(0, 0, 0, 0.15);\n",
              "      filter: drop-shadow(0px 1px 2px rgba(0, 0, 0, 0.3));\n",
              "      fill: #FFFFFF;\n",
              "    }\n",
              "  </style>\n",
              "\n",
              "      <script>\n",
              "        const buttonEl =\n",
              "          document.querySelector('#df-07b84e8a-72d1-4a89-b1ce-477e09672900 button.colab-df-convert');\n",
              "        buttonEl.style.display =\n",
              "          google.colab.kernel.accessAllowed ? 'block' : 'none';\n",
              "\n",
              "        async function convertToInteractive(key) {\n",
              "          const element = document.querySelector('#df-07b84e8a-72d1-4a89-b1ce-477e09672900');\n",
              "          const dataTable =\n",
              "            await google.colab.kernel.invokeFunction('convertToInteractive',\n",
              "                                                     [key], {});\n",
              "          if (!dataTable) return;\n",
              "\n",
              "          const docLinkHtml = 'Like what you see? Visit the ' +\n",
              "            '<a target=\"_blank\" href=https://colab.research.google.com/notebooks/data_table.ipynb>data table notebook</a>'\n",
              "            + ' to learn more about interactive tables.';\n",
              "          element.innerHTML = '';\n",
              "          dataTable['output_type'] = 'display_data';\n",
              "          await google.colab.output.renderOutput(dataTable, element);\n",
              "          const docLink = document.createElement('div');\n",
              "          docLink.innerHTML = docLinkHtml;\n",
              "          element.appendChild(docLink);\n",
              "        }\n",
              "      </script>\n",
              "    </div>\n",
              "  </div>\n",
              "  "
            ]
          },
          "metadata": {},
          "execution_count": 71
        }
      ]
    },
    {
      "cell_type": "code",
      "source": [
        "arr_item = {}\n",
        "for i in range(20):\n",
        "  print()\n",
        "  print(df_basket_pandas.columns[i])\n",
        "  print(df_basket_pandas[df_basket_pandas.columns[i]].value_counts())\n",
        "  arr_item['col_{}'.format(i)] = df_basket_pandas[df_basket_pandas.columns[i]].value_counts()"
      ],
      "metadata": {
        "colab": {
          "base_uri": "https://localhost:8080/"
        },
        "id": "kPMwl7GDq1J3",
        "outputId": "6feff64f-a56d-4cf2-aef4-82d628548020"
      },
      "execution_count": null,
      "outputs": [
        {
          "output_type": "stream",
          "name": "stdout",
          "text": [
            "\n",
            "col1\n",
            "mineral water        577\n",
            "burgers              576\n",
            "turkey               458\n",
            "chocolate            391\n",
            "frozen vegetables    373\n",
            "                    ... \n",
            "cauliflower            1\n",
            "ketchup                1\n",
            "cream                  1\n",
            "body spray             1\n",
            "oatmeal                1\n",
            "Name: col1, Length: 115, dtype: int64\n",
            "\n",
            "col2\n",
            "-                1754\n",
            "mineral water     484\n",
            "spaghetti         411\n",
            "eggs              302\n",
            "ground beef       291\n",
            "                 ... \n",
            "asparagus           2\n",
            "chili               1\n",
            "water spray         1\n",
            "cream               1\n",
            "cauliflower         1\n",
            "Name: col2, Length: 118, dtype: int64\n",
            "\n",
            "col3\n",
            "-                   3112\n",
            "mineral water        375\n",
            "spaghetti            279\n",
            "eggs                 225\n",
            "milk                 213\n",
            "                    ... \n",
            "pickles                1\n",
            "cream                  1\n",
            "water spray            1\n",
            "hand protein bar       1\n",
            "cauliflower            1\n",
            "Name: col3, Length: 116, dtype: int64\n",
            "\n",
            "col4\n",
            "-                4156\n",
            "mineral water     201\n",
            "eggs              181\n",
            "french fries      174\n",
            "spaghetti         167\n",
            "                 ... \n",
            "ham                 1\n",
            "napkins             1\n",
            "water spray         1\n",
            "cream               1\n",
            "salad               1\n",
            "Name: col4, Length: 115, dtype: int64\n",
            "\n",
            "col5\n",
            "-                    4972\n",
            "green tea             153\n",
            "eggs                  134\n",
            "french fries          130\n",
            "chocolate             115\n",
            "                     ... \n",
            "napkins                 2\n",
            "frozen vegetables       2\n",
            "salad                   2\n",
            "tomatoes                1\n",
            "cream                   1\n",
            "Name: col5, Length: 111, dtype: int64\n",
            "\n",
            "col6\n",
            "-                5637\n",
            "french fries      107\n",
            "eggs              102\n",
            "green tea         100\n",
            "chocolate          71\n",
            "                 ... \n",
            "mashed potato       1\n",
            "spinach             1\n",
            "bramble             1\n",
            "yams                1\n",
            "candy bars          1\n",
            "Name: col6, Length: 107, dtype: int64\n",
            "\n",
            "col7\n",
            "-                  6132\n",
            "green tea            96\n",
            "french fries         81\n",
            "pancakes             69\n",
            "eggs                 59\n",
            "                   ... \n",
            "mayonnaise            2\n",
            "parmesan cheese       1\n",
            "mint green tea        1\n",
            "chocolate bread       1\n",
            "pepper                1\n",
            "Name: col7, Length: 103, dtype: int64\n",
            "\n",
            "col8\n",
            "-                 6520\n",
            "green tea           67\n",
            "pancakes            44\n",
            "low fat yogurt      43\n",
            "french fries        40\n",
            "                  ... \n",
            "soda                 1\n",
            "flax seed            1\n",
            "babies food          1\n",
            " asparagus           1\n",
            "soup                 1\n",
            "Name: col8, Length: 99, dtype: int64\n",
            "\n",
            "col9\n",
            "-                    6847\n",
            "green tea              57\n",
            "low fat yogurt         38\n",
            "frozen smoothie        35\n",
            "french fries           34\n",
            "                     ... \n",
            "cider                   1\n",
            "antioxydant juice       1\n",
            "salad                   1\n",
            "avocado                 1\n",
            "candy bars              1\n",
            "Name: col9, Length: 89, dtype: int64\n",
            "\n",
            "col10\n",
            "-                 7106\n",
            "green tea           31\n",
            "french fries        19\n",
            "tomato juice        17\n",
            "low fat yogurt      17\n",
            "                  ... \n",
            "asparagus            1\n",
            "fromage blanc        1\n",
            "mashed potato        1\n",
            "candy bars           1\n",
            "napkins              1\n",
            "Name: col10, Length: 81, dtype: int64\n",
            "\n",
            "col11\n",
            "-                       7245\n",
            "low fat yogurt            22\n",
            "green tea                 20\n",
            "fresh bread               14\n",
            "french fries              12\n",
            "                        ... \n",
            "rice                       1\n",
            "spinach                    1\n",
            "mushroom cream sauce       1\n",
            "sandwich                   1\n",
            "asparagus                  1\n",
            "Name: col11, Length: 67, dtype: int64\n",
            "\n",
            "col12\n",
            "-                       7347\n",
            "green tea                 15\n",
            "frozen smoothie           10\n",
            "french fries              10\n",
            "low fat yogurt             9\n",
            "pancakes                   7\n",
            "fresh bread                7\n",
            "tomato juice               7\n",
            "mint                       4\n",
            "honey                      4\n",
            "hot dogs                   3\n",
            "light mayo                 3\n",
            "energy drink               3\n",
            "cottage cheese             3\n",
            "mushroom cream sauce       3\n",
            "mayonnaise                 3\n",
            "melons                     3\n",
            "chocolate                  3\n",
            "magazines                  3\n",
            "cookies                    3\n",
            "escalope                   3\n",
            "cereals                    3\n",
            "protein bar                3\n",
            "white wine                 3\n",
            "cake                       3\n",
            "brownies                   2\n",
            "shampoo                    2\n",
            "extra dark chocolate       2\n",
            "ketchup                    2\n",
            "whole weat flour           2\n",
            "champagne                  2\n",
            "candy bars                 2\n",
            "eggs                       2\n",
            "whole wheat rice           2\n",
            "salt                       2\n",
            "cooking oil                1\n",
            "body spray                 1\n",
            "toothpaste                 1\n",
            "strong cheese              1\n",
            "zucchini                   1\n",
            "strawberries               1\n",
            "green grapes               1\n",
            "chicken                    1\n",
            "corn                       1\n",
            "ham                        1\n",
            "rice                       1\n",
            "blueberries                1\n",
            "eggplant                   1\n",
            "vegetables mix             1\n",
            "mashed potato              1\n",
            "gluten free bar            1\n",
            "Name: col12, dtype: int64\n",
            "\n",
            "col13\n",
            "-                   7414\n",
            "green tea              8\n",
            "fresh bread            6\n",
            "low fat yogurt         6\n",
            "french fries           4\n",
            "escalope               4\n",
            "tomato juice           4\n",
            "brownies               3\n",
            "hot dogs               3\n",
            "melons                 3\n",
            "salt                   3\n",
            "frozen smoothie        2\n",
            "yogurt cake            2\n",
            "light mayo             2\n",
            "nonfat milk            2\n",
            "sparkling water        2\n",
            "energy drink           2\n",
            "gums                   2\n",
            "protein bar            2\n",
            "mint                   2\n",
            "pancakes               2\n",
            "ham                    1\n",
            "magazines              1\n",
            "barbecue sauce         1\n",
            "asparagus              1\n",
            "cauliflower            1\n",
            "bug spray              1\n",
            "toothpaste             1\n",
            "whole wheat rice       1\n",
            "cereals                1\n",
            "mashed potato          1\n",
            "cottage cheese         1\n",
            "honey                  1\n",
            "eggplant               1\n",
            "white wine             1\n",
            "burger sauce           1\n",
            "cooking oil            1\n",
            "corn                   1\n",
            "tea                    1\n",
            "salad                  1\n",
            "oil                    1\n",
            "cookies                1\n",
            "champagne              1\n",
            "zucchini               1\n",
            "Name: col13, dtype: int64\n",
            "\n",
            "col14\n",
            "-                       7454\n",
            "green tea                  4\n",
            "french fries               3\n",
            "frozen smoothie            3\n",
            "pancakes                   2\n",
            "eggplant                   2\n",
            "low fat yogurt             2\n",
            "gluten free bar            2\n",
            "escalope                   2\n",
            "cottage cheese             2\n",
            "salad                      2\n",
            "toothpaste                 2\n",
            "mint                       2\n",
            "hot dogs                   2\n",
            "oil                        2\n",
            "fresh bread                2\n",
            "hand protein bar           1\n",
            "mineral water              1\n",
            "light mayo                 1\n",
            "protein bar                1\n",
            "mushroom cream sauce       1\n",
            "muffins                    1\n",
            "strawberries               1\n",
            "salt                       1\n",
            "babies food                1\n",
            "eggs                       1\n",
            "yogurt cake                1\n",
            "cookies                    1\n",
            "tomato juice               1\n",
            "Name: col14, dtype: int64\n",
            "\n",
            "col15\n",
            "-                       7476\n",
            "magazines                  3\n",
            "fresh bread                2\n",
            "green tea                  2\n",
            "low fat yogurt             2\n",
            "pancakes                   2\n",
            "mineral water              1\n",
            "mint                       1\n",
            "yogurt cake                1\n",
            "hand protein bar           1\n",
            "toothpaste                 1\n",
            "tomato juice               1\n",
            "hot dogs                   1\n",
            "zucchini                   1\n",
            "cookies                    1\n",
            "clothes accessories        1\n",
            "candy bars                 1\n",
            "salmon                     1\n",
            "cereals                    1\n",
            "mushroom cream sauce       1\n",
            "Name: col15, dtype: int64\n",
            "\n",
            "col16\n",
            "-                    7493\n",
            "salmon                  1\n",
            "chocolate               1\n",
            "antioxydant juice       1\n",
            "frozen smoothie         1\n",
            "cake                    1\n",
            "sparkling water         1\n",
            "protein bar             1\n",
            "magazines               1\n",
            "Name: col16, dtype: int64\n",
            "\n",
            "col17\n",
            "-                    7497\n",
            "frozen smoothie         2\n",
            "antioxydant juice       1\n",
            "french fries            1\n",
            "Name: col17, dtype: int64\n",
            "\n",
            "col18\n",
            "-                  7497\n",
            "protein bar           2\n",
            "frozen smoothie       1\n",
            "spinach               1\n",
            "Name: col18, dtype: int64\n",
            "\n",
            "col19\n",
            "-             7498\n",
            "spinach          1\n",
            "mayonnaise       1\n",
            "cereals          1\n",
            "Name: col19, dtype: int64\n",
            "\n",
            "col20\n",
            "-            7500\n",
            "olive oil       1\n",
            "Name: col20, dtype: int64\n"
          ]
        }
      ]
    },
    {
      "cell_type": "code",
      "source": [
        "list_basket = pd.DataFrame(arr_item)\n",
        "list_basket.fillna(0, inplace = True)\n",
        "update_df_basket = list_basket.drop('-')\n",
        "update_df_basket.head(5)"
      ],
      "metadata": {
        "colab": {
          "base_uri": "https://localhost:8080/"
        },
        "id": "Lq7JdkOcr1ni",
        "outputId": "9201dc31-d40f-4650-b437-a4478f574592"
      },
      "execution_count": null,
      "outputs": [
        {
          "output_type": "execute_result",
          "data": {
            "text/plain": [
              "                   col_0  col_1  col_2  col_3  col_4  col_5  col_6  col_7  \\\n",
              " asparagus           0.0    0.0    0.0    0.0    0.0    0.0    0.0    1.0   \n",
              "almonds             11.0   29.0   35.0   29.0   12.0   13.0   10.0    7.0   \n",
              "antioxydant juice   18.0   10.0   12.0    6.0    3.0    6.0    2.0    7.0   \n",
              "asparagus            3.0    2.0    5.0    4.0    4.0    3.0    2.0    7.0   \n",
              "avocado             57.0   64.0   46.0   43.0   18.0    9.0    7.0    5.0   \n",
              "\n",
              "                   col_8  col_9  col_10  col_11  col_12  col_13  col_14  \\\n",
              " asparagus           0.0    0.0     0.0     0.0     0.0     0.0     0.0   \n",
              "almonds              7.0    0.0     0.0     0.0     0.0     0.0     0.0   \n",
              "antioxydant juice    1.0    0.0     0.0     0.0     0.0     0.0     0.0   \n",
              "asparagus            2.0    1.0     1.0     0.0     1.0     0.0     0.0   \n",
              "avocado              1.0    0.0     0.0     0.0     0.0     0.0     0.0   \n",
              "\n",
              "                   col_15  col_16  col_17  col_18  col_19  \n",
              " asparagus            0.0     0.0     0.0     0.0     0.0  \n",
              "almonds               0.0     0.0     0.0     0.0     0.0  \n",
              "antioxydant juice     1.0     1.0     0.0     0.0     0.0  \n",
              "asparagus             0.0     0.0     0.0     0.0     0.0  \n",
              "avocado               0.0     0.0     0.0     0.0     0.0  "
            ],
            "text/html": [
              "\n",
              "  <div id=\"df-5b5ca6f7-67d5-4fb8-82bc-d1c68702b567\">\n",
              "    <div class=\"colab-df-container\">\n",
              "      <div>\n",
              "<style scoped>\n",
              "    .dataframe tbody tr th:only-of-type {\n",
              "        vertical-align: middle;\n",
              "    }\n",
              "\n",
              "    .dataframe tbody tr th {\n",
              "        vertical-align: top;\n",
              "    }\n",
              "\n",
              "    .dataframe thead th {\n",
              "        text-align: right;\n",
              "    }\n",
              "</style>\n",
              "<table border=\"1\" class=\"dataframe\">\n",
              "  <thead>\n",
              "    <tr style=\"text-align: right;\">\n",
              "      <th></th>\n",
              "      <th>col_0</th>\n",
              "      <th>col_1</th>\n",
              "      <th>col_2</th>\n",
              "      <th>col_3</th>\n",
              "      <th>col_4</th>\n",
              "      <th>col_5</th>\n",
              "      <th>col_6</th>\n",
              "      <th>col_7</th>\n",
              "      <th>col_8</th>\n",
              "      <th>col_9</th>\n",
              "      <th>col_10</th>\n",
              "      <th>col_11</th>\n",
              "      <th>col_12</th>\n",
              "      <th>col_13</th>\n",
              "      <th>col_14</th>\n",
              "      <th>col_15</th>\n",
              "      <th>col_16</th>\n",
              "      <th>col_17</th>\n",
              "      <th>col_18</th>\n",
              "      <th>col_19</th>\n",
              "    </tr>\n",
              "  </thead>\n",
              "  <tbody>\n",
              "    <tr>\n",
              "      <th>asparagus</th>\n",
              "      <td>0.0</td>\n",
              "      <td>0.0</td>\n",
              "      <td>0.0</td>\n",
              "      <td>0.0</td>\n",
              "      <td>0.0</td>\n",
              "      <td>0.0</td>\n",
              "      <td>0.0</td>\n",
              "      <td>1.0</td>\n",
              "      <td>0.0</td>\n",
              "      <td>0.0</td>\n",
              "      <td>0.0</td>\n",
              "      <td>0.0</td>\n",
              "      <td>0.0</td>\n",
              "      <td>0.0</td>\n",
              "      <td>0.0</td>\n",
              "      <td>0.0</td>\n",
              "      <td>0.0</td>\n",
              "      <td>0.0</td>\n",
              "      <td>0.0</td>\n",
              "      <td>0.0</td>\n",
              "    </tr>\n",
              "    <tr>\n",
              "      <th>almonds</th>\n",
              "      <td>11.0</td>\n",
              "      <td>29.0</td>\n",
              "      <td>35.0</td>\n",
              "      <td>29.0</td>\n",
              "      <td>12.0</td>\n",
              "      <td>13.0</td>\n",
              "      <td>10.0</td>\n",
              "      <td>7.0</td>\n",
              "      <td>7.0</td>\n",
              "      <td>0.0</td>\n",
              "      <td>0.0</td>\n",
              "      <td>0.0</td>\n",
              "      <td>0.0</td>\n",
              "      <td>0.0</td>\n",
              "      <td>0.0</td>\n",
              "      <td>0.0</td>\n",
              "      <td>0.0</td>\n",
              "      <td>0.0</td>\n",
              "      <td>0.0</td>\n",
              "      <td>0.0</td>\n",
              "    </tr>\n",
              "    <tr>\n",
              "      <th>antioxydant juice</th>\n",
              "      <td>18.0</td>\n",
              "      <td>10.0</td>\n",
              "      <td>12.0</td>\n",
              "      <td>6.0</td>\n",
              "      <td>3.0</td>\n",
              "      <td>6.0</td>\n",
              "      <td>2.0</td>\n",
              "      <td>7.0</td>\n",
              "      <td>1.0</td>\n",
              "      <td>0.0</td>\n",
              "      <td>0.0</td>\n",
              "      <td>0.0</td>\n",
              "      <td>0.0</td>\n",
              "      <td>0.0</td>\n",
              "      <td>0.0</td>\n",
              "      <td>1.0</td>\n",
              "      <td>1.0</td>\n",
              "      <td>0.0</td>\n",
              "      <td>0.0</td>\n",
              "      <td>0.0</td>\n",
              "    </tr>\n",
              "    <tr>\n",
              "      <th>asparagus</th>\n",
              "      <td>3.0</td>\n",
              "      <td>2.0</td>\n",
              "      <td>5.0</td>\n",
              "      <td>4.0</td>\n",
              "      <td>4.0</td>\n",
              "      <td>3.0</td>\n",
              "      <td>2.0</td>\n",
              "      <td>7.0</td>\n",
              "      <td>2.0</td>\n",
              "      <td>1.0</td>\n",
              "      <td>1.0</td>\n",
              "      <td>0.0</td>\n",
              "      <td>1.0</td>\n",
              "      <td>0.0</td>\n",
              "      <td>0.0</td>\n",
              "      <td>0.0</td>\n",
              "      <td>0.0</td>\n",
              "      <td>0.0</td>\n",
              "      <td>0.0</td>\n",
              "      <td>0.0</td>\n",
              "    </tr>\n",
              "    <tr>\n",
              "      <th>avocado</th>\n",
              "      <td>57.0</td>\n",
              "      <td>64.0</td>\n",
              "      <td>46.0</td>\n",
              "      <td>43.0</td>\n",
              "      <td>18.0</td>\n",
              "      <td>9.0</td>\n",
              "      <td>7.0</td>\n",
              "      <td>5.0</td>\n",
              "      <td>1.0</td>\n",
              "      <td>0.0</td>\n",
              "      <td>0.0</td>\n",
              "      <td>0.0</td>\n",
              "      <td>0.0</td>\n",
              "      <td>0.0</td>\n",
              "      <td>0.0</td>\n",
              "      <td>0.0</td>\n",
              "      <td>0.0</td>\n",
              "      <td>0.0</td>\n",
              "      <td>0.0</td>\n",
              "      <td>0.0</td>\n",
              "    </tr>\n",
              "  </tbody>\n",
              "</table>\n",
              "</div>\n",
              "      <button class=\"colab-df-convert\" onclick=\"convertToInteractive('df-5b5ca6f7-67d5-4fb8-82bc-d1c68702b567')\"\n",
              "              title=\"Convert this dataframe to an interactive table.\"\n",
              "              style=\"display:none;\">\n",
              "        \n",
              "  <svg xmlns=\"http://www.w3.org/2000/svg\" height=\"24px\"viewBox=\"0 0 24 24\"\n",
              "       width=\"24px\">\n",
              "    <path d=\"M0 0h24v24H0V0z\" fill=\"none\"/>\n",
              "    <path d=\"M18.56 5.44l.94 2.06.94-2.06 2.06-.94-2.06-.94-.94-2.06-.94 2.06-2.06.94zm-11 1L8.5 8.5l.94-2.06 2.06-.94-2.06-.94L8.5 2.5l-.94 2.06-2.06.94zm10 10l.94 2.06.94-2.06 2.06-.94-2.06-.94-.94-2.06-.94 2.06-2.06.94z\"/><path d=\"M17.41 7.96l-1.37-1.37c-.4-.4-.92-.59-1.43-.59-.52 0-1.04.2-1.43.59L10.3 9.45l-7.72 7.72c-.78.78-.78 2.05 0 2.83L4 21.41c.39.39.9.59 1.41.59.51 0 1.02-.2 1.41-.59l7.78-7.78 2.81-2.81c.8-.78.8-2.07 0-2.86zM5.41 20L4 18.59l7.72-7.72 1.47 1.35L5.41 20z\"/>\n",
              "  </svg>\n",
              "      </button>\n",
              "      \n",
              "  <style>\n",
              "    .colab-df-container {\n",
              "      display:flex;\n",
              "      flex-wrap:wrap;\n",
              "      gap: 12px;\n",
              "    }\n",
              "\n",
              "    .colab-df-convert {\n",
              "      background-color: #E8F0FE;\n",
              "      border: none;\n",
              "      border-radius: 50%;\n",
              "      cursor: pointer;\n",
              "      display: none;\n",
              "      fill: #1967D2;\n",
              "      height: 32px;\n",
              "      padding: 0 0 0 0;\n",
              "      width: 32px;\n",
              "    }\n",
              "\n",
              "    .colab-df-convert:hover {\n",
              "      background-color: #E2EBFA;\n",
              "      box-shadow: 0px 1px 2px rgba(60, 64, 67, 0.3), 0px 1px 3px 1px rgba(60, 64, 67, 0.15);\n",
              "      fill: #174EA6;\n",
              "    }\n",
              "\n",
              "    [theme=dark] .colab-df-convert {\n",
              "      background-color: #3B4455;\n",
              "      fill: #D2E3FC;\n",
              "    }\n",
              "\n",
              "    [theme=dark] .colab-df-convert:hover {\n",
              "      background-color: #434B5C;\n",
              "      box-shadow: 0px 1px 3px 1px rgba(0, 0, 0, 0.15);\n",
              "      filter: drop-shadow(0px 1px 2px rgba(0, 0, 0, 0.3));\n",
              "      fill: #FFFFFF;\n",
              "    }\n",
              "  </style>\n",
              "\n",
              "      <script>\n",
              "        const buttonEl =\n",
              "          document.querySelector('#df-5b5ca6f7-67d5-4fb8-82bc-d1c68702b567 button.colab-df-convert');\n",
              "        buttonEl.style.display =\n",
              "          google.colab.kernel.accessAllowed ? 'block' : 'none';\n",
              "\n",
              "        async function convertToInteractive(key) {\n",
              "          const element = document.querySelector('#df-5b5ca6f7-67d5-4fb8-82bc-d1c68702b567');\n",
              "          const dataTable =\n",
              "            await google.colab.kernel.invokeFunction('convertToInteractive',\n",
              "                                                     [key], {});\n",
              "          if (!dataTable) return;\n",
              "\n",
              "          const docLinkHtml = 'Like what you see? Visit the ' +\n",
              "            '<a target=\"_blank\" href=https://colab.research.google.com/notebooks/data_table.ipynb>data table notebook</a>'\n",
              "            + ' to learn more about interactive tables.';\n",
              "          element.innerHTML = '';\n",
              "          dataTable['output_type'] = 'display_data';\n",
              "          await google.colab.output.renderOutput(dataTable, element);\n",
              "          const docLink = document.createElement('div');\n",
              "          docLink.innerHTML = docLinkHtml;\n",
              "          element.appendChild(docLink);\n",
              "        }\n",
              "      </script>\n",
              "    </div>\n",
              "  </div>\n",
              "  "
            ]
          },
          "metadata": {},
          "execution_count": 73
        }
      ]
    },
    {
      "cell_type": "code",
      "source": [
        "sum_column = update_df_basket.sum(axis=1)\n",
        "sum_itembasket = pd.DataFrame(sum_column)\n",
        "sum_itembasket.rename(columns={'index': \"Nama Item\", 0: \"Total Item\"}, inplace=True)\n",
        "sum_itembasket.drop(' asparagus', inplace=True)\n",
        "sum_itembasket.head()"
      ],
      "metadata": {
        "colab": {
          "base_uri": "https://localhost:8080/"
        },
        "id": "is4dndiIskRX",
        "outputId": "f8e183ab-73a3-469d-c47b-f52f7694e713"
      },
      "execution_count": null,
      "outputs": [
        {
          "output_type": "execute_result",
          "data": {
            "text/plain": [
              "                   Total Item\n",
              "almonds                 153.0\n",
              "antioxydant juice        67.0\n",
              "asparagus                35.0\n",
              "avocado                 250.0\n",
              "babies food              34.0"
            ],
            "text/html": [
              "\n",
              "  <div id=\"df-6af0cb78-4563-451e-b425-fd7b6ea2822e\">\n",
              "    <div class=\"colab-df-container\">\n",
              "      <div>\n",
              "<style scoped>\n",
              "    .dataframe tbody tr th:only-of-type {\n",
              "        vertical-align: middle;\n",
              "    }\n",
              "\n",
              "    .dataframe tbody tr th {\n",
              "        vertical-align: top;\n",
              "    }\n",
              "\n",
              "    .dataframe thead th {\n",
              "        text-align: right;\n",
              "    }\n",
              "</style>\n",
              "<table border=\"1\" class=\"dataframe\">\n",
              "  <thead>\n",
              "    <tr style=\"text-align: right;\">\n",
              "      <th></th>\n",
              "      <th>Total Item</th>\n",
              "    </tr>\n",
              "  </thead>\n",
              "  <tbody>\n",
              "    <tr>\n",
              "      <th>almonds</th>\n",
              "      <td>153.0</td>\n",
              "    </tr>\n",
              "    <tr>\n",
              "      <th>antioxydant juice</th>\n",
              "      <td>67.0</td>\n",
              "    </tr>\n",
              "    <tr>\n",
              "      <th>asparagus</th>\n",
              "      <td>35.0</td>\n",
              "    </tr>\n",
              "    <tr>\n",
              "      <th>avocado</th>\n",
              "      <td>250.0</td>\n",
              "    </tr>\n",
              "    <tr>\n",
              "      <th>babies food</th>\n",
              "      <td>34.0</td>\n",
              "    </tr>\n",
              "  </tbody>\n",
              "</table>\n",
              "</div>\n",
              "      <button class=\"colab-df-convert\" onclick=\"convertToInteractive('df-6af0cb78-4563-451e-b425-fd7b6ea2822e')\"\n",
              "              title=\"Convert this dataframe to an interactive table.\"\n",
              "              style=\"display:none;\">\n",
              "        \n",
              "  <svg xmlns=\"http://www.w3.org/2000/svg\" height=\"24px\"viewBox=\"0 0 24 24\"\n",
              "       width=\"24px\">\n",
              "    <path d=\"M0 0h24v24H0V0z\" fill=\"none\"/>\n",
              "    <path d=\"M18.56 5.44l.94 2.06.94-2.06 2.06-.94-2.06-.94-.94-2.06-.94 2.06-2.06.94zm-11 1L8.5 8.5l.94-2.06 2.06-.94-2.06-.94L8.5 2.5l-.94 2.06-2.06.94zm10 10l.94 2.06.94-2.06 2.06-.94-2.06-.94-.94-2.06-.94 2.06-2.06.94z\"/><path d=\"M17.41 7.96l-1.37-1.37c-.4-.4-.92-.59-1.43-.59-.52 0-1.04.2-1.43.59L10.3 9.45l-7.72 7.72c-.78.78-.78 2.05 0 2.83L4 21.41c.39.39.9.59 1.41.59.51 0 1.02-.2 1.41-.59l7.78-7.78 2.81-2.81c.8-.78.8-2.07 0-2.86zM5.41 20L4 18.59l7.72-7.72 1.47 1.35L5.41 20z\"/>\n",
              "  </svg>\n",
              "      </button>\n",
              "      \n",
              "  <style>\n",
              "    .colab-df-container {\n",
              "      display:flex;\n",
              "      flex-wrap:wrap;\n",
              "      gap: 12px;\n",
              "    }\n",
              "\n",
              "    .colab-df-convert {\n",
              "      background-color: #E8F0FE;\n",
              "      border: none;\n",
              "      border-radius: 50%;\n",
              "      cursor: pointer;\n",
              "      display: none;\n",
              "      fill: #1967D2;\n",
              "      height: 32px;\n",
              "      padding: 0 0 0 0;\n",
              "      width: 32px;\n",
              "    }\n",
              "\n",
              "    .colab-df-convert:hover {\n",
              "      background-color: #E2EBFA;\n",
              "      box-shadow: 0px 1px 2px rgba(60, 64, 67, 0.3), 0px 1px 3px 1px rgba(60, 64, 67, 0.15);\n",
              "      fill: #174EA6;\n",
              "    }\n",
              "\n",
              "    [theme=dark] .colab-df-convert {\n",
              "      background-color: #3B4455;\n",
              "      fill: #D2E3FC;\n",
              "    }\n",
              "\n",
              "    [theme=dark] .colab-df-convert:hover {\n",
              "      background-color: #434B5C;\n",
              "      box-shadow: 0px 1px 3px 1px rgba(0, 0, 0, 0.15);\n",
              "      filter: drop-shadow(0px 1px 2px rgba(0, 0, 0, 0.3));\n",
              "      fill: #FFFFFF;\n",
              "    }\n",
              "  </style>\n",
              "\n",
              "      <script>\n",
              "        const buttonEl =\n",
              "          document.querySelector('#df-6af0cb78-4563-451e-b425-fd7b6ea2822e button.colab-df-convert');\n",
              "        buttonEl.style.display =\n",
              "          google.colab.kernel.accessAllowed ? 'block' : 'none';\n",
              "\n",
              "        async function convertToInteractive(key) {\n",
              "          const element = document.querySelector('#df-6af0cb78-4563-451e-b425-fd7b6ea2822e');\n",
              "          const dataTable =\n",
              "            await google.colab.kernel.invokeFunction('convertToInteractive',\n",
              "                                                     [key], {});\n",
              "          if (!dataTable) return;\n",
              "\n",
              "          const docLinkHtml = 'Like what you see? Visit the ' +\n",
              "            '<a target=\"_blank\" href=https://colab.research.google.com/notebooks/data_table.ipynb>data table notebook</a>'\n",
              "            + ' to learn more about interactive tables.';\n",
              "          element.innerHTML = '';\n",
              "          dataTable['output_type'] = 'display_data';\n",
              "          await google.colab.output.renderOutput(dataTable, element);\n",
              "          const docLink = document.createElement('div');\n",
              "          docLink.innerHTML = docLinkHtml;\n",
              "          element.appendChild(docLink);\n",
              "        }\n",
              "      </script>\n",
              "    </div>\n",
              "  </div>\n",
              "  "
            ]
          },
          "metadata": {},
          "execution_count": 74
        }
      ]
    },
    {
      "cell_type": "code",
      "source": [
        "sum_itembasket.sort_values(by=['Total Item'],ascending=False)"
      ],
      "metadata": {
        "colab": {
          "base_uri": "https://localhost:8080/"
        },
        "id": "q6CqlNHTxKGr",
        "outputId": "22842133-8096-454b-abb4-3f04aaeeeef1"
      },
      "execution_count": null,
      "outputs": [
        {
          "output_type": "execute_result",
          "data": {
            "text/plain": [
              "               Total Item\n",
              "mineral water      1788.0\n",
              "eggs               1348.0\n",
              "spaghetti          1306.0\n",
              "french fries       1282.0\n",
              "chocolate          1230.0\n",
              "...                   ...\n",
              "tea                  29.0\n",
              "bramble              14.0\n",
              "cream                 7.0\n",
              "napkins               5.0\n",
              "water spray           3.0\n",
              "\n",
              "[119 rows x 1 columns]"
            ],
            "text/html": [
              "\n",
              "  <div id=\"df-94af705b-bae9-42a7-8953-c910e23f29df\">\n",
              "    <div class=\"colab-df-container\">\n",
              "      <div>\n",
              "<style scoped>\n",
              "    .dataframe tbody tr th:only-of-type {\n",
              "        vertical-align: middle;\n",
              "    }\n",
              "\n",
              "    .dataframe tbody tr th {\n",
              "        vertical-align: top;\n",
              "    }\n",
              "\n",
              "    .dataframe thead th {\n",
              "        text-align: right;\n",
              "    }\n",
              "</style>\n",
              "<table border=\"1\" class=\"dataframe\">\n",
              "  <thead>\n",
              "    <tr style=\"text-align: right;\">\n",
              "      <th></th>\n",
              "      <th>Total Item</th>\n",
              "    </tr>\n",
              "  </thead>\n",
              "  <tbody>\n",
              "    <tr>\n",
              "      <th>mineral water</th>\n",
              "      <td>1788.0</td>\n",
              "    </tr>\n",
              "    <tr>\n",
              "      <th>eggs</th>\n",
              "      <td>1348.0</td>\n",
              "    </tr>\n",
              "    <tr>\n",
              "      <th>spaghetti</th>\n",
              "      <td>1306.0</td>\n",
              "    </tr>\n",
              "    <tr>\n",
              "      <th>french fries</th>\n",
              "      <td>1282.0</td>\n",
              "    </tr>\n",
              "    <tr>\n",
              "      <th>chocolate</th>\n",
              "      <td>1230.0</td>\n",
              "    </tr>\n",
              "    <tr>\n",
              "      <th>...</th>\n",
              "      <td>...</td>\n",
              "    </tr>\n",
              "    <tr>\n",
              "      <th>tea</th>\n",
              "      <td>29.0</td>\n",
              "    </tr>\n",
              "    <tr>\n",
              "      <th>bramble</th>\n",
              "      <td>14.0</td>\n",
              "    </tr>\n",
              "    <tr>\n",
              "      <th>cream</th>\n",
              "      <td>7.0</td>\n",
              "    </tr>\n",
              "    <tr>\n",
              "      <th>napkins</th>\n",
              "      <td>5.0</td>\n",
              "    </tr>\n",
              "    <tr>\n",
              "      <th>water spray</th>\n",
              "      <td>3.0</td>\n",
              "    </tr>\n",
              "  </tbody>\n",
              "</table>\n",
              "<p>119 rows × 1 columns</p>\n",
              "</div>\n",
              "      <button class=\"colab-df-convert\" onclick=\"convertToInteractive('df-94af705b-bae9-42a7-8953-c910e23f29df')\"\n",
              "              title=\"Convert this dataframe to an interactive table.\"\n",
              "              style=\"display:none;\">\n",
              "        \n",
              "  <svg xmlns=\"http://www.w3.org/2000/svg\" height=\"24px\"viewBox=\"0 0 24 24\"\n",
              "       width=\"24px\">\n",
              "    <path d=\"M0 0h24v24H0V0z\" fill=\"none\"/>\n",
              "    <path d=\"M18.56 5.44l.94 2.06.94-2.06 2.06-.94-2.06-.94-.94-2.06-.94 2.06-2.06.94zm-11 1L8.5 8.5l.94-2.06 2.06-.94-2.06-.94L8.5 2.5l-.94 2.06-2.06.94zm10 10l.94 2.06.94-2.06 2.06-.94-2.06-.94-.94-2.06-.94 2.06-2.06.94z\"/><path d=\"M17.41 7.96l-1.37-1.37c-.4-.4-.92-.59-1.43-.59-.52 0-1.04.2-1.43.59L10.3 9.45l-7.72 7.72c-.78.78-.78 2.05 0 2.83L4 21.41c.39.39.9.59 1.41.59.51 0 1.02-.2 1.41-.59l7.78-7.78 2.81-2.81c.8-.78.8-2.07 0-2.86zM5.41 20L4 18.59l7.72-7.72 1.47 1.35L5.41 20z\"/>\n",
              "  </svg>\n",
              "      </button>\n",
              "      \n",
              "  <style>\n",
              "    .colab-df-container {\n",
              "      display:flex;\n",
              "      flex-wrap:wrap;\n",
              "      gap: 12px;\n",
              "    }\n",
              "\n",
              "    .colab-df-convert {\n",
              "      background-color: #E8F0FE;\n",
              "      border: none;\n",
              "      border-radius: 50%;\n",
              "      cursor: pointer;\n",
              "      display: none;\n",
              "      fill: #1967D2;\n",
              "      height: 32px;\n",
              "      padding: 0 0 0 0;\n",
              "      width: 32px;\n",
              "    }\n",
              "\n",
              "    .colab-df-convert:hover {\n",
              "      background-color: #E2EBFA;\n",
              "      box-shadow: 0px 1px 2px rgba(60, 64, 67, 0.3), 0px 1px 3px 1px rgba(60, 64, 67, 0.15);\n",
              "      fill: #174EA6;\n",
              "    }\n",
              "\n",
              "    [theme=dark] .colab-df-convert {\n",
              "      background-color: #3B4455;\n",
              "      fill: #D2E3FC;\n",
              "    }\n",
              "\n",
              "    [theme=dark] .colab-df-convert:hover {\n",
              "      background-color: #434B5C;\n",
              "      box-shadow: 0px 1px 3px 1px rgba(0, 0, 0, 0.15);\n",
              "      filter: drop-shadow(0px 1px 2px rgba(0, 0, 0, 0.3));\n",
              "      fill: #FFFFFF;\n",
              "    }\n",
              "  </style>\n",
              "\n",
              "      <script>\n",
              "        const buttonEl =\n",
              "          document.querySelector('#df-94af705b-bae9-42a7-8953-c910e23f29df button.colab-df-convert');\n",
              "        buttonEl.style.display =\n",
              "          google.colab.kernel.accessAllowed ? 'block' : 'none';\n",
              "\n",
              "        async function convertToInteractive(key) {\n",
              "          const element = document.querySelector('#df-94af705b-bae9-42a7-8953-c910e23f29df');\n",
              "          const dataTable =\n",
              "            await google.colab.kernel.invokeFunction('convertToInteractive',\n",
              "                                                     [key], {});\n",
              "          if (!dataTable) return;\n",
              "\n",
              "          const docLinkHtml = 'Like what you see? Visit the ' +\n",
              "            '<a target=\"_blank\" href=https://colab.research.google.com/notebooks/data_table.ipynb>data table notebook</a>'\n",
              "            + ' to learn more about interactive tables.';\n",
              "          element.innerHTML = '';\n",
              "          dataTable['output_type'] = 'display_data';\n",
              "          await google.colab.output.renderOutput(dataTable, element);\n",
              "          const docLink = document.createElement('div');\n",
              "          docLink.innerHTML = docLinkHtml;\n",
              "          element.appendChild(docLink);\n",
              "        }\n",
              "      </script>\n",
              "    </div>\n",
              "  </div>\n",
              "  "
            ]
          },
          "metadata": {},
          "execution_count": 75
        }
      ]
    },
    {
      "cell_type": "code",
      "source": [
        "sum_itembasket.shape"
      ],
      "metadata": {
        "colab": {
          "base_uri": "https://localhost:8080/"
        },
        "id": "YpMMSJOi1GY0",
        "outputId": "c7a9ef20-8ace-4e4a-86b4-1088cb70b524"
      },
      "execution_count": null,
      "outputs": [
        {
          "output_type": "execute_result",
          "data": {
            "text/plain": [
              "(119, 1)"
            ]
          },
          "metadata": {},
          "execution_count": 76
        }
      ]
    },
    {
      "cell_type": "markdown",
      "source": [
        "## **Supermarket Customer Member**"
      ],
      "metadata": {
        "id": "77u5X7sCqVWk"
      }
    },
    {
      "cell_type": "markdown",
      "source": [
        "### **Load Dataset**"
      ],
      "metadata": {
        "id": "P5WiGVnKrxlZ"
      }
    },
    {
      "cell_type": "code",
      "source": [
        "df_custmember.show(2,False)"
      ],
      "metadata": {
        "colab": {
          "base_uri": "https://localhost:8080/"
        },
        "id": "ldW6-zv8qdk3",
        "outputId": "158de828-55bf-4a10-ccbe-4b73f510f78e"
      },
      "execution_count": null,
      "outputs": [
        {
          "output_type": "stream",
          "name": "stdout",
          "text": [
            "+----------+-----+---+------------------+----------------------+\n",
            "|CustomerID|Genre|Age|Annual Income (k$)|Spending Score (1-100)|\n",
            "+----------+-----+---+------------------+----------------------+\n",
            "|1         |Male |19 |15                |39                    |\n",
            "|2         |Male |21 |15                |81                    |\n",
            "+----------+-----+---+------------------+----------------------+\n",
            "only showing top 2 rows\n",
            "\n"
          ]
        }
      ]
    },
    {
      "cell_type": "code",
      "source": [
        "df_member_pandas = df_custmember.toPandas()"
      ],
      "metadata": {
        "id": "KvP3W3M3-dH6"
      },
      "execution_count": null,
      "outputs": []
    },
    {
      "cell_type": "code",
      "source": [
        "df_member_pandas[df_member_pandas.columns[1]].value_counts()"
      ],
      "metadata": {
        "colab": {
          "base_uri": "https://localhost:8080/"
        },
        "id": "qTjidtyX-mdj",
        "outputId": "f261c9ea-0a2e-455c-baaa-6440567a3adc"
      },
      "execution_count": null,
      "outputs": [
        {
          "output_type": "execute_result",
          "data": {
            "text/plain": [
              "Female    112\n",
              "Male       88\n",
              "Name: Genre, dtype: int64"
            ]
          },
          "metadata": {},
          "execution_count": 79
        }
      ]
    },
    {
      "cell_type": "code",
      "source": [
        "df_member_pandas.describe()"
      ],
      "metadata": {
        "colab": {
          "base_uri": "https://localhost:8080/",
          "height": 344
        },
        "id": "XNWOG9gf_Fip",
        "outputId": "859f639f-37af-4ca1-b1e4-7db61e1327c1"
      },
      "execution_count": null,
      "outputs": [
        {
          "output_type": "execute_result",
          "data": {
            "text/plain": [
              "       CustomerID         Age  Annual Income (k$)  Spending Score (1-100)\n",
              "count  200.000000  200.000000          200.000000              200.000000\n",
              "mean   100.500000   38.850000           60.560000               50.200000\n",
              "std     57.879185   13.969007           26.264721               25.823522\n",
              "min      1.000000   18.000000           15.000000                1.000000\n",
              "25%     50.750000   28.750000           41.500000               34.750000\n",
              "50%    100.500000   36.000000           61.500000               50.000000\n",
              "75%    150.250000   49.000000           78.000000               73.000000\n",
              "max    200.000000   70.000000          137.000000               99.000000"
            ],
            "text/html": [
              "\n",
              "  <div id=\"df-7366c606-3e0b-4fa6-96c9-6db0cafd8efd\">\n",
              "    <div class=\"colab-df-container\">\n",
              "      <div>\n",
              "<style scoped>\n",
              "    .dataframe tbody tr th:only-of-type {\n",
              "        vertical-align: middle;\n",
              "    }\n",
              "\n",
              "    .dataframe tbody tr th {\n",
              "        vertical-align: top;\n",
              "    }\n",
              "\n",
              "    .dataframe thead th {\n",
              "        text-align: right;\n",
              "    }\n",
              "</style>\n",
              "<table border=\"1\" class=\"dataframe\">\n",
              "  <thead>\n",
              "    <tr style=\"text-align: right;\">\n",
              "      <th></th>\n",
              "      <th>CustomerID</th>\n",
              "      <th>Age</th>\n",
              "      <th>Annual Income (k$)</th>\n",
              "      <th>Spending Score (1-100)</th>\n",
              "    </tr>\n",
              "  </thead>\n",
              "  <tbody>\n",
              "    <tr>\n",
              "      <th>count</th>\n",
              "      <td>200.000000</td>\n",
              "      <td>200.000000</td>\n",
              "      <td>200.000000</td>\n",
              "      <td>200.000000</td>\n",
              "    </tr>\n",
              "    <tr>\n",
              "      <th>mean</th>\n",
              "      <td>100.500000</td>\n",
              "      <td>38.850000</td>\n",
              "      <td>60.560000</td>\n",
              "      <td>50.200000</td>\n",
              "    </tr>\n",
              "    <tr>\n",
              "      <th>std</th>\n",
              "      <td>57.879185</td>\n",
              "      <td>13.969007</td>\n",
              "      <td>26.264721</td>\n",
              "      <td>25.823522</td>\n",
              "    </tr>\n",
              "    <tr>\n",
              "      <th>min</th>\n",
              "      <td>1.000000</td>\n",
              "      <td>18.000000</td>\n",
              "      <td>15.000000</td>\n",
              "      <td>1.000000</td>\n",
              "    </tr>\n",
              "    <tr>\n",
              "      <th>25%</th>\n",
              "      <td>50.750000</td>\n",
              "      <td>28.750000</td>\n",
              "      <td>41.500000</td>\n",
              "      <td>34.750000</td>\n",
              "    </tr>\n",
              "    <tr>\n",
              "      <th>50%</th>\n",
              "      <td>100.500000</td>\n",
              "      <td>36.000000</td>\n",
              "      <td>61.500000</td>\n",
              "      <td>50.000000</td>\n",
              "    </tr>\n",
              "    <tr>\n",
              "      <th>75%</th>\n",
              "      <td>150.250000</td>\n",
              "      <td>49.000000</td>\n",
              "      <td>78.000000</td>\n",
              "      <td>73.000000</td>\n",
              "    </tr>\n",
              "    <tr>\n",
              "      <th>max</th>\n",
              "      <td>200.000000</td>\n",
              "      <td>70.000000</td>\n",
              "      <td>137.000000</td>\n",
              "      <td>99.000000</td>\n",
              "    </tr>\n",
              "  </tbody>\n",
              "</table>\n",
              "</div>\n",
              "      <button class=\"colab-df-convert\" onclick=\"convertToInteractive('df-7366c606-3e0b-4fa6-96c9-6db0cafd8efd')\"\n",
              "              title=\"Convert this dataframe to an interactive table.\"\n",
              "              style=\"display:none;\">\n",
              "        \n",
              "  <svg xmlns=\"http://www.w3.org/2000/svg\" height=\"24px\"viewBox=\"0 0 24 24\"\n",
              "       width=\"24px\">\n",
              "    <path d=\"M0 0h24v24H0V0z\" fill=\"none\"/>\n",
              "    <path d=\"M18.56 5.44l.94 2.06.94-2.06 2.06-.94-2.06-.94-.94-2.06-.94 2.06-2.06.94zm-11 1L8.5 8.5l.94-2.06 2.06-.94-2.06-.94L8.5 2.5l-.94 2.06-2.06.94zm10 10l.94 2.06.94-2.06 2.06-.94-2.06-.94-.94-2.06-.94 2.06-2.06.94z\"/><path d=\"M17.41 7.96l-1.37-1.37c-.4-.4-.92-.59-1.43-.59-.52 0-1.04.2-1.43.59L10.3 9.45l-7.72 7.72c-.78.78-.78 2.05 0 2.83L4 21.41c.39.39.9.59 1.41.59.51 0 1.02-.2 1.41-.59l7.78-7.78 2.81-2.81c.8-.78.8-2.07 0-2.86zM5.41 20L4 18.59l7.72-7.72 1.47 1.35L5.41 20z\"/>\n",
              "  </svg>\n",
              "      </button>\n",
              "      \n",
              "  <style>\n",
              "    .colab-df-container {\n",
              "      display:flex;\n",
              "      flex-wrap:wrap;\n",
              "      gap: 12px;\n",
              "    }\n",
              "\n",
              "    .colab-df-convert {\n",
              "      background-color: #E8F0FE;\n",
              "      border: none;\n",
              "      border-radius: 50%;\n",
              "      cursor: pointer;\n",
              "      display: none;\n",
              "      fill: #1967D2;\n",
              "      height: 32px;\n",
              "      padding: 0 0 0 0;\n",
              "      width: 32px;\n",
              "    }\n",
              "\n",
              "    .colab-df-convert:hover {\n",
              "      background-color: #E2EBFA;\n",
              "      box-shadow: 0px 1px 2px rgba(60, 64, 67, 0.3), 0px 1px 3px 1px rgba(60, 64, 67, 0.15);\n",
              "      fill: #174EA6;\n",
              "    }\n",
              "\n",
              "    [theme=dark] .colab-df-convert {\n",
              "      background-color: #3B4455;\n",
              "      fill: #D2E3FC;\n",
              "    }\n",
              "\n",
              "    [theme=dark] .colab-df-convert:hover {\n",
              "      background-color: #434B5C;\n",
              "      box-shadow: 0px 1px 3px 1px rgba(0, 0, 0, 0.15);\n",
              "      filter: drop-shadow(0px 1px 2px rgba(0, 0, 0, 0.3));\n",
              "      fill: #FFFFFF;\n",
              "    }\n",
              "  </style>\n",
              "\n",
              "      <script>\n",
              "        const buttonEl =\n",
              "          document.querySelector('#df-7366c606-3e0b-4fa6-96c9-6db0cafd8efd button.colab-df-convert');\n",
              "        buttonEl.style.display =\n",
              "          google.colab.kernel.accessAllowed ? 'block' : 'none';\n",
              "\n",
              "        async function convertToInteractive(key) {\n",
              "          const element = document.querySelector('#df-7366c606-3e0b-4fa6-96c9-6db0cafd8efd');\n",
              "          const dataTable =\n",
              "            await google.colab.kernel.invokeFunction('convertToInteractive',\n",
              "                                                     [key], {});\n",
              "          if (!dataTable) return;\n",
              "\n",
              "          const docLinkHtml = 'Like what you see? Visit the ' +\n",
              "            '<a target=\"_blank\" href=https://colab.research.google.com/notebooks/data_table.ipynb>data table notebook</a>'\n",
              "            + ' to learn more about interactive tables.';\n",
              "          element.innerHTML = '';\n",
              "          dataTable['output_type'] = 'display_data';\n",
              "          await google.colab.output.renderOutput(dataTable, element);\n",
              "          const docLink = document.createElement('div');\n",
              "          docLink.innerHTML = docLinkHtml;\n",
              "          element.appendChild(docLink);\n",
              "        }\n",
              "      </script>\n",
              "    </div>\n",
              "  </div>\n",
              "  "
            ]
          },
          "metadata": {},
          "execution_count": 80
        }
      ]
    },
    {
      "cell_type": "markdown",
      "source": [
        "### **Data Preprocessing**"
      ],
      "metadata": {
        "id": "P5rqs1L_sJEM"
      }
    },
    {
      "cell_type": "code",
      "source": [
        "from pyspark.sql.functions import udf\n",
        "from pyspark.sql.types import StringType"
      ],
      "metadata": {
        "id": "nSlv04a3rZTf"
      },
      "execution_count": null,
      "outputs": []
    },
    {
      "cell_type": "code",
      "source": [
        "def range_age(Age):\n",
        "  if(Age < 25) :\n",
        "    return \"Gen Z\"\n",
        "  elif (Age >= 25 and Age <= 40):\n",
        "    return 'Gen Y'\n",
        "  elif (Age > 40 and Age <= 56):\n",
        "    return 'Gen X'\n",
        "  elif (Age > 56):\n",
        "    return 'Baby Boomers'\n",
        "  else :\n",
        "    return 'No Definition'"
      ],
      "metadata": {
        "id": "Pz_KWlCFsPVg"
      },
      "execution_count": null,
      "outputs": []
    },
    {
      "cell_type": "code",
      "source": [
        "age = udf(range_age)\n",
        "df_member = df_custmember.withColumn('Age_udf', age('Age'))\n",
        "df_member.show(5, False)"
      ],
      "metadata": {
        "id": "5mzrUBUtsmo-",
        "colab": {
          "base_uri": "https://localhost:8080/"
        },
        "outputId": "8673443e-a795-45d2-c3a3-3f94e09ad25e"
      },
      "execution_count": null,
      "outputs": [
        {
          "output_type": "stream",
          "name": "stdout",
          "text": [
            "+----------+------+---+------------------+----------------------+-------+\n",
            "|CustomerID|Genre |Age|Annual Income (k$)|Spending Score (1-100)|Age_udf|\n",
            "+----------+------+---+------------------+----------------------+-------+\n",
            "|1         |Male  |19 |15                |39                    |Gen Z  |\n",
            "|2         |Male  |21 |15                |81                    |Gen Z  |\n",
            "|3         |Female|20 |16                |6                     |Gen Z  |\n",
            "|4         |Female|23 |16                |77                    |Gen Z  |\n",
            "|5         |Female|31 |17                |40                    |Gen Y  |\n",
            "+----------+------+---+------------------+----------------------+-------+\n",
            "only showing top 5 rows\n",
            "\n"
          ]
        }
      ]
    },
    {
      "cell_type": "markdown",
      "source": [
        "### **OneHot Encoder**"
      ],
      "metadata": {
        "id": "XIbdIBpwyU7v"
      }
    },
    {
      "cell_type": "code",
      "source": [
        "from pyspark.ml.feature import StringIndexer\n",
        "\n",
        "indexer = StringIndexer(inputCol='Age_udf', outputCol='Age_ohe')\n",
        "indexer_fitted = indexer.fit(df_member)\n",
        "df_member= indexer_fitted.transform(df_member)\n",
        "df_member.show(2)"
      ],
      "metadata": {
        "colab": {
          "base_uri": "https://localhost:8080/"
        },
        "id": "FoX-yFzXxgAx",
        "outputId": "46bf63bc-8ae6-41ec-c6e7-c0c92b0870c6"
      },
      "execution_count": null,
      "outputs": [
        {
          "output_type": "stream",
          "name": "stdout",
          "text": [
            "+----------+-----+---+------------------+----------------------+-------+-------+\n",
            "|CustomerID|Genre|Age|Annual Income (k$)|Spending Score (1-100)|Age_udf|Age_ohe|\n",
            "+----------+-----+---+------------------+----------------------+-------+-------+\n",
            "|         1| Male| 19|                15|                    39|  Gen Z|    2.0|\n",
            "|         2| Male| 21|                15|                    81|  Gen Z|    2.0|\n",
            "+----------+-----+---+------------------+----------------------+-------+-------+\n",
            "only showing top 2 rows\n",
            "\n"
          ]
        }
      ]
    },
    {
      "cell_type": "code",
      "source": [
        "indexer = StringIndexer(inputCol='Genre', outputCol='Genre_ohe')\n",
        "indexer_fitted = indexer.fit(df_member)\n",
        "df_member= indexer_fitted.transform(df_member)\n",
        "df_member.show(2)"
      ],
      "metadata": {
        "colab": {
          "base_uri": "https://localhost:8080/"
        },
        "id": "n8476CkOyat5",
        "outputId": "e1c42cd7-c08e-496a-bf97-77378b799b03"
      },
      "execution_count": null,
      "outputs": [
        {
          "output_type": "stream",
          "name": "stdout",
          "text": [
            "+----------+-----+---+------------------+----------------------+-------+-------+---------+\n",
            "|CustomerID|Genre|Age|Annual Income (k$)|Spending Score (1-100)|Age_udf|Age_ohe|Genre_ohe|\n",
            "+----------+-----+---+------------------+----------------------+-------+-------+---------+\n",
            "|         1| Male| 19|                15|                    39|  Gen Z|    2.0|      1.0|\n",
            "|         2| Male| 21|                15|                    81|  Gen Z|    2.0|      1.0|\n",
            "+----------+-----+---+------------------+----------------------+-------+-------+---------+\n",
            "only showing top 2 rows\n",
            "\n"
          ]
        }
      ]
    },
    {
      "cell_type": "markdown",
      "source": [
        "### **Vector Assembler for Clustering**"
      ],
      "metadata": {
        "id": "BjY5yNM43s6q"
      }
    },
    {
      "cell_type": "code",
      "source": [
        "sel_col = ['Annual Income (k$)',\t'Spending Score (1-100)', 'Age_ohe', 'Genre_ohe']\n",
        "assemble_cust = VectorAssembler(inputCols=sel_col, outputCol = 'target_cust')\n",
        "assembled_member = assemble_cust.transform(df_member)"
      ],
      "metadata": {
        "id": "6az0MXDt3zN0"
      },
      "execution_count": null,
      "outputs": []
    },
    {
      "cell_type": "markdown",
      "source": [
        "### **1. Clustering with Method Elbow**"
      ],
      "metadata": {
        "id": "cxlmkDrB0M5b"
      }
    },
    {
      "cell_type": "code",
      "source": [
        "eval_cust = ClusteringEvaluator(predictionCol='prediction', \n",
        "                           featuresCol='target_cust',\n",
        "                           metricName='silhouette', \n",
        "                           distanceMeasure='squaredEuclidean')"
      ],
      "metadata": {
        "id": "YCC9Q3W0EEKo"
      },
      "execution_count": null,
      "outputs": []
    },
    {
      "cell_type": "code",
      "source": [
        "silhouette_scores = []\n",
        "for K in range(2,11):\n",
        "\n",
        "    KMeans_algo = KMeans(featuresCol='target_cust', k=K)\n",
        "    KMeans_fit  = KMeans_algo.fit(assembled_member)\n",
        "    output      = KMeans_fit.transform(assembled_member) \n",
        "    score       = eval_cust.evaluate(output)\n",
        "    silhouette_scores.append(score)\n",
        "    print(f\"K{K}\\t{score}\\t\")"
      ],
      "metadata": {
        "id": "whCSxZ7f0S-B",
        "colab": {
          "base_uri": "https://localhost:8080/"
        },
        "outputId": "f97bf247-c83b-4629-da5a-4913f96272ab"
      },
      "execution_count": null,
      "outputs": [
        {
          "output_type": "stream",
          "name": "stdout",
          "text": [
            "K2\t0.5414093620212836\t\n",
            "K3\t0.43443760943283816\t\n",
            "K4\t0.6620657096239553\t\n",
            "K5\t0.6336977075282921\t\n",
            "K6\t0.7273870071033686\t\n",
            "K7\t0.6512295184036536\t\n",
            "K8\t0.6735819660257983\t\n",
            "K9\t0.6699345820703673\t\n",
            "K10\t0.6120825326373448\t\n"
          ]
        }
      ]
    },
    {
      "cell_type": "code",
      "source": [
        "import matplotlib.pyplot as plt\n",
        "fig, ax = plt.subplots(1,1, figsize =(10,8))\n",
        "ax.plot(range(2,11),silhouette_scores)\n",
        "ax.set_xlabel('Number of Clusters')\n",
        "ax.set_ylabel('Silhouette Score')"
      ],
      "metadata": {
        "colab": {
          "base_uri": "https://localhost:8080/",
          "height": 515
        },
        "id": "5Bwd9Har4Ba5",
        "outputId": "6389ef3d-3b25-4f3e-98eb-4c1e18619663"
      },
      "execution_count": null,
      "outputs": [
        {
          "output_type": "execute_result",
          "data": {
            "text/plain": [
              "Text(0, 0.5, 'Silhouette Score')"
            ]
          },
          "metadata": {},
          "execution_count": 167
        },
        {
          "output_type": "display_data",
          "data": {
            "text/plain": [
              "<Figure size 720x576 with 1 Axes>"
            ],
            "image/png": "[encoded data removed]"
          },
          "metadata": {}
        }
      ]
    },
    {
      "cell_type": "code",
      "source": [
        "KMeans_algorithm=KMeans(featuresCol='target_cust', k=6) \n",
        "Model=KMeans_algorithm.fit(assembled_member)\n",
        "KMeans_Assignments=Model.transform(assembled_member)"
      ],
      "metadata": {
        "id": "KUUtEk-q5QVE"
      },
      "execution_count": null,
      "outputs": []
    },
    {
      "cell_type": "code",
      "source": [
        "from pyspark.ml.feature import PCA as PCAml\n",
        "pca = PCAml(k=2, inputCol=\"target_cust\", outputCol=\"pca\")\n",
        "pca_model = pca.fit(assembled_member)\n",
        "pca_transformed = pca_model.transform(assembled_member)"
      ],
      "metadata": {
        "id": "rKoWshKh5gs2"
      },
      "execution_count": null,
      "outputs": []
    },
    {
      "cell_type": "code",
      "source": [
        "import numpy as np\n",
        "x_pca = np.array(pca_transformed.rdd.map(lambda row: row.pca).collect())\n",
        "\n",
        "cluster_assignment = np.array(KMeans_Assignments.rdd.map(lambda row: row.prediction).collect()).reshape(-1,1)"
      ],
      "metadata": {
        "id": "vttZ7PSG5sfa"
      },
      "execution_count": null,
      "outputs": []
    },
    {
      "cell_type": "code",
      "source": [
        "import seaborn as sns\n",
        "import matplotlib.pyplot as plt\n",
        "\n",
        "pca_data = np.hstack((x_pca,cluster_assignment))\n",
        "\n",
        "pca_df = pd.DataFrame(data=pca_data, columns=(\"1st_principal\", \"2nd_principal\",\"cluster_assignment\"))\n",
        "sns.FacetGrid(pca_df,hue=\"cluster_assignment\", height=6).map(plt.scatter, '1st_principal', '2nd_principal' ).add_legend()\n",
        "\n",
        "plt.show()"
      ],
      "metadata": {
        "colab": {
          "base_uri": "https://localhost:8080/",
          "height": 441
        },
        "id": "BVrACERF5voC",
        "outputId": "bf6c31d8-31b7-4639-c2ee-ae6cf9a7da8c"
      },
      "execution_count": null,
      "outputs": [
        {
          "output_type": "display_data",
          "data": {
            "text/plain": [
              "<Figure size 526.125x432 with 1 Axes>"
            ],
            "image/png": "[encoded data removed]"
          },
          "metadata": {}
        }
      ]
    },
    {
      "cell_type": "code",
      "source": [
        "KMeans_Assignments.groupBy('prediction').count().show()"
      ],
      "metadata": {
        "colab": {
          "base_uri": "https://localhost:8080/"
        },
        "id": "_JAWVF-853kj",
        "outputId": "963bebb0-f29d-4f9c-d6b0-2bd6ecf7d0e8"
      },
      "execution_count": null,
      "outputs": [
        {
          "output_type": "stream",
          "name": "stdout",
          "text": [
            "+----------+-----+\n",
            "|prediction|count|\n",
            "+----------+-----+\n",
            "|         1|   81|\n",
            "|         3|   11|\n",
            "|         5|   22|\n",
            "|         4|   28|\n",
            "|         2|   35|\n",
            "|         0|   23|\n",
            "+----------+-----+\n",
            "\n"
          ]
        }
      ]
    },
    {
      "cell_type": "code",
      "source": [
        "class_pred = KMeans_Assignments.groupBy('prediction')\n",
        "\n",
        "KMeans_Assignments.show()"
      ],
      "metadata": {
        "colab": {
          "base_uri": "https://localhost:8080/"
        },
        "id": "b63UB98S596O",
        "outputId": "6cefa8eb-3e57-4127-b68b-03cf555725c2"
      },
      "execution_count": null,
      "outputs": [
        {
          "output_type": "stream",
          "name": "stdout",
          "text": [
            "+----------+------+---+------------------+----------------------+------------+-------+---------+-------------------+----------+\n",
            "|CustomerID| Genre|Age|Annual Income (k$)|Spending Score (1-100)|     Age_udf|Age_ohe|Genre_ohe|        target_cust|prediction|\n",
            "+----------+------+---+------------------+----------------------+------------+-------+---------+-------------------+----------+\n",
            "|         1|  Male| 19|                15|                    39|       Gen Z|    2.0|      1.0|[15.0,39.0,2.0,1.0]|         0|\n",
            "|         2|  Male| 21|                15|                    81|       Gen Z|    2.0|      1.0|[15.0,81.0,2.0,1.0]|         5|\n",
            "|         3|Female| 20|                16|                     6|       Gen Z|    2.0|      0.0| [16.0,6.0,2.0,0.0]|         0|\n",
            "|         4|Female| 23|                16|                    77|       Gen Z|    2.0|      0.0|[16.0,77.0,2.0,0.0]|         5|\n",
            "|         5|Female| 31|                17|                    40|       Gen Y|    0.0|      0.0|[17.0,40.0,0.0,0.0]|         0|\n",
            "|         6|Female| 22|                17|                    76|       Gen Z|    2.0|      0.0|[17.0,76.0,2.0,0.0]|         5|\n",
            "|         7|Female| 35|                18|                     6|       Gen Y|    0.0|      0.0| [18.0,6.0,0.0,0.0]|         0|\n",
            "|         8|Female| 23|                18|                    94|       Gen Z|    2.0|      0.0|[18.0,94.0,2.0,0.0]|         5|\n",
            "|         9|  Male| 64|                19|                     3|Baby Boomers|    3.0|      1.0| [19.0,3.0,3.0,1.0]|         0|\n",
            "|        10|Female| 30|                19|                    72|       Gen Y|    0.0|      0.0|[19.0,72.0,0.0,0.0]|         5|\n",
            "|        11|  Male| 67|                19|                    14|Baby Boomers|    3.0|      1.0|[19.0,14.0,3.0,1.0]|         0|\n",
            "|        12|Female| 35|                19|                    99|       Gen Y|    0.0|      0.0|[19.0,99.0,0.0,0.0]|         5|\n",
            "|        13|Female| 58|                20|                    15|Baby Boomers|    3.0|      0.0|[20.0,15.0,3.0,0.0]|         0|\n",
            "|        14|Female| 24|                20|                    77|       Gen Z|    2.0|      0.0|[20.0,77.0,2.0,0.0]|         5|\n",
            "|        15|  Male| 37|                20|                    13|       Gen Y|    0.0|      1.0|[20.0,13.0,0.0,1.0]|         0|\n",
            "|        16|  Male| 22|                20|                    79|       Gen Z|    2.0|      1.0|[20.0,79.0,2.0,1.0]|         5|\n",
            "|        17|Female| 35|                21|                    35|       Gen Y|    0.0|      0.0|[21.0,35.0,0.0,0.0]|         0|\n",
            "|        18|  Male| 20|                21|                    66|       Gen Z|    2.0|      1.0|[21.0,66.0,2.0,1.0]|         5|\n",
            "|        19|  Male| 52|                23|                    29|       Gen X|    1.0|      1.0|[23.0,29.0,1.0,1.0]|         0|\n",
            "|        20|Female| 35|                23|                    98|       Gen Y|    0.0|      0.0|[23.0,98.0,0.0,0.0]|         5|\n",
            "+----------+------+---+------------------+----------------------+------------+-------+---------+-------------------+----------+\n",
            "only showing top 20 rows\n",
            "\n"
          ]
        }
      ]
    },
    {
      "cell_type": "code",
      "source": [
        "df_pandas = KMeans_Assignments.toPandas()\n",
        "# Importing Pandas to create DataFrame\n",
        "import pandas as pd\n",
        "\n",
        "# Creating Empty DataFrame and Storing it in variable df\n",
        "df_pandas_new = pd.DataFrame(df_pandas)\n",
        "df_pandas_new.head(2)"
      ],
      "metadata": {
        "colab": {
          "base_uri": "https://localhost:8080/",
          "height": 246
        },
        "id": "BxFeYugl6B_i",
        "outputId": "a19d41ba-cd37-4baf-f7a0-ce0caae78641"
      },
      "execution_count": null,
      "outputs": [
        {
          "output_type": "execute_result",
          "data": {
            "text/plain": [
              "   CustomerID Genre  Age  Annual Income (k$)  Spending Score (1-100) Age_udf  \\\n",
              "0           1  Male   19                  15                      39   Gen Z   \n",
              "1           2  Male   21                  15                      81   Gen Z   \n",
              "\n",
              "   Age_ohe  Genre_ohe             target_cust  prediction  \n",
              "0      2.0        1.0  [15.0, 39.0, 2.0, 1.0]           0  \n",
              "1      2.0        1.0  [15.0, 81.0, 2.0, 1.0]           5  "
            ],
            "text/html": [
              "\n",
              "  <div id=\"df-df3d6cba-2c11-4cc5-9d4d-deb76a2ef617\">\n",
              "    <div class=\"colab-df-container\">\n",
              "      <div>\n",
              "<style scoped>\n",
              "    .dataframe tbody tr th:only-of-type {\n",
              "        vertical-align: middle;\n",
              "    }\n",
              "\n",
              "    .dataframe tbody tr th {\n",
              "        vertical-align: top;\n",
              "    }\n",
              "\n",
              "    .dataframe thead th {\n",
              "        text-align: right;\n",
              "    }\n",
              "</style>\n",
              "<table border=\"1\" class=\"dataframe\">\n",
              "  <thead>\n",
              "    <tr style=\"text-align: right;\">\n",
              "      <th></th>\n",
              "      <th>CustomerID</th>\n",
              "      <th>Genre</th>\n",
              "      <th>Age</th>\n",
              "      <th>Annual Income (k$)</th>\n",
              "      <th>Spending Score (1-100)</th>\n",
              "      <th>Age_udf</th>\n",
              "      <th>Age_ohe</th>\n",
              "      <th>Genre_ohe</th>\n",
              "      <th>target_cust</th>\n",
              "      <th>prediction</th>\n",
              "    </tr>\n",
              "  </thead>\n",
              "  <tbody>\n",
              "    <tr>\n",
              "      <th>0</th>\n",
              "      <td>1</td>\n",
              "      <td>Male</td>\n",
              "      <td>19</td>\n",
              "      <td>15</td>\n",
              "      <td>39</td>\n",
              "      <td>Gen Z</td>\n",
              "      <td>2.0</td>\n",
              "      <td>1.0</td>\n",
              "      <td>[15.0, 39.0, 2.0, 1.0]</td>\n",
              "      <td>0</td>\n",
              "    </tr>\n",
              "    <tr>\n",
              "      <th>1</th>\n",
              "      <td>2</td>\n",
              "      <td>Male</td>\n",
              "      <td>21</td>\n",
              "      <td>15</td>\n",
              "      <td>81</td>\n",
              "      <td>Gen Z</td>\n",
              "      <td>2.0</td>\n",
              "      <td>1.0</td>\n",
              "      <td>[15.0, 81.0, 2.0, 1.0]</td>\n",
              "      <td>5</td>\n",
              "    </tr>\n",
              "  </tbody>\n",
              "</table>\n",
              "</div>\n",
              "      <button class=\"colab-df-convert\" onclick=\"convertToInteractive('df-df3d6cba-2c11-4cc5-9d4d-deb76a2ef617')\"\n",
              "              title=\"Convert this dataframe to an interactive table.\"\n",
              "              style=\"display:none;\">\n",
              "        \n",
              "  <svg xmlns=\"http://www.w3.org/2000/svg\" height=\"24px\"viewBox=\"0 0 24 24\"\n",
              "       width=\"24px\">\n",
              "    <path d=\"M0 0h24v24H0V0z\" fill=\"none\"/>\n",
              "    <path d=\"M18.56 5.44l.94 2.06.94-2.06 2.06-.94-2.06-.94-.94-2.06-.94 2.06-2.06.94zm-11 1L8.5 8.5l.94-2.06 2.06-.94-2.06-.94L8.5 2.5l-.94 2.06-2.06.94zm10 10l.94 2.06.94-2.06 2.06-.94-2.06-.94-.94-2.06-.94 2.06-2.06.94z\"/><path d=\"M17.41 7.96l-1.37-1.37c-.4-.4-.92-.59-1.43-.59-.52 0-1.04.2-1.43.59L10.3 9.45l-7.72 7.72c-.78.78-.78 2.05 0 2.83L4 21.41c.39.39.9.59 1.41.59.51 0 1.02-.2 1.41-.59l7.78-7.78 2.81-2.81c.8-.78.8-2.07 0-2.86zM5.41 20L4 18.59l7.72-7.72 1.47 1.35L5.41 20z\"/>\n",
              "  </svg>\n",
              "      </button>\n",
              "      \n",
              "  <style>\n",
              "    .colab-df-container {\n",
              "      display:flex;\n",
              "      flex-wrap:wrap;\n",
              "      gap: 12px;\n",
              "    }\n",
              "\n",
              "    .colab-df-convert {\n",
              "      background-color: #E8F0FE;\n",
              "      border: none;\n",
              "      border-radius: 50%;\n",
              "      cursor: pointer;\n",
              "      display: none;\n",
              "      fill: #1967D2;\n",
              "      height: 32px;\n",
              "      padding: 0 0 0 0;\n",
              "      width: 32px;\n",
              "    }\n",
              "\n",
              "    .colab-df-convert:hover {\n",
              "      background-color: #E2EBFA;\n",
              "      box-shadow: 0px 1px 2px rgba(60, 64, 67, 0.3), 0px 1px 3px 1px rgba(60, 64, 67, 0.15);\n",
              "      fill: #174EA6;\n",
              "    }\n",
              "\n",
              "    [theme=dark] .colab-df-convert {\n",
              "      background-color: #3B4455;\n",
              "      fill: #D2E3FC;\n",
              "    }\n",
              "\n",
              "    [theme=dark] .colab-df-convert:hover {\n",
              "      background-color: #434B5C;\n",
              "      box-shadow: 0px 1px 3px 1px rgba(0, 0, 0, 0.15);\n",
              "      filter: drop-shadow(0px 1px 2px rgba(0, 0, 0, 0.3));\n",
              "      fill: #FFFFFF;\n",
              "    }\n",
              "  </style>\n",
              "\n",
              "      <script>\n",
              "        const buttonEl =\n",
              "          document.querySelector('#df-df3d6cba-2c11-4cc5-9d4d-deb76a2ef617 button.colab-df-convert');\n",
              "        buttonEl.style.display =\n",
              "          google.colab.kernel.accessAllowed ? 'block' : 'none';\n",
              "\n",
              "        async function convertToInteractive(key) {\n",
              "          const element = document.querySelector('#df-df3d6cba-2c11-4cc5-9d4d-deb76a2ef617');\n",
              "          const dataTable =\n",
              "            await google.colab.kernel.invokeFunction('convertToInteractive',\n",
              "                                                     [key], {});\n",
              "          if (!dataTable) return;\n",
              "\n",
              "          const docLinkHtml = 'Like what you see? Visit the ' +\n",
              "            '<a target=\"_blank\" href=https://colab.research.google.com/notebooks/data_table.ipynb>data table notebook</a>'\n",
              "            + ' to learn more about interactive tables.';\n",
              "          element.innerHTML = '';\n",
              "          dataTable['output_type'] = 'display_data';\n",
              "          await google.colab.output.renderOutput(dataTable, element);\n",
              "          const docLink = document.createElement('div');\n",
              "          docLink.innerHTML = docLinkHtml;\n",
              "          element.appendChild(docLink);\n",
              "        }\n",
              "      </script>\n",
              "    </div>\n",
              "  </div>\n",
              "  "
            ]
          },
          "metadata": {},
          "execution_count": 180
        }
      ]
    },
    {
      "cell_type": "code",
      "source": [
        "pred_0 = df_pandas_new[df_pandas_new['prediction']==0]\n",
        "pred_1 = df_pandas_new[df_pandas_new['prediction']==1]\n",
        "pred_2 = df_pandas_new[df_pandas_new['prediction']==2]\n",
        "pred_3 = df_pandas_new[df_pandas_new['prediction']==3]\n",
        "pred_4 = df_pandas_new[df_pandas_new['prediction']==4]\n",
        "pred_5 = df_pandas_new[df_pandas_new['prediction']==5]\n",
        "\n",
        "print(\"Penyebaran Genre untuk Cluster 0\")\n",
        "print(pred_0['Genre'].value_counts())\n",
        "print()\n",
        "\n",
        "print(\"Penyebaran Genre untuk Cluster 1\")\n",
        "print(pred_1['Genre'].value_counts())\n",
        "print()\n",
        "\n",
        "print(\"Penyebaran Genre untuk Cluster 2\")\n",
        "print(pred_2['Genre'].value_counts())\n",
        "print()\n",
        "\n",
        "print(\"Penyebaran Genre untuk Cluster 3\")\n",
        "print(pred_3['Genre'].value_counts())\n",
        "print()\n",
        "\n",
        "print(\"Penyebaran Genre untuk Cluster 4\")\n",
        "print(pred_4['Genre'].value_counts())\n",
        "print()\n",
        "\n",
        "print(\"Penyebaran Genre untuk Cluster 5\")\n",
        "print(pred_5['Genre'].value_counts())\n",
        "print()"
      ],
      "metadata": {
        "colab": {
          "base_uri": "https://localhost:8080/"
        },
        "id": "cN8ERIEBPfu7",
        "outputId": "f1664f06-0177-4c17-c18d-bcb906e3c653"
      },
      "execution_count": null,
      "outputs": [
        {
          "output_type": "stream",
          "name": "stdout",
          "text": [
            "Penyebaran Genre untuk Cluster 0\n",
            "Female    14\n",
            "Male       9\n",
            "Name: Genre, dtype: int64\n",
            "\n",
            "Penyebaran Genre untuk Cluster 1\n",
            "Female    48\n",
            "Male      33\n",
            "Name: Genre, dtype: int64\n",
            "\n",
            "Penyebaran Genre untuk Cluster 2\n",
            "Male      19\n",
            "Female    16\n",
            "Name: Genre, dtype: int64\n",
            "\n",
            "Penyebaran Genre untuk Cluster 3\n",
            "Female    6\n",
            "Male      5\n",
            "Name: Genre, dtype: int64\n",
            "\n",
            "Penyebaran Genre untuk Cluster 4\n",
            "Female    15\n",
            "Male      13\n",
            "Name: Genre, dtype: int64\n",
            "\n",
            "Penyebaran Genre untuk Cluster 5\n",
            "Female    13\n",
            "Male       9\n",
            "Name: Genre, dtype: int64\n",
            "\n"
          ]
        }
      ]
    },
    {
      "cell_type": "code",
      "source": [
        "for i in range(6):\n",
        "  print(f'Cluster ke-{i}')\n",
        "  print('Rata-rata Annual Income (k$)  : ', df_pandas_new[df_pandas_new['prediction']==i]['Annual Income (k$)'].mean())\n",
        "  print('Rata-rata Spending Score (1-100) : ', df_pandas_new[df_pandas_new['prediction']==i]['Spending Score (1-100)'].mean())\n",
        "  print('Rata-rata Age  : ', df_pandas_new[df_pandas_new['prediction']==i]['Age'].mean())\n",
        "  print('Rata-rata Gender : ', df_pandas_new[df_pandas_new['prediction']==i]['Genre_ohe'].mean())\n",
        "  print()"
      ],
      "metadata": {
        "colab": {
          "base_uri": "https://localhost:8080/"
        },
        "id": "Eis4BfBU6JBA",
        "outputId": "c0874895-cc94-4879-e6ca-c332fe5123d1"
      },
      "execution_count": null,
      "outputs": [
        {
          "output_type": "stream",
          "name": "stdout",
          "text": [
            "Cluster ke-0\n",
            "Rata-rata Annual Income (k$)  :  26.304347826086957\n",
            "Rata-rata Spending Score (1-100) :  20.91304347826087\n",
            "Rata-rata Age  :  45.21739130434783\n",
            "Rata-rata Gender :  0.391304347826087\n",
            "\n",
            "Cluster ke-1\n",
            "Rata-rata Annual Income (k$)  :  55.2962962962963\n",
            "Rata-rata Spending Score (1-100) :  49.51851851851852\n",
            "Rata-rata Age  :  42.71604938271605\n",
            "Rata-rata Gender :  0.4074074074074074\n",
            "\n",
            "Cluster ke-2\n",
            "Rata-rata Annual Income (k$)  :  88.2\n",
            "Rata-rata Spending Score (1-100) :  17.114285714285714\n",
            "Rata-rata Age  :  41.114285714285714\n",
            "Rata-rata Gender :  0.5428571428571428\n",
            "\n",
            "Cluster ke-3\n",
            "Rata-rata Annual Income (k$)  :  108.18181818181819\n",
            "Rata-rata Spending Score (1-100) :  82.72727272727273\n",
            "Rata-rata Age  :  32.45454545454545\n",
            "Rata-rata Gender :  0.45454545454545453\n",
            "\n",
            "Cluster ke-4\n",
            "Rata-rata Annual Income (k$)  :  78.03571428571429\n",
            "Rata-rata Spending Score (1-100) :  81.89285714285714\n",
            "Rata-rata Age  :  32.785714285714285\n",
            "Rata-rata Gender :  0.4642857142857143\n",
            "\n",
            "Cluster ke-5\n",
            "Rata-rata Annual Income (k$)  :  25.727272727272727\n",
            "Rata-rata Spending Score (1-100) :  79.36363636363636\n",
            "Rata-rata Age  :  25.272727272727273\n",
            "Rata-rata Gender :  0.4090909090909091\n",
            "\n"
          ]
        }
      ]
    },
    {
      "cell_type": "markdown",
      "source": [
        "### **Vector Assembler for Regression**"
      ],
      "metadata": {
        "id": "WeYhWUc89g1e"
      }
    },
    {
      "cell_type": "code",
      "source": [
        "sel_col = ['Annual Income (k$)', 'Spending Score (1-100)','Genre_ohe']\n",
        "assemble_reg = VectorAssembler(inputCols=sel_col, outputCol = 'target_reg')\n",
        "assembled_member_reg = assemble_reg.transform(df_member)"
      ],
      "metadata": {
        "id": "7UUcsW0a9kI6"
      },
      "execution_count": null,
      "outputs": []
    },
    {
      "cell_type": "code",
      "source": [
        "finalised_data = assembled_member_reg.select('target_reg', 'Age_ohe')\n",
        "finalised_data.show()"
      ],
      "metadata": {
        "colab": {
          "base_uri": "https://localhost:8080/"
        },
        "id": "0ZxYcl_t9ChJ",
        "outputId": "627c66ef-b61e-4c12-84a2-60998dfa6203"
      },
      "execution_count": null,
      "outputs": [
        {
          "output_type": "stream",
          "name": "stdout",
          "text": [
            "+---------------+-------+\n",
            "|     target_reg|Age_ohe|\n",
            "+---------------+-------+\n",
            "|[15.0,39.0,1.0]|    2.0|\n",
            "|[15.0,81.0,1.0]|    2.0|\n",
            "| [16.0,6.0,0.0]|    2.0|\n",
            "|[16.0,77.0,0.0]|    2.0|\n",
            "|[17.0,40.0,0.0]|    0.0|\n",
            "|[17.0,76.0,0.0]|    2.0|\n",
            "| [18.0,6.0,0.0]|    0.0|\n",
            "|[18.0,94.0,0.0]|    2.0|\n",
            "| [19.0,3.0,1.0]|    3.0|\n",
            "|[19.0,72.0,0.0]|    0.0|\n",
            "|[19.0,14.0,1.0]|    3.0|\n",
            "|[19.0,99.0,0.0]|    0.0|\n",
            "|[20.0,15.0,0.0]|    3.0|\n",
            "|[20.0,77.0,0.0]|    2.0|\n",
            "|[20.0,13.0,1.0]|    0.0|\n",
            "|[20.0,79.0,1.0]|    2.0|\n",
            "|[21.0,35.0,0.0]|    0.0|\n",
            "|[21.0,66.0,1.0]|    2.0|\n",
            "|[23.0,29.0,1.0]|    1.0|\n",
            "|[23.0,98.0,0.0]|    0.0|\n",
            "+---------------+-------+\n",
            "only showing top 20 rows\n",
            "\n"
          ]
        }
      ]
    },
    {
      "cell_type": "code",
      "source": [
        "train, test = finalised_data.randomSplit([0.7, 0.3])"
      ],
      "metadata": {
        "id": "X3dR0ury-CXh"
      },
      "execution_count": null,
      "outputs": []
    },
    {
      "cell_type": "markdown",
      "source": [
        "### **2. Linear Regression**"
      ],
      "metadata": {
        "id": "U1-Hk7y4Ihpa"
      }
    },
    {
      "cell_type": "code",
      "source": [
        "from pyspark.ml.regression import LinearRegression\n",
        "\n",
        "lr = LinearRegression(featuresCol = 'target_reg', labelCol=\"Age_ohe\")\n",
        "lrn = lr.fit(train)"
      ],
      "metadata": {
        "id": "iD7l1hLi_CDk"
      },
      "execution_count": null,
      "outputs": []
    },
    {
      "cell_type": "code",
      "source": [
        "#make predictions on the test set\n",
        "predictions = lrn.transform(test)\n",
        "\n",
        "# show the predicted values and the actual values\n",
        "predictions.select('prediction' ,'Age_ohe').show(10)"
      ],
      "metadata": {
        "colab": {
          "base_uri": "https://localhost:8080/"
        },
        "id": "OnUAj1rp_D03",
        "outputId": "0779e7b0-d69a-4d3f-d7c7-dad95d499a16"
      },
      "execution_count": null,
      "outputs": [
        {
          "output_type": "stream",
          "name": "stdout",
          "text": [
            "+------------------+-------+\n",
            "|        prediction|Age_ohe|\n",
            "+------------------+-------+\n",
            "|  1.43103257176765|    0.0|\n",
            "| 1.061012495864306|    2.0|\n",
            "|1.7705025706686652|    0.0|\n",
            "|1.9036459449980372|    3.0|\n",
            "|1.6580107394552095|    3.0|\n",
            "|1.3491856897889205|    2.0|\n",
            "|1.8965018321087248|    3.0|\n",
            "|1.5383747953524414|    1.0|\n",
            "|0.9620280948774542|    2.0|\n",
            "|1.3750611455760875|    0.0|\n",
            "+------------------+-------+\n",
            "only showing top 10 rows\n",
            "\n"
          ]
        }
      ]
    },
    {
      "cell_type": "code",
      "source": [
        "from pyspark.ml.evaluation import RegressionEvaluator\n",
        "#RMSE on test set\n",
        "evaluator = RegressionEvaluator(predictionCol='prediction', \n",
        "                                labelCol='Age_ohe', metricName='rmse')\n",
        "rmse_test = evaluator.evaluate(predictions)\n",
        "print('RMSE on test set: ', rmse_test)"
      ],
      "metadata": {
        "colab": {
          "base_uri": "https://localhost:8080/"
        },
        "id": "fbz-g0cJENz3",
        "outputId": "a555fa34-46cc-4615-ec4d-047d7081557b"
      },
      "execution_count": null,
      "outputs": [
        {
          "output_type": "stream",
          "name": "stdout",
          "text": [
            "RMSE on test set:  1.0047258773637804\n"
          ]
        }
      ]
    },
    {
      "cell_type": "markdown",
      "source": [
        "### **3. Decision Tree Regression**"
      ],
      "metadata": {
        "id": "wKnKygwoJLrW"
      }
    },
    {
      "cell_type": "code",
      "source": [
        "from pyspark.ml.regression import DecisionTreeRegressor\n",
        "\n",
        "tree = DecisionTreeRegressor(featuresCol = 'target_reg', labelCol=\"Age_ohe\")\n",
        "dec3 = tree.fit(train)"
      ],
      "metadata": {
        "id": "BjT3q-WxLxTq"
      },
      "execution_count": null,
      "outputs": []
    },
    {
      "cell_type": "code",
      "source": [
        "#make predictions on the test set\n",
        "predictions_dec3 = dec3.transform(test)\n",
        "\n",
        "# show the predicted values and the actual values\n",
        "predictions_dec3.select('prediction' ,'Age_ohe').show(10)"
      ],
      "metadata": {
        "colab": {
          "base_uri": "https://localhost:8080/"
        },
        "id": "_e8-NnthL58x",
        "outputId": "fa0d2cfd-6e5b-484e-a675-930190e43fe1"
      },
      "execution_count": null,
      "outputs": [
        {
          "output_type": "stream",
          "name": "stdout",
          "text": [
            "+------------------+-------+\n",
            "|        prediction|Age_ohe|\n",
            "+------------------+-------+\n",
            "|               2.0|    0.0|\n",
            "|               2.0|    2.0|\n",
            "|               2.0|    0.0|\n",
            "|              0.52|    3.0|\n",
            "|              0.52|    3.0|\n",
            "|              0.52|    2.0|\n",
            "|               2.0|    3.0|\n",
            "|              0.52|    1.0|\n",
            "|1.7142857142857142|    2.0|\n",
            "|              0.52|    0.0|\n",
            "+------------------+-------+\n",
            "only showing top 10 rows\n",
            "\n"
          ]
        }
      ]
    },
    {
      "cell_type": "code",
      "source": [
        "from pyspark.ml.evaluation import RegressionEvaluator\n",
        "#RMSE on test set\n",
        "dt_evaluator = RegressionEvaluator(predictionCol='prediction', \n",
        "                                labelCol='Age_ohe', metricName='rmse')\n",
        "rmse_test = dt_evaluator.evaluate(predictions_dec3)\n",
        "print('RMSE on test set: ', rmse_test)"
      ],
      "metadata": {
        "colab": {
          "base_uri": "https://localhost:8080/"
        },
        "id": "Gr7DQ51PL9vF",
        "outputId": "0e4313ad-16a1-4690-ca7f-5be7d49debcc"
      },
      "execution_count": null,
      "outputs": [
        {
          "output_type": "stream",
          "name": "stdout",
          "text": [
            "RMSE on test set:  1.2338008234635234\n"
          ]
        }
      ]
    },
    {
      "cell_type": "code",
      "source": [
        "dec3.featureImportances"
      ],
      "metadata": {
        "colab": {
          "base_uri": "https://localhost:8080/"
        },
        "id": "5fCJIxJuMRP7",
        "outputId": "3010c6c3-8e3f-4d40-f3e0-9c71cead212f"
      },
      "execution_count": null,
      "outputs": [
        {
          "output_type": "execute_result",
          "data": {
            "text/plain": [
              "SparseVector(3, {0: 0.5993, 1: 0.3855, 2: 0.0152})"
            ]
          },
          "metadata": {},
          "execution_count": 128
        }
      ]
    },
    {
      "cell_type": "markdown",
      "source": [
        "### **4. Gradient-boosted Tree Regression**"
      ],
      "metadata": {
        "id": "7l0yPuytNCdC"
      }
    },
    {
      "cell_type": "code",
      "source": [
        "from pyspark.ml.regression import GBTRegressor\n",
        "\n",
        "gr = GBTRegressor(featuresCol = 'target_reg', labelCol=\"Age_ohe\")\n",
        "grad = gr.fit(train)"
      ],
      "metadata": {
        "id": "JfGCrmLPM0Kp"
      },
      "execution_count": null,
      "outputs": []
    },
    {
      "cell_type": "code",
      "source": [
        "#make predictions on the test set\n",
        "predictions_grad = grad.transform(test)\n",
        "\n",
        "# show the predicted values and the actual values\n",
        "predictions_grad.select('prediction' ,'Age_ohe').show(10)"
      ],
      "metadata": {
        "colab": {
          "base_uri": "https://localhost:8080/"
        },
        "id": "Ew9rg-XzNO73",
        "outputId": "629c40c1-5acb-4e28-c4a4-fede11012f66"
      },
      "execution_count": null,
      "outputs": [
        {
          "output_type": "stream",
          "name": "stdout",
          "text": [
            "+--------------------+-------+\n",
            "|          prediction|Age_ohe|\n",
            "+--------------------+-------+\n",
            "|-0.05253252316687164|    0.0|\n",
            "|  1.7945416458383812|    0.0|\n",
            "|   3.226201296365298|    0.0|\n",
            "|  0.5180863018403175|    0.0|\n",
            "|  0.6302638844651157|    0.0|\n",
            "|   1.032731007191332|    1.0|\n",
            "|  0.7637786576729885|    0.0|\n",
            "|  1.7383259098083719|    2.0|\n",
            "|  0.8918774026064828|    1.0|\n",
            "|  1.5509069830566353|    2.0|\n",
            "+--------------------+-------+\n",
            "only showing top 10 rows\n",
            "\n"
          ]
        }
      ]
    },
    {
      "cell_type": "code",
      "source": [
        "from pyspark.ml.evaluation import RegressionEvaluator\n",
        "#RMSE on test set\n",
        "gbt_evaluator = RegressionEvaluator(predictionCol='prediction', \n",
        "                                labelCol='Age_ohe', metricName='rmse')\n",
        "rmse_test = gbt_evaluator.evaluate(predictions_grad)\n",
        "print('RMSE on test set: ', rmse_test)"
      ],
      "metadata": {
        "colab": {
          "base_uri": "https://localhost:8080/"
        },
        "id": "qqw2OXEqNTlL",
        "outputId": "3ce9ac35-6652-4741-f27b-a0a338efa89d"
      },
      "execution_count": null,
      "outputs": [
        {
          "output_type": "stream",
          "name": "stdout",
          "text": [
            "RMSE on test set:  1.1285804415116063\n"
          ]
        }
      ]
    }
  ]
}